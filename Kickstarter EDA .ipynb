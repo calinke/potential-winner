{
 "cells": [
  {
   "cell_type": "markdown",
   "metadata": {},
   "source": [
    "## EDA of Kickstarter Data\n",
    "\n",
    "For this project we're going to explore a free dataset on Kaggle with Kickstarter project data from May 2009 to March 2018. We will perform some EDA on the data (Exploratory Data Analysis) to gather any insights. \n",
    "\n",
    "**Questions to Answer:**  \n",
    "1a. Examine the `state` column to see unique values and counts.  \n",
    "1b. Show a pie chart of the `state` project count for all projects.  \n",
    "1c. Create a new \"Completed\" dataframe that removes any rows with state of 'live', 'undefined', or suspended.  \n",
    "*note - from here out we'll be looking at the completed project data unless mentioned otherwise*\n",
    "\n",
    "2a. What is the overall success rate for all completed kickstarter projects?  \n",
    "2b. Which 5 projects were pledged the most money (usd_pledged_real)?  \n",
    "2c. Which 5 projects had the most backers?  \n",
    "2d. Which year had the most competition? (# of projects)  \n",
    "\n",
    "3a. What is the success rate for all projects broken down by `main_category`?  \n",
    "3b. Show a horizontal bar chart for project success rate by `main_category`, sorted by highest to lowest.  \n",
    "3c. Within the Games `main_category`, what is the success rate for each `category` within it?  \n",
    "\n",
    "4a. Calculate the 'pct_of_goal' for each completed project  \n",
    "4b. What were the top 5 projects when looking at pct_of_goal for all time?  \n",
    "4c. Plot a histogram distribution of all completed projects by pct_of_goal  \n",
    "4d. Create 2 histogram subplots by pct_of_goal: 1) state=successful, and 2) all others (failed)  \n",
    "\n",
    "5a. What is the average `usd_goal_real` for all *completed* kickstarter projects, broken down by `main_category`.  \n",
    "5b. What is the median `usd_goal_real` for all *completed* kickstarter projects, broken down by `main_category`.  \n",
    "5c. What is the average `usd_pledged_real` for all *completed* kickstarter projects, broken down by `main_category`.  \n",
    "5d. What is the median `usd_pledged_real` for all *completed* kickstarter projects, broken down by `main_category`.  \n",
    "5e. What insights does this information provide?  \n",
    "5f. Based on this information, if someone wanted to choose the `main_category` with the highest combined success rate and pledged dollar amount, which one would you recommend?  \n",
    "\n",
    "6a. Create a new column 'months' that shows how many months the project was active between launch and deadline.  \n",
    "6b. Compare the avg months for successful projects vs non-successful.  Add visuals if you'd like.  \n",
    "6c. Does the length of a project in months seem to have an impact?  \n",
    "\n",
    "*Let's zoom in on Games: Video Games (main_category: category)*\n",
    "\n",
    "7a. Calculate the expected value for the Games: Video Games category, with the expected value defined as (median of usd_pledged_real)* (success rate of completed projects).  \n",
    "7b. Do this again but broken down by deadline year  \n",
    "7c. Show this in a bar chart  \n",
    "7d. What insights does this data provide you?  \n",
    "\n",
    "*Let's zoom in on personal planners*\n",
    "\n",
    "8a. Calculate the project count, success rate, and pct_of_goal for all projects with 'planner' in the name.  Check for spelling variations in upper/lowercase.  \n",
    "8b. How about all projects with both 'planner' and 'Panda' in the name?  \n",
    "8c. Congrats Panda Planner!  (That's my bro's company)\n"
   ]
  },
  {
   "cell_type": "markdown",
   "metadata": {},
   "source": [
    "First, lets open the data set and have a look at some rows and columns:"
   ]
  },
  {
   "cell_type": "code",
   "execution_count": 2,
   "metadata": {},
   "outputs": [],
   "source": [
    "from csv import reader\n",
    "import os\n",
    "import pandas as pd\n",
    "from operator import itemgetter\n",
    "import matplotlib.pyplot as plt\n",
    "import seaborn as sns\n",
    "import numpy as np\n",
    "\n",
    "%matplotlib inline\n",
    "\n"
   ]
  },
  {
   "cell_type": "code",
   "execution_count": 3,
   "metadata": {},
   "outputs": [],
   "source": [
    "ks_data = pd.read_csv('ks-data.csv')"
   ]
  },
  {
   "cell_type": "code",
   "execution_count": 4,
   "metadata": {},
   "outputs": [
    {
     "data": {
      "text/html": [
       "<div>\n",
       "<style scoped>\n",
       "    .dataframe tbody tr th:only-of-type {\n",
       "        vertical-align: middle;\n",
       "    }\n",
       "\n",
       "    .dataframe tbody tr th {\n",
       "        vertical-align: top;\n",
       "    }\n",
       "\n",
       "    .dataframe thead th {\n",
       "        text-align: right;\n",
       "    }\n",
       "</style>\n",
       "<table border=\"1\" class=\"dataframe\">\n",
       "  <thead>\n",
       "    <tr style=\"text-align: right;\">\n",
       "      <th></th>\n",
       "      <th>ID</th>\n",
       "      <th>name</th>\n",
       "      <th>category</th>\n",
       "      <th>main_category</th>\n",
       "      <th>currency</th>\n",
       "      <th>deadline</th>\n",
       "      <th>goal</th>\n",
       "      <th>launched</th>\n",
       "      <th>pledged</th>\n",
       "      <th>state</th>\n",
       "      <th>backers</th>\n",
       "      <th>country</th>\n",
       "      <th>usd pledged</th>\n",
       "      <th>usd_pledged_real</th>\n",
       "      <th>usd_goal_real</th>\n",
       "    </tr>\n",
       "  </thead>\n",
       "  <tbody>\n",
       "    <tr>\n",
       "      <th>0</th>\n",
       "      <td>1000002330</td>\n",
       "      <td>The Songs of Adelaide &amp; Abullah</td>\n",
       "      <td>Poetry</td>\n",
       "      <td>Publishing</td>\n",
       "      <td>GBP</td>\n",
       "      <td>2015-10-09</td>\n",
       "      <td>1000.0</td>\n",
       "      <td>2015-08-11 12:12:28</td>\n",
       "      <td>0.0</td>\n",
       "      <td>failed</td>\n",
       "      <td>0</td>\n",
       "      <td>GB</td>\n",
       "      <td>0.0</td>\n",
       "      <td>0.0</td>\n",
       "      <td>1533.95</td>\n",
       "    </tr>\n",
       "    <tr>\n",
       "      <th>1</th>\n",
       "      <td>1000003930</td>\n",
       "      <td>Greeting From Earth: ZGAC Arts Capsule For ET</td>\n",
       "      <td>Narrative Film</td>\n",
       "      <td>Film &amp; Video</td>\n",
       "      <td>USD</td>\n",
       "      <td>2017-11-01</td>\n",
       "      <td>30000.0</td>\n",
       "      <td>2017-09-02 04:43:57</td>\n",
       "      <td>2421.0</td>\n",
       "      <td>failed</td>\n",
       "      <td>15</td>\n",
       "      <td>US</td>\n",
       "      <td>100.0</td>\n",
       "      <td>2421.0</td>\n",
       "      <td>30000.00</td>\n",
       "    </tr>\n",
       "    <tr>\n",
       "      <th>2</th>\n",
       "      <td>1000004038</td>\n",
       "      <td>Where is Hank?</td>\n",
       "      <td>Narrative Film</td>\n",
       "      <td>Film &amp; Video</td>\n",
       "      <td>USD</td>\n",
       "      <td>2013-02-26</td>\n",
       "      <td>45000.0</td>\n",
       "      <td>2013-01-12 00:20:50</td>\n",
       "      <td>220.0</td>\n",
       "      <td>failed</td>\n",
       "      <td>3</td>\n",
       "      <td>US</td>\n",
       "      <td>220.0</td>\n",
       "      <td>220.0</td>\n",
       "      <td>45000.00</td>\n",
       "    </tr>\n",
       "    <tr>\n",
       "      <th>3</th>\n",
       "      <td>1000007540</td>\n",
       "      <td>ToshiCapital Rekordz Needs Help to Complete Album</td>\n",
       "      <td>Music</td>\n",
       "      <td>Music</td>\n",
       "      <td>USD</td>\n",
       "      <td>2012-04-16</td>\n",
       "      <td>5000.0</td>\n",
       "      <td>2012-03-17 03:24:11</td>\n",
       "      <td>1.0</td>\n",
       "      <td>failed</td>\n",
       "      <td>1</td>\n",
       "      <td>US</td>\n",
       "      <td>1.0</td>\n",
       "      <td>1.0</td>\n",
       "      <td>5000.00</td>\n",
       "    </tr>\n",
       "    <tr>\n",
       "      <th>4</th>\n",
       "      <td>1000011046</td>\n",
       "      <td>Community Film Project: The Art of Neighborhoo...</td>\n",
       "      <td>Film &amp; Video</td>\n",
       "      <td>Film &amp; Video</td>\n",
       "      <td>USD</td>\n",
       "      <td>2015-08-29</td>\n",
       "      <td>19500.0</td>\n",
       "      <td>2015-07-04 08:35:03</td>\n",
       "      <td>1283.0</td>\n",
       "      <td>canceled</td>\n",
       "      <td>14</td>\n",
       "      <td>US</td>\n",
       "      <td>1283.0</td>\n",
       "      <td>1283.0</td>\n",
       "      <td>19500.00</td>\n",
       "    </tr>\n",
       "  </tbody>\n",
       "</table>\n",
       "</div>"
      ],
      "text/plain": [
       "           ID                                               name  \\\n",
       "0  1000002330                    The Songs of Adelaide & Abullah   \n",
       "1  1000003930      Greeting From Earth: ZGAC Arts Capsule For ET   \n",
       "2  1000004038                                     Where is Hank?   \n",
       "3  1000007540  ToshiCapital Rekordz Needs Help to Complete Album   \n",
       "4  1000011046  Community Film Project: The Art of Neighborhoo...   \n",
       "\n",
       "         category main_category currency    deadline     goal  \\\n",
       "0          Poetry    Publishing      GBP  2015-10-09   1000.0   \n",
       "1  Narrative Film  Film & Video      USD  2017-11-01  30000.0   \n",
       "2  Narrative Film  Film & Video      USD  2013-02-26  45000.0   \n",
       "3           Music         Music      USD  2012-04-16   5000.0   \n",
       "4    Film & Video  Film & Video      USD  2015-08-29  19500.0   \n",
       "\n",
       "              launched  pledged     state  backers country  usd pledged  \\\n",
       "0  2015-08-11 12:12:28      0.0    failed        0      GB          0.0   \n",
       "1  2017-09-02 04:43:57   2421.0    failed       15      US        100.0   \n",
       "2  2013-01-12 00:20:50    220.0    failed        3      US        220.0   \n",
       "3  2012-03-17 03:24:11      1.0    failed        1      US          1.0   \n",
       "4  2015-07-04 08:35:03   1283.0  canceled       14      US       1283.0   \n",
       "\n",
       "   usd_pledged_real  usd_goal_real  \n",
       "0               0.0        1533.95  \n",
       "1            2421.0       30000.00  \n",
       "2             220.0       45000.00  \n",
       "3               1.0        5000.00  \n",
       "4            1283.0       19500.00  "
      ]
     },
     "execution_count": 4,
     "metadata": {},
     "output_type": "execute_result"
    }
   ],
   "source": [
    "ks_data.head()\n",
    "\n"
   ]
  },
  {
   "cell_type": "markdown",
   "metadata": {},
   "source": [
    "### 1a. Examine the `state` column to see unique values and counts"
   ]
  },
  {
   "cell_type": "code",
   "execution_count": 5,
   "metadata": {},
   "outputs": [
    {
     "data": {
      "text/plain": [
       "array(['failed', 'canceled', 'successful', 'live', 'undefined',\n",
       "       'suspended'], dtype=object)"
      ]
     },
     "execution_count": 5,
     "metadata": {},
     "output_type": "execute_result"
    }
   ],
   "source": [
    "ks_data[\"state\"].unique()"
   ]
  },
  {
   "cell_type": "code",
   "execution_count": 6,
   "metadata": {},
   "outputs": [
    {
     "data": {
      "text/plain": [
       "failed        197719\n",
       "successful    133956\n",
       "canceled       38779\n",
       "undefined       3562\n",
       "live            2799\n",
       "suspended       1846\n",
       "Name: state, dtype: int64"
      ]
     },
     "execution_count": 6,
     "metadata": {},
     "output_type": "execute_result"
    }
   ],
   "source": [
    "ks_data[\"state\"].value_counts()"
   ]
  },
  {
   "cell_type": "markdown",
   "metadata": {},
   "source": [
    "### 1b. Show a pie chart of the `state` project count for all projects."
   ]
  },
  {
   "cell_type": "code",
   "execution_count": 7,
   "metadata": {},
   "outputs": [
    {
     "data": {
      "image/png": "[encoded data removed]",
      "text/plain": [
       "<Figure size 720x720 with 1 Axes>"
      ]
     },
     "metadata": {},
     "output_type": "display_data"
    }
   ],
   "source": [
    "# Pie chart, where the slices will be ordered and plotted counter-clockwise:\n",
    "labels = 'Failed', 'Successful', 'Canceled', 'Undefined', 'Live', 'Suspended'\n",
    "sizes = [197719, 133956, 38779, 3562, 2799, 1846]\n",
    "fig1, ax1 = plt.subplots(figsize=(10,10))\n",
    "ax1.pie(sizes, labels=labels, autopct='%1.1f%%',\n",
    "        shadow=True, startangle=180)\n",
    "ax1.axis('equal')  # Equal aspect ratio ensures that pie is drawn as a circle.\n",
    "plt.show()"
   ]
  },
  {
   "cell_type": "markdown",
   "metadata": {},
   "source": [
    "### 1c. Create a new \"Completed\" dataframe that removes any rows with `state` of 'live', 'undefined', or suspended.\n",
    "\n",
    "*note - from here out we'll be looking at the completed project data unless mentioned otherwise"
   ]
  },
  {
   "cell_type": "code",
   "execution_count": 8,
   "metadata": {},
   "outputs": [],
   "source": [
    "ks_f = ks_data.loc[ks_data[\"state\"] == \"failed\"]\n",
    "ks_s = ks_data.loc[ks_data[\"state\"] == \"successful\"]\n",
    "ks_c = ks_data.loc[ks_data[\"state\"] ==\"canceled\"]\n",
    "ks_complete = pd.concat([ks_f, ks_s, ks_c])"
   ]
  },
  {
   "cell_type": "code",
   "execution_count": 9,
   "metadata": {},
   "outputs": [
    {
     "data": {
      "text/html": [
       "<div>\n",
       "<style scoped>\n",
       "    .dataframe tbody tr th:only-of-type {\n",
       "        vertical-align: middle;\n",
       "    }\n",
       "\n",
       "    .dataframe tbody tr th {\n",
       "        vertical-align: top;\n",
       "    }\n",
       "\n",
       "    .dataframe thead th {\n",
       "        text-align: right;\n",
       "    }\n",
       "</style>\n",
       "<table border=\"1\" class=\"dataframe\">\n",
       "  <thead>\n",
       "    <tr style=\"text-align: right;\">\n",
       "      <th></th>\n",
       "      <th>ID</th>\n",
       "      <th>name</th>\n",
       "      <th>category</th>\n",
       "      <th>main_category</th>\n",
       "      <th>currency</th>\n",
       "      <th>deadline</th>\n",
       "      <th>goal</th>\n",
       "      <th>launched</th>\n",
       "      <th>pledged</th>\n",
       "      <th>state</th>\n",
       "      <th>backers</th>\n",
       "      <th>country</th>\n",
       "      <th>usd pledged</th>\n",
       "      <th>usd_pledged_real</th>\n",
       "      <th>usd_goal_real</th>\n",
       "    </tr>\n",
       "  </thead>\n",
       "  <tbody>\n",
       "    <tr>\n",
       "      <th>0</th>\n",
       "      <td>1000002330</td>\n",
       "      <td>The Songs of Adelaide &amp; Abullah</td>\n",
       "      <td>Poetry</td>\n",
       "      <td>Publishing</td>\n",
       "      <td>GBP</td>\n",
       "      <td>2015-10-09</td>\n",
       "      <td>1000.0</td>\n",
       "      <td>2015-08-11 12:12:28</td>\n",
       "      <td>0.0</td>\n",
       "      <td>failed</td>\n",
       "      <td>0</td>\n",
       "      <td>GB</td>\n",
       "      <td>0.0</td>\n",
       "      <td>0.0</td>\n",
       "      <td>1533.95</td>\n",
       "    </tr>\n",
       "    <tr>\n",
       "      <th>1</th>\n",
       "      <td>1000003930</td>\n",
       "      <td>Greeting From Earth: ZGAC Arts Capsule For ET</td>\n",
       "      <td>Narrative Film</td>\n",
       "      <td>Film &amp; Video</td>\n",
       "      <td>USD</td>\n",
       "      <td>2017-11-01</td>\n",
       "      <td>30000.0</td>\n",
       "      <td>2017-09-02 04:43:57</td>\n",
       "      <td>2421.0</td>\n",
       "      <td>failed</td>\n",
       "      <td>15</td>\n",
       "      <td>US</td>\n",
       "      <td>100.0</td>\n",
       "      <td>2421.0</td>\n",
       "      <td>30000.00</td>\n",
       "    </tr>\n",
       "    <tr>\n",
       "      <th>2</th>\n",
       "      <td>1000004038</td>\n",
       "      <td>Where is Hank?</td>\n",
       "      <td>Narrative Film</td>\n",
       "      <td>Film &amp; Video</td>\n",
       "      <td>USD</td>\n",
       "      <td>2013-02-26</td>\n",
       "      <td>45000.0</td>\n",
       "      <td>2013-01-12 00:20:50</td>\n",
       "      <td>220.0</td>\n",
       "      <td>failed</td>\n",
       "      <td>3</td>\n",
       "      <td>US</td>\n",
       "      <td>220.0</td>\n",
       "      <td>220.0</td>\n",
       "      <td>45000.00</td>\n",
       "    </tr>\n",
       "    <tr>\n",
       "      <th>3</th>\n",
       "      <td>1000007540</td>\n",
       "      <td>ToshiCapital Rekordz Needs Help to Complete Album</td>\n",
       "      <td>Music</td>\n",
       "      <td>Music</td>\n",
       "      <td>USD</td>\n",
       "      <td>2012-04-16</td>\n",
       "      <td>5000.0</td>\n",
       "      <td>2012-03-17 03:24:11</td>\n",
       "      <td>1.0</td>\n",
       "      <td>failed</td>\n",
       "      <td>1</td>\n",
       "      <td>US</td>\n",
       "      <td>1.0</td>\n",
       "      <td>1.0</td>\n",
       "      <td>5000.00</td>\n",
       "    </tr>\n",
       "    <tr>\n",
       "      <th>7</th>\n",
       "      <td>1000030581</td>\n",
       "      <td>Chaser Strips. Our Strips make Shots their B*tch!</td>\n",
       "      <td>Drinks</td>\n",
       "      <td>Food</td>\n",
       "      <td>USD</td>\n",
       "      <td>2016-03-17</td>\n",
       "      <td>25000.0</td>\n",
       "      <td>2016-02-01 20:05:12</td>\n",
       "      <td>453.0</td>\n",
       "      <td>failed</td>\n",
       "      <td>40</td>\n",
       "      <td>US</td>\n",
       "      <td>453.0</td>\n",
       "      <td>453.0</td>\n",
       "      <td>25000.00</td>\n",
       "    </tr>\n",
       "  </tbody>\n",
       "</table>\n",
       "</div>"
      ],
      "text/plain": [
       "           ID                                               name  \\\n",
       "0  1000002330                    The Songs of Adelaide & Abullah   \n",
       "1  1000003930      Greeting From Earth: ZGAC Arts Capsule For ET   \n",
       "2  1000004038                                     Where is Hank?   \n",
       "3  1000007540  ToshiCapital Rekordz Needs Help to Complete Album   \n",
       "7  1000030581  Chaser Strips. Our Strips make Shots their B*tch!   \n",
       "\n",
       "         category main_category currency    deadline     goal  \\\n",
       "0          Poetry    Publishing      GBP  2015-10-09   1000.0   \n",
       "1  Narrative Film  Film & Video      USD  2017-11-01  30000.0   \n",
       "2  Narrative Film  Film & Video      USD  2013-02-26  45000.0   \n",
       "3           Music         Music      USD  2012-04-16   5000.0   \n",
       "7          Drinks          Food      USD  2016-03-17  25000.0   \n",
       "\n",
       "              launched  pledged   state  backers country  usd pledged  \\\n",
       "0  2015-08-11 12:12:28      0.0  failed        0      GB          0.0   \n",
       "1  2017-09-02 04:43:57   2421.0  failed       15      US        100.0   \n",
       "2  2013-01-12 00:20:50    220.0  failed        3      US        220.0   \n",
       "3  2012-03-17 03:24:11      1.0  failed        1      US          1.0   \n",
       "7  2016-02-01 20:05:12    453.0  failed       40      US        453.0   \n",
       "\n",
       "   usd_pledged_real  usd_goal_real  \n",
       "0               0.0        1533.95  \n",
       "1            2421.0       30000.00  \n",
       "2             220.0       45000.00  \n",
       "3               1.0        5000.00  \n",
       "7             453.0       25000.00  "
      ]
     },
     "execution_count": 9,
     "metadata": {},
     "output_type": "execute_result"
    }
   ],
   "source": [
    "ks_complete.head()"
   ]
  },
  {
   "cell_type": "markdown",
   "metadata": {},
   "source": [
    "### 2a. What is the overall success rate for all completed kickstarter projects?"
   ]
  },
  {
   "cell_type": "code",
   "execution_count": 10,
   "metadata": {},
   "outputs": [],
   "source": [
    "av_success = len(ks_s) / len(ks_complete)\n",
    "rate = round(av_success, 2) * 100"
   ]
  },
  {
   "cell_type": "code",
   "execution_count": 11,
   "metadata": {},
   "outputs": [
    {
     "name": "stdout",
     "output_type": "stream",
     "text": [
      "The overall success rate for completed Kickstarter projects is 36.0%\n"
     ]
    }
   ],
   "source": [
    "print(\"The overall success rate for completed Kickstarter projects is \" + str(rate) +\"%\")"
   ]
  },
  {
   "cell_type": "markdown",
   "metadata": {},
   "source": [
    "### 2b. Which 5 projects were pledged the most money (usd_pledged_real)?"
   ]
  },
  {
   "cell_type": "code",
   "execution_count": 12,
   "metadata": {},
   "outputs": [
    {
     "data": {
      "text/html": [
       "<div>\n",
       "<style scoped>\n",
       "    .dataframe tbody tr th:only-of-type {\n",
       "        vertical-align: middle;\n",
       "    }\n",
       "\n",
       "    .dataframe tbody tr th {\n",
       "        vertical-align: top;\n",
       "    }\n",
       "\n",
       "    .dataframe thead th {\n",
       "        text-align: right;\n",
       "    }\n",
       "</style>\n",
       "<table border=\"1\" class=\"dataframe\">\n",
       "  <thead>\n",
       "    <tr style=\"text-align: right;\">\n",
       "      <th></th>\n",
       "      <th>ID</th>\n",
       "      <th>name</th>\n",
       "      <th>category</th>\n",
       "      <th>main_category</th>\n",
       "      <th>currency</th>\n",
       "      <th>deadline</th>\n",
       "      <th>goal</th>\n",
       "      <th>launched</th>\n",
       "      <th>pledged</th>\n",
       "      <th>state</th>\n",
       "      <th>backers</th>\n",
       "      <th>country</th>\n",
       "      <th>usd pledged</th>\n",
       "      <th>usd_pledged_real</th>\n",
       "      <th>usd_goal_real</th>\n",
       "    </tr>\n",
       "  </thead>\n",
       "  <tbody>\n",
       "    <tr>\n",
       "      <th>157270</th>\n",
       "      <td>1799979574</td>\n",
       "      <td>Pebble Time - Awesome Smartwatch, No Compromises</td>\n",
       "      <td>Product Design</td>\n",
       "      <td>Design</td>\n",
       "      <td>USD</td>\n",
       "      <td>2015-03-28</td>\n",
       "      <td>500000.0</td>\n",
       "      <td>2015-02-24 15:44:42</td>\n",
       "      <td>20338986.27</td>\n",
       "      <td>successful</td>\n",
       "      <td>78471</td>\n",
       "      <td>US</td>\n",
       "      <td>20338986.27</td>\n",
       "      <td>20338986.27</td>\n",
       "      <td>500000.0</td>\n",
       "    </tr>\n",
       "    <tr>\n",
       "      <th>250254</th>\n",
       "      <td>342886736</td>\n",
       "      <td>COOLEST COOLER: 21st Century Cooler that's Act...</td>\n",
       "      <td>Product Design</td>\n",
       "      <td>Design</td>\n",
       "      <td>USD</td>\n",
       "      <td>2014-08-30</td>\n",
       "      <td>50000.0</td>\n",
       "      <td>2014-07-08 10:14:37</td>\n",
       "      <td>13285226.36</td>\n",
       "      <td>successful</td>\n",
       "      <td>62642</td>\n",
       "      <td>US</td>\n",
       "      <td>13285226.36</td>\n",
       "      <td>13285226.36</td>\n",
       "      <td>50000.0</td>\n",
       "    </tr>\n",
       "    <tr>\n",
       "      <th>216629</th>\n",
       "      <td>2103598555</td>\n",
       "      <td>Pebble 2, Time 2 + All-New Pebble Core</td>\n",
       "      <td>Product Design</td>\n",
       "      <td>Design</td>\n",
       "      <td>USD</td>\n",
       "      <td>2016-06-30</td>\n",
       "      <td>1000000.0</td>\n",
       "      <td>2016-05-24 15:49:52</td>\n",
       "      <td>12779843.49</td>\n",
       "      <td>successful</td>\n",
       "      <td>66673</td>\n",
       "      <td>US</td>\n",
       "      <td>12779843.49</td>\n",
       "      <td>12779843.49</td>\n",
       "      <td>1000000.0</td>\n",
       "    </tr>\n",
       "    <tr>\n",
       "      <th>289915</th>\n",
       "      <td>545070200</td>\n",
       "      <td>Kingdom Death: Monster 1.5</td>\n",
       "      <td>Tabletop Games</td>\n",
       "      <td>Games</td>\n",
       "      <td>USD</td>\n",
       "      <td>2017-01-08</td>\n",
       "      <td>100000.0</td>\n",
       "      <td>2016-11-25 06:01:41</td>\n",
       "      <td>12393139.69</td>\n",
       "      <td>successful</td>\n",
       "      <td>19264</td>\n",
       "      <td>US</td>\n",
       "      <td>5228482.00</td>\n",
       "      <td>12393139.69</td>\n",
       "      <td>100000.0</td>\n",
       "    </tr>\n",
       "    <tr>\n",
       "      <th>282416</th>\n",
       "      <td>506924864</td>\n",
       "      <td>Pebble: E-Paper Watch for iPhone and Android</td>\n",
       "      <td>Product Design</td>\n",
       "      <td>Design</td>\n",
       "      <td>USD</td>\n",
       "      <td>2012-05-19</td>\n",
       "      <td>100000.0</td>\n",
       "      <td>2012-04-11 06:59:04</td>\n",
       "      <td>10266845.74</td>\n",
       "      <td>successful</td>\n",
       "      <td>68929</td>\n",
       "      <td>US</td>\n",
       "      <td>10266845.74</td>\n",
       "      <td>10266845.74</td>\n",
       "      <td>100000.0</td>\n",
       "    </tr>\n",
       "  </tbody>\n",
       "</table>\n",
       "</div>"
      ],
      "text/plain": [
       "                ID                                               name  \\\n",
       "157270  1799979574   Pebble Time - Awesome Smartwatch, No Compromises   \n",
       "250254   342886736  COOLEST COOLER: 21st Century Cooler that's Act...   \n",
       "216629  2103598555             Pebble 2, Time 2 + All-New Pebble Core   \n",
       "289915   545070200                         Kingdom Death: Monster 1.5   \n",
       "282416   506924864       Pebble: E-Paper Watch for iPhone and Android   \n",
       "\n",
       "              category main_category currency    deadline       goal  \\\n",
       "157270  Product Design        Design      USD  2015-03-28   500000.0   \n",
       "250254  Product Design        Design      USD  2014-08-30    50000.0   \n",
       "216629  Product Design        Design      USD  2016-06-30  1000000.0   \n",
       "289915  Tabletop Games         Games      USD  2017-01-08   100000.0   \n",
       "282416  Product Design        Design      USD  2012-05-19   100000.0   \n",
       "\n",
       "                   launched      pledged       state  backers country  \\\n",
       "157270  2015-02-24 15:44:42  20338986.27  successful    78471      US   \n",
       "250254  2014-07-08 10:14:37  13285226.36  successful    62642      US   \n",
       "216629  2016-05-24 15:49:52  12779843.49  successful    66673      US   \n",
       "289915  2016-11-25 06:01:41  12393139.69  successful    19264      US   \n",
       "282416  2012-04-11 06:59:04  10266845.74  successful    68929      US   \n",
       "\n",
       "        usd pledged  usd_pledged_real  usd_goal_real  \n",
       "157270  20338986.27       20338986.27       500000.0  \n",
       "250254  13285226.36       13285226.36        50000.0  \n",
       "216629  12779843.49       12779843.49      1000000.0  \n",
       "289915   5228482.00       12393139.69       100000.0  \n",
       "282416  10266845.74       10266845.74       100000.0  "
      ]
     },
     "execution_count": 12,
     "metadata": {},
     "output_type": "execute_result"
    }
   ],
   "source": [
    "ks_complete.sort_values(by=\"usd_pledged_real\", ascending=False).head(5)"
   ]
  },
  {
   "cell_type": "markdown",
   "metadata": {},
   "source": [
    "### 2c. Which 5 projects had the most backers?"
   ]
  },
  {
   "cell_type": "code",
   "execution_count": 13,
   "metadata": {},
   "outputs": [
    {
     "data": {
      "text/html": [
       "<div>\n",
       "<style scoped>\n",
       "    .dataframe tbody tr th:only-of-type {\n",
       "        vertical-align: middle;\n",
       "    }\n",
       "\n",
       "    .dataframe tbody tr th {\n",
       "        vertical-align: top;\n",
       "    }\n",
       "\n",
       "    .dataframe thead th {\n",
       "        text-align: right;\n",
       "    }\n",
       "</style>\n",
       "<table border=\"1\" class=\"dataframe\">\n",
       "  <thead>\n",
       "    <tr style=\"text-align: right;\">\n",
       "      <th></th>\n",
       "      <th>ID</th>\n",
       "      <th>name</th>\n",
       "      <th>category</th>\n",
       "      <th>main_category</th>\n",
       "      <th>currency</th>\n",
       "      <th>deadline</th>\n",
       "      <th>goal</th>\n",
       "      <th>launched</th>\n",
       "      <th>pledged</th>\n",
       "      <th>state</th>\n",
       "      <th>backers</th>\n",
       "      <th>country</th>\n",
       "      <th>usd pledged</th>\n",
       "      <th>usd_pledged_real</th>\n",
       "      <th>usd_goal_real</th>\n",
       "    </tr>\n",
       "  </thead>\n",
       "  <tbody>\n",
       "    <tr>\n",
       "      <th>187652</th>\n",
       "      <td>1955357092</td>\n",
       "      <td>Exploding Kittens</td>\n",
       "      <td>Tabletop Games</td>\n",
       "      <td>Games</td>\n",
       "      <td>USD</td>\n",
       "      <td>2015-02-20</td>\n",
       "      <td>10000.0</td>\n",
       "      <td>2015-01-20 19:00:19</td>\n",
       "      <td>8782571.99</td>\n",
       "      <td>successful</td>\n",
       "      <td>219382</td>\n",
       "      <td>US</td>\n",
       "      <td>8782571.99</td>\n",
       "      <td>8782571.99</td>\n",
       "      <td>10000.0</td>\n",
       "    </tr>\n",
       "    <tr>\n",
       "      <th>75900</th>\n",
       "      <td>1386523707</td>\n",
       "      <td>Fidget Cube: A Vinyl Desk Toy</td>\n",
       "      <td>Product Design</td>\n",
       "      <td>Design</td>\n",
       "      <td>USD</td>\n",
       "      <td>2016-10-20</td>\n",
       "      <td>15000.0</td>\n",
       "      <td>2016-08-30 22:02:09</td>\n",
       "      <td>6465690.30</td>\n",
       "      <td>successful</td>\n",
       "      <td>154926</td>\n",
       "      <td>US</td>\n",
       "      <td>13770.00</td>\n",
       "      <td>6465690.30</td>\n",
       "      <td>15000.0</td>\n",
       "    </tr>\n",
       "    <tr>\n",
       "      <th>292244</th>\n",
       "      <td>557230947</td>\n",
       "      <td>Bring Reading Rainbow Back for Every Child, Ev...</td>\n",
       "      <td>Web</td>\n",
       "      <td>Technology</td>\n",
       "      <td>USD</td>\n",
       "      <td>2014-07-02</td>\n",
       "      <td>1000000.0</td>\n",
       "      <td>2014-05-28 15:05:45</td>\n",
       "      <td>5408916.95</td>\n",
       "      <td>successful</td>\n",
       "      <td>105857</td>\n",
       "      <td>US</td>\n",
       "      <td>5408916.95</td>\n",
       "      <td>5408916.95</td>\n",
       "      <td>1000000.0</td>\n",
       "    </tr>\n",
       "    <tr>\n",
       "      <th>148585</th>\n",
       "      <td>1755266685</td>\n",
       "      <td>The Veronica Mars Movie Project</td>\n",
       "      <td>Narrative Film</td>\n",
       "      <td>Film &amp; Video</td>\n",
       "      <td>USD</td>\n",
       "      <td>2013-04-13</td>\n",
       "      <td>2000000.0</td>\n",
       "      <td>2013-03-13 15:42:22</td>\n",
       "      <td>5702153.38</td>\n",
       "      <td>successful</td>\n",
       "      <td>91585</td>\n",
       "      <td>US</td>\n",
       "      <td>5702153.38</td>\n",
       "      <td>5702153.38</td>\n",
       "      <td>2000000.0</td>\n",
       "    </tr>\n",
       "    <tr>\n",
       "      <th>182657</th>\n",
       "      <td>1929840910</td>\n",
       "      <td>Double Fine Adventure</td>\n",
       "      <td>Video Games</td>\n",
       "      <td>Games</td>\n",
       "      <td>USD</td>\n",
       "      <td>2012-03-14</td>\n",
       "      <td>400000.0</td>\n",
       "      <td>2012-02-09 02:52:52</td>\n",
       "      <td>3336371.92</td>\n",
       "      <td>successful</td>\n",
       "      <td>87142</td>\n",
       "      <td>US</td>\n",
       "      <td>3336371.92</td>\n",
       "      <td>3336371.92</td>\n",
       "      <td>400000.0</td>\n",
       "    </tr>\n",
       "  </tbody>\n",
       "</table>\n",
       "</div>"
      ],
      "text/plain": [
       "                ID                                               name  \\\n",
       "187652  1955357092                                  Exploding Kittens   \n",
       "75900   1386523707                      Fidget Cube: A Vinyl Desk Toy   \n",
       "292244   557230947  Bring Reading Rainbow Back for Every Child, Ev...   \n",
       "148585  1755266685                    The Veronica Mars Movie Project   \n",
       "182657  1929840910                              Double Fine Adventure   \n",
       "\n",
       "              category main_category currency    deadline       goal  \\\n",
       "187652  Tabletop Games         Games      USD  2015-02-20    10000.0   \n",
       "75900   Product Design        Design      USD  2016-10-20    15000.0   \n",
       "292244             Web    Technology      USD  2014-07-02  1000000.0   \n",
       "148585  Narrative Film  Film & Video      USD  2013-04-13  2000000.0   \n",
       "182657     Video Games         Games      USD  2012-03-14   400000.0   \n",
       "\n",
       "                   launched     pledged       state  backers country  \\\n",
       "187652  2015-01-20 19:00:19  8782571.99  successful   219382      US   \n",
       "75900   2016-08-30 22:02:09  6465690.30  successful   154926      US   \n",
       "292244  2014-05-28 15:05:45  5408916.95  successful   105857      US   \n",
       "148585  2013-03-13 15:42:22  5702153.38  successful    91585      US   \n",
       "182657  2012-02-09 02:52:52  3336371.92  successful    87142      US   \n",
       "\n",
       "        usd pledged  usd_pledged_real  usd_goal_real  \n",
       "187652   8782571.99        8782571.99        10000.0  \n",
       "75900      13770.00        6465690.30        15000.0  \n",
       "292244   5408916.95        5408916.95      1000000.0  \n",
       "148585   5702153.38        5702153.38      2000000.0  \n",
       "182657   3336371.92        3336371.92       400000.0  "
      ]
     },
     "execution_count": 13,
     "metadata": {},
     "output_type": "execute_result"
    }
   ],
   "source": [
    "ks_complete.sort_values(by=\"backers\", ascending=False).head(5)"
   ]
  },
  {
   "cell_type": "markdown",
   "metadata": {},
   "source": [
    "### 2d. Which year had the most competition? (# of projects)"
   ]
  },
  {
   "cell_type": "code",
   "execution_count": 14,
   "metadata": {},
   "outputs": [],
   "source": [
    "ks_complete[\"year\"] = pd.to_datetime(ks_complete[\"deadline\"]).dt.year"
   ]
  },
  {
   "cell_type": "code",
   "execution_count": 15,
   "metadata": {},
   "outputs": [
    {
     "data": {
      "text/plain": [
       "2015    74439\n",
       "2014    65377\n",
       "2016    57112\n",
       "2017    52393\n",
       "2013    44118\n",
       "2012    41507\n",
       "2011    25055\n",
       "2010     9090\n",
       "2009      902\n",
       "2018      461\n",
       "Name: year, dtype: int64"
      ]
     },
     "execution_count": 15,
     "metadata": {},
     "output_type": "execute_result"
    }
   ],
   "source": [
    "ks_complete[\"year\"]. value_counts()"
   ]
  },
  {
   "cell_type": "markdown",
   "metadata": {},
   "source": [
    "### 3a. What is the success rate for all projects broken down by `main_category`?"
   ]
  },
  {
   "cell_type": "code",
   "execution_count": 16,
   "metadata": {},
   "outputs": [],
   "source": [
    "pct_success = (ks_complete['main_category'][ks_complete['state'] == 'successful']\n",
    ".value_counts() / ks_complete['main_category'].value_counts()\n",
    "* 100).sort_values(ascending=False)"
   ]
  },
  {
   "cell_type": "code",
   "execution_count": 17,
   "metadata": {},
   "outputs": [
    {
     "name": "stdout",
     "output_type": "stream",
     "text": [
      "Dance           62.580300\n",
      "Theater         60.221198\n",
      "Comics          54.496269\n",
      "Music           49.126974\n",
      "Art             41.309263\n",
      "Film & Video    37.929097\n",
      "Games           36.051032\n",
      "Design          35.743326\n",
      "Publishing      31.500499\n",
      "Photography     30.960187\n",
      "Food            25.077272\n",
      "Fashion         24.940914\n",
      "Crafts          24.419813\n",
      "Journalism      21.660959\n",
      "Technology      20.254998\n",
      "Name: main_category, dtype: float64\n"
     ]
    }
   ],
   "source": [
    "print(pct_success)"
   ]
  },
  {
   "cell_type": "markdown",
   "metadata": {},
   "source": [
    "`Dance` had the highest success rate, with a surprising 62.5%"
   ]
  },
  {
   "cell_type": "markdown",
   "metadata": {},
   "source": [
    "### 3b. Show a horizontal bar chart for project success rate by main_category, sorted by highest to lowest."
   ]
  },
  {
   "cell_type": "code",
   "execution_count": 18,
   "metadata": {},
   "outputs": [
    {
     "data": {
      "text/plain": [
       "<matplotlib.axes._subplots.AxesSubplot at 0x1a1b116190>"
      ]
     },
     "execution_count": 18,
     "metadata": {},
     "output_type": "execute_result"
    },
    {
     "data": {
      "image/png": "[encoded data removed]",
      "text/plain": [
       "<Figure size 1440x1440 with 1 Axes>"
      ]
     },
     "metadata": {
      "needs_background": "light"
     },
     "output_type": "display_data"
    }
   ],
   "source": [
    "pct_success = pct_success.sort_values(ascending=True)\n",
    "pct_success.plot.barh(title = \"Percent Completion by Main Category\", figsize=(20, 20))"
   ]
  },
  {
   "cell_type": "markdown",
   "metadata": {},
   "source": [
    "### 3c. Within the Games main_category, what is the success rate for each category within it?"
   ]
  },
  {
   "cell_type": "code",
   "execution_count": 19,
   "metadata": {},
   "outputs": [
    {
     "data": {
      "text/html": [
       "<div>\n",
       "<style scoped>\n",
       "    .dataframe tbody tr th:only-of-type {\n",
       "        vertical-align: middle;\n",
       "    }\n",
       "\n",
       "    .dataframe tbody tr th {\n",
       "        vertical-align: top;\n",
       "    }\n",
       "\n",
       "    .dataframe thead th {\n",
       "        text-align: right;\n",
       "    }\n",
       "</style>\n",
       "<table border=\"1\" class=\"dataframe\">\n",
       "  <thead>\n",
       "    <tr style=\"text-align: right;\">\n",
       "      <th></th>\n",
       "      <th>ID</th>\n",
       "      <th>name</th>\n",
       "      <th>category</th>\n",
       "      <th>main_category</th>\n",
       "      <th>currency</th>\n",
       "      <th>deadline</th>\n",
       "      <th>goal</th>\n",
       "      <th>launched</th>\n",
       "      <th>pledged</th>\n",
       "      <th>state</th>\n",
       "      <th>backers</th>\n",
       "      <th>country</th>\n",
       "      <th>usd pledged</th>\n",
       "      <th>usd_pledged_real</th>\n",
       "      <th>usd_goal_real</th>\n",
       "      <th>year</th>\n",
       "    </tr>\n",
       "  </thead>\n",
       "  <tbody>\n",
       "    <tr>\n",
       "      <th>13</th>\n",
       "      <td>1000056157</td>\n",
       "      <td>G-Spot Place for Gamers to connect with eachot...</td>\n",
       "      <td>Games</td>\n",
       "      <td>Games</td>\n",
       "      <td>USD</td>\n",
       "      <td>2016-03-25</td>\n",
       "      <td>200000.0</td>\n",
       "      <td>2016-02-09 23:01:12</td>\n",
       "      <td>0.0</td>\n",
       "      <td>failed</td>\n",
       "      <td>0</td>\n",
       "      <td>US</td>\n",
       "      <td>0.0</td>\n",
       "      <td>0.0</td>\n",
       "      <td>200000.0</td>\n",
       "      <td>2016</td>\n",
       "    </tr>\n",
       "    <tr>\n",
       "      <th>43</th>\n",
       "      <td>1000170964</td>\n",
       "      <td>Penny Bingo Playing Card Game fun for the whol...</td>\n",
       "      <td>Tabletop Games</td>\n",
       "      <td>Games</td>\n",
       "      <td>USD</td>\n",
       "      <td>2017-03-27</td>\n",
       "      <td>1500.0</td>\n",
       "      <td>2017-03-02 04:01:43</td>\n",
       "      <td>856.0</td>\n",
       "      <td>failed</td>\n",
       "      <td>25</td>\n",
       "      <td>US</td>\n",
       "      <td>324.0</td>\n",
       "      <td>856.0</td>\n",
       "      <td>1500.0</td>\n",
       "      <td>2017</td>\n",
       "    </tr>\n",
       "    <tr>\n",
       "      <th>79</th>\n",
       "      <td>1000328150</td>\n",
       "      <td>Legacy of Svarog | a Unique 3D Action RPG and ...</td>\n",
       "      <td>Video Games</td>\n",
       "      <td>Games</td>\n",
       "      <td>USD</td>\n",
       "      <td>2015-10-30</td>\n",
       "      <td>50000.0</td>\n",
       "      <td>2015-08-31 06:33:31</td>\n",
       "      <td>1410.0</td>\n",
       "      <td>failed</td>\n",
       "      <td>38</td>\n",
       "      <td>US</td>\n",
       "      <td>1410.0</td>\n",
       "      <td>1410.0</td>\n",
       "      <td>50000.0</td>\n",
       "      <td>2015</td>\n",
       "    </tr>\n",
       "  </tbody>\n",
       "</table>\n",
       "</div>"
      ],
      "text/plain": [
       "            ID                                               name  \\\n",
       "13  1000056157  G-Spot Place for Gamers to connect with eachot...   \n",
       "43  1000170964  Penny Bingo Playing Card Game fun for the whol...   \n",
       "79  1000328150  Legacy of Svarog | a Unique 3D Action RPG and ...   \n",
       "\n",
       "          category main_category currency    deadline      goal  \\\n",
       "13           Games         Games      USD  2016-03-25  200000.0   \n",
       "43  Tabletop Games         Games      USD  2017-03-27    1500.0   \n",
       "79     Video Games         Games      USD  2015-10-30   50000.0   \n",
       "\n",
       "               launched  pledged   state  backers country  usd pledged  \\\n",
       "13  2016-02-09 23:01:12      0.0  failed        0      US          0.0   \n",
       "43  2017-03-02 04:01:43    856.0  failed       25      US        324.0   \n",
       "79  2015-08-31 06:33:31   1410.0  failed       38      US       1410.0   \n",
       "\n",
       "    usd_pledged_real  usd_goal_real  year  \n",
       "13               0.0       200000.0  2016  \n",
       "43             856.0         1500.0  2017  \n",
       "79            1410.0        50000.0  2015  "
      ]
     },
     "execution_count": 19,
     "metadata": {},
     "output_type": "execute_result"
    }
   ],
   "source": [
    "games = ks_complete[ks_complete['main_category']=='Games']\n",
    "games.head(3)"
   ]
  },
  {
   "cell_type": "code",
   "execution_count": 20,
   "metadata": {},
   "outputs": [
    {
     "data": {
      "text/html": [
       "<div>\n",
       "<style scoped>\n",
       "    .dataframe tbody tr th:only-of-type {\n",
       "        vertical-align: middle;\n",
       "    }\n",
       "\n",
       "    .dataframe tbody tr th {\n",
       "        vertical-align: top;\n",
       "    }\n",
       "\n",
       "    .dataframe thead th {\n",
       "        text-align: right;\n",
       "    }\n",
       "</style>\n",
       "<table border=\"1\" class=\"dataframe\">\n",
       "  <thead>\n",
       "    <tr style=\"text-align: right;\">\n",
       "      <th>state</th>\n",
       "      <th>canceled</th>\n",
       "      <th>failed</th>\n",
       "      <th>successful</th>\n",
       "    </tr>\n",
       "    <tr>\n",
       "      <th>category</th>\n",
       "      <th></th>\n",
       "      <th></th>\n",
       "      <th></th>\n",
       "    </tr>\n",
       "  </thead>\n",
       "  <tbody>\n",
       "    <tr>\n",
       "      <th>Games</th>\n",
       "      <td>0.169663</td>\n",
       "      <td>0.584674</td>\n",
       "      <td>0.245664</td>\n",
       "    </tr>\n",
       "    <tr>\n",
       "      <th>Gaming Hardware</th>\n",
       "      <td>0.246114</td>\n",
       "      <td>0.497409</td>\n",
       "      <td>0.256477</td>\n",
       "    </tr>\n",
       "    <tr>\n",
       "      <th>Live Games</th>\n",
       "      <td>0.137352</td>\n",
       "      <td>0.684783</td>\n",
       "      <td>0.177866</td>\n",
       "    </tr>\n",
       "    <tr>\n",
       "      <th>Mobile Games</th>\n",
       "      <td>0.176370</td>\n",
       "      <td>0.736301</td>\n",
       "      <td>0.087329</td>\n",
       "    </tr>\n",
       "    <tr>\n",
       "      <th>Playing Cards</th>\n",
       "      <td>0.178995</td>\n",
       "      <td>0.425828</td>\n",
       "      <td>0.395178</td>\n",
       "    </tr>\n",
       "    <tr>\n",
       "      <th>Puzzles</th>\n",
       "      <td>0.115044</td>\n",
       "      <td>0.495575</td>\n",
       "      <td>0.389381</td>\n",
       "    </tr>\n",
       "    <tr>\n",
       "      <th>Tabletop Games</th>\n",
       "      <td>0.163414</td>\n",
       "      <td>0.276250</td>\n",
       "      <td>0.560336</td>\n",
       "    </tr>\n",
       "    <tr>\n",
       "      <th>Video Games</th>\n",
       "      <td>0.202121</td>\n",
       "      <td>0.593790</td>\n",
       "      <td>0.204089</td>\n",
       "    </tr>\n",
       "  </tbody>\n",
       "</table>\n",
       "</div>"
      ],
      "text/plain": [
       "state            canceled    failed  successful\n",
       "category                                       \n",
       "Games            0.169663  0.584674    0.245664\n",
       "Gaming Hardware  0.246114  0.497409    0.256477\n",
       "Live Games       0.137352  0.684783    0.177866\n",
       "Mobile Games     0.176370  0.736301    0.087329\n",
       "Playing Cards    0.178995  0.425828    0.395178\n",
       "Puzzles          0.115044  0.495575    0.389381\n",
       "Tabletop Games   0.163414  0.276250    0.560336\n",
       "Video Games      0.202121  0.593790    0.204089"
      ]
     },
     "execution_count": 20,
     "metadata": {},
     "output_type": "execute_result"
    }
   ],
   "source": [
    "games_pct = pd.crosstab(games['category'], games['state'], normalize='index')\n",
    "games_pct"
   ]
  },
  {
   "cell_type": "code",
   "execution_count": 21,
   "metadata": {},
   "outputs": [
    {
     "data": {
      "text/plain": [
       "category\n",
       "Tabletop Games     0.560336\n",
       "Playing Cards      0.395178\n",
       "Puzzles            0.389381\n",
       "Gaming Hardware    0.256477\n",
       "Games              0.245664\n",
       "Video Games        0.204089\n",
       "Live Games         0.177866\n",
       "Mobile Games       0.087329\n",
       "Name: successful, dtype: float64"
      ]
     },
     "execution_count": 21,
     "metadata": {},
     "output_type": "execute_result"
    }
   ],
   "source": [
    "games_pct = games_pct['successful'].sort_values(ascending=False)\n",
    "games_pct"
   ]
  },
  {
   "cell_type": "markdown",
   "metadata": {},
   "source": [
    "## 4a. Calculate the 'pct_of_goal' for each completed project"
   ]
  },
  {
   "cell_type": "code",
   "execution_count": 22,
   "metadata": {},
   "outputs": [
    {
     "data": {
      "text/html": [
       "<div>\n",
       "<style scoped>\n",
       "    .dataframe tbody tr th:only-of-type {\n",
       "        vertical-align: middle;\n",
       "    }\n",
       "\n",
       "    .dataframe tbody tr th {\n",
       "        vertical-align: top;\n",
       "    }\n",
       "\n",
       "    .dataframe thead th {\n",
       "        text-align: right;\n",
       "    }\n",
       "</style>\n",
       "<table border=\"1\" class=\"dataframe\">\n",
       "  <thead>\n",
       "    <tr style=\"text-align: right;\">\n",
       "      <th></th>\n",
       "      <th>ID</th>\n",
       "      <th>name</th>\n",
       "      <th>category</th>\n",
       "      <th>main_category</th>\n",
       "      <th>currency</th>\n",
       "      <th>deadline</th>\n",
       "      <th>goal</th>\n",
       "      <th>launched</th>\n",
       "      <th>pledged</th>\n",
       "      <th>state</th>\n",
       "      <th>backers</th>\n",
       "      <th>country</th>\n",
       "      <th>usd pledged</th>\n",
       "      <th>usd_pledged_real</th>\n",
       "      <th>usd_goal_real</th>\n",
       "      <th>year</th>\n",
       "    </tr>\n",
       "  </thead>\n",
       "  <tbody>\n",
       "    <tr>\n",
       "      <th>0</th>\n",
       "      <td>1000002330</td>\n",
       "      <td>The Songs of Adelaide &amp; Abullah</td>\n",
       "      <td>Poetry</td>\n",
       "      <td>Publishing</td>\n",
       "      <td>GBP</td>\n",
       "      <td>2015-10-09</td>\n",
       "      <td>1000.0</td>\n",
       "      <td>2015-08-11 12:12:28</td>\n",
       "      <td>0.0</td>\n",
       "      <td>failed</td>\n",
       "      <td>0</td>\n",
       "      <td>GB</td>\n",
       "      <td>0.0</td>\n",
       "      <td>0.0</td>\n",
       "      <td>1533.95</td>\n",
       "      <td>2015</td>\n",
       "    </tr>\n",
       "    <tr>\n",
       "      <th>1</th>\n",
       "      <td>1000003930</td>\n",
       "      <td>Greeting From Earth: ZGAC Arts Capsule For ET</td>\n",
       "      <td>Narrative Film</td>\n",
       "      <td>Film &amp; Video</td>\n",
       "      <td>USD</td>\n",
       "      <td>2017-11-01</td>\n",
       "      <td>30000.0</td>\n",
       "      <td>2017-09-02 04:43:57</td>\n",
       "      <td>2421.0</td>\n",
       "      <td>failed</td>\n",
       "      <td>15</td>\n",
       "      <td>US</td>\n",
       "      <td>100.0</td>\n",
       "      <td>2421.0</td>\n",
       "      <td>30000.00</td>\n",
       "      <td>2017</td>\n",
       "    </tr>\n",
       "    <tr>\n",
       "      <th>2</th>\n",
       "      <td>1000004038</td>\n",
       "      <td>Where is Hank?</td>\n",
       "      <td>Narrative Film</td>\n",
       "      <td>Film &amp; Video</td>\n",
       "      <td>USD</td>\n",
       "      <td>2013-02-26</td>\n",
       "      <td>45000.0</td>\n",
       "      <td>2013-01-12 00:20:50</td>\n",
       "      <td>220.0</td>\n",
       "      <td>failed</td>\n",
       "      <td>3</td>\n",
       "      <td>US</td>\n",
       "      <td>220.0</td>\n",
       "      <td>220.0</td>\n",
       "      <td>45000.00</td>\n",
       "      <td>2013</td>\n",
       "    </tr>\n",
       "    <tr>\n",
       "      <th>3</th>\n",
       "      <td>1000007540</td>\n",
       "      <td>ToshiCapital Rekordz Needs Help to Complete Album</td>\n",
       "      <td>Music</td>\n",
       "      <td>Music</td>\n",
       "      <td>USD</td>\n",
       "      <td>2012-04-16</td>\n",
       "      <td>5000.0</td>\n",
       "      <td>2012-03-17 03:24:11</td>\n",
       "      <td>1.0</td>\n",
       "      <td>failed</td>\n",
       "      <td>1</td>\n",
       "      <td>US</td>\n",
       "      <td>1.0</td>\n",
       "      <td>1.0</td>\n",
       "      <td>5000.00</td>\n",
       "      <td>2012</td>\n",
       "    </tr>\n",
       "    <tr>\n",
       "      <th>7</th>\n",
       "      <td>1000030581</td>\n",
       "      <td>Chaser Strips. Our Strips make Shots their B*tch!</td>\n",
       "      <td>Drinks</td>\n",
       "      <td>Food</td>\n",
       "      <td>USD</td>\n",
       "      <td>2016-03-17</td>\n",
       "      <td>25000.0</td>\n",
       "      <td>2016-02-01 20:05:12</td>\n",
       "      <td>453.0</td>\n",
       "      <td>failed</td>\n",
       "      <td>40</td>\n",
       "      <td>US</td>\n",
       "      <td>453.0</td>\n",
       "      <td>453.0</td>\n",
       "      <td>25000.00</td>\n",
       "      <td>2016</td>\n",
       "    </tr>\n",
       "  </tbody>\n",
       "</table>\n",
       "</div>"
      ],
      "text/plain": [
       "           ID                                               name  \\\n",
       "0  1000002330                    The Songs of Adelaide & Abullah   \n",
       "1  1000003930      Greeting From Earth: ZGAC Arts Capsule For ET   \n",
       "2  1000004038                                     Where is Hank?   \n",
       "3  1000007540  ToshiCapital Rekordz Needs Help to Complete Album   \n",
       "7  1000030581  Chaser Strips. Our Strips make Shots their B*tch!   \n",
       "\n",
       "         category main_category currency    deadline     goal  \\\n",
       "0          Poetry    Publishing      GBP  2015-10-09   1000.0   \n",
       "1  Narrative Film  Film & Video      USD  2017-11-01  30000.0   \n",
       "2  Narrative Film  Film & Video      USD  2013-02-26  45000.0   \n",
       "3           Music         Music      USD  2012-04-16   5000.0   \n",
       "7          Drinks          Food      USD  2016-03-17  25000.0   \n",
       "\n",
       "              launched  pledged   state  backers country  usd pledged  \\\n",
       "0  2015-08-11 12:12:28      0.0  failed        0      GB          0.0   \n",
       "1  2017-09-02 04:43:57   2421.0  failed       15      US        100.0   \n",
       "2  2013-01-12 00:20:50    220.0  failed        3      US        220.0   \n",
       "3  2012-03-17 03:24:11      1.0  failed        1      US          1.0   \n",
       "7  2016-02-01 20:05:12    453.0  failed       40      US        453.0   \n",
       "\n",
       "   usd_pledged_real  usd_goal_real  year  \n",
       "0               0.0        1533.95  2015  \n",
       "1            2421.0       30000.00  2017  \n",
       "2             220.0       45000.00  2013  \n",
       "3               1.0        5000.00  2012  \n",
       "7             453.0       25000.00  2016  "
      ]
     },
     "execution_count": 22,
     "metadata": {},
     "output_type": "execute_result"
    }
   ],
   "source": [
    "ks_complete.head(5)"
   ]
  },
  {
   "cell_type": "code",
   "execution_count": 23,
   "metadata": {},
   "outputs": [
    {
     "data": {
      "text/plain": [
       "count    3.704540e+05\n",
       "mean     3.272709e+02\n",
       "std      2.697464e+04\n",
       "min      0.000000e+00\n",
       "25%      4.800000e-01\n",
       "50%      1.367000e+01\n",
       "75%      1.066700e+02\n",
       "max      1.042779e+07\n",
       "Name: pct_of_goal, dtype: float64"
      ]
     },
     "execution_count": 23,
     "metadata": {},
     "output_type": "execute_result"
    }
   ],
   "source": [
    "ks_complete['pct_of_goal'] = ((ks_complete['usd_pledged_real']) / (ks_complete['usd_goal_real'])*100).round(2)\n",
    "ks_complete['pct_of_goal'].describe()"
   ]
  },
  {
   "cell_type": "markdown",
   "metadata": {},
   "source": [
    "## 4b. What were the top 5 projects when looking at pct_of_goal for all time?"
   ]
  },
  {
   "cell_type": "code",
   "execution_count": 24,
   "metadata": {},
   "outputs": [
    {
     "data": {
      "text/html": [
       "<div>\n",
       "<style scoped>\n",
       "    .dataframe tbody tr th:only-of-type {\n",
       "        vertical-align: middle;\n",
       "    }\n",
       "\n",
       "    .dataframe tbody tr th {\n",
       "        vertical-align: top;\n",
       "    }\n",
       "\n",
       "    .dataframe thead th {\n",
       "        text-align: right;\n",
       "    }\n",
       "</style>\n",
       "<table border=\"1\" class=\"dataframe\">\n",
       "  <thead>\n",
       "    <tr style=\"text-align: right;\">\n",
       "      <th></th>\n",
       "      <th>ID</th>\n",
       "      <th>name</th>\n",
       "      <th>category</th>\n",
       "      <th>main_category</th>\n",
       "      <th>currency</th>\n",
       "      <th>deadline</th>\n",
       "      <th>goal</th>\n",
       "      <th>launched</th>\n",
       "      <th>pledged</th>\n",
       "      <th>state</th>\n",
       "      <th>backers</th>\n",
       "      <th>country</th>\n",
       "      <th>usd pledged</th>\n",
       "      <th>usd_pledged_real</th>\n",
       "      <th>usd_goal_real</th>\n",
       "      <th>year</th>\n",
       "      <th>pct_of_goal</th>\n",
       "    </tr>\n",
       "  </thead>\n",
       "  <tbody>\n",
       "    <tr>\n",
       "      <th>369176</th>\n",
       "      <td>9509582</td>\n",
       "      <td>VULFPECK /// The Beautiful Game</td>\n",
       "      <td>Music</td>\n",
       "      <td>Music</td>\n",
       "      <td>USD</td>\n",
       "      <td>2016-10-17</td>\n",
       "      <td>1.0</td>\n",
       "      <td>2016-08-18 09:04:03</td>\n",
       "      <td>104277.89</td>\n",
       "      <td>successful</td>\n",
       "      <td>3917</td>\n",
       "      <td>US</td>\n",
       "      <td>23874.13</td>\n",
       "      <td>104277.89</td>\n",
       "      <td>1.0</td>\n",
       "      <td>2016</td>\n",
       "      <td>10427789.0</td>\n",
       "    </tr>\n",
       "    <tr>\n",
       "      <th>186096</th>\n",
       "      <td>1947298033</td>\n",
       "      <td>Re-covering with Friends</td>\n",
       "      <td>Rock</td>\n",
       "      <td>Music</td>\n",
       "      <td>USD</td>\n",
       "      <td>2016-12-13</td>\n",
       "      <td>1.0</td>\n",
       "      <td>2016-10-14 19:04:27</td>\n",
       "      <td>68764.10</td>\n",
       "      <td>successful</td>\n",
       "      <td>955</td>\n",
       "      <td>US</td>\n",
       "      <td>9306.00</td>\n",
       "      <td>68764.10</td>\n",
       "      <td>1.0</td>\n",
       "      <td>2016</td>\n",
       "      <td>6876410.0</td>\n",
       "    </tr>\n",
       "    <tr>\n",
       "      <th>360721</th>\n",
       "      <td>907870443</td>\n",
       "      <td>VULFPECK /// Thrill of the Arts</td>\n",
       "      <td>Music</td>\n",
       "      <td>Music</td>\n",
       "      <td>USD</td>\n",
       "      <td>2015-10-09</td>\n",
       "      <td>1.0</td>\n",
       "      <td>2015-08-10 19:31:56</td>\n",
       "      <td>55266.57</td>\n",
       "      <td>successful</td>\n",
       "      <td>1673</td>\n",
       "      <td>US</td>\n",
       "      <td>55266.57</td>\n",
       "      <td>55266.57</td>\n",
       "      <td>1.0</td>\n",
       "      <td>2015</td>\n",
       "      <td>5526657.0</td>\n",
       "    </tr>\n",
       "    <tr>\n",
       "      <th>76290</th>\n",
       "      <td>1388400809</td>\n",
       "      <td>Energy Hook</td>\n",
       "      <td>Video Games</td>\n",
       "      <td>Games</td>\n",
       "      <td>USD</td>\n",
       "      <td>2013-06-10</td>\n",
       "      <td>1.0</td>\n",
       "      <td>2013-05-10 01:22:38</td>\n",
       "      <td>41535.01</td>\n",
       "      <td>successful</td>\n",
       "      <td>1622</td>\n",
       "      <td>US</td>\n",
       "      <td>41535.01</td>\n",
       "      <td>41535.01</td>\n",
       "      <td>1.0</td>\n",
       "      <td>2013</td>\n",
       "      <td>4153501.0</td>\n",
       "    </tr>\n",
       "    <tr>\n",
       "      <th>81368</th>\n",
       "      <td>1413857335</td>\n",
       "      <td>Band of Brothers 2nd Chance</td>\n",
       "      <td>Tabletop Games</td>\n",
       "      <td>Games</td>\n",
       "      <td>USD</td>\n",
       "      <td>2016-08-02</td>\n",
       "      <td>1.0</td>\n",
       "      <td>2016-07-12 00:29:12</td>\n",
       "      <td>32843.00</td>\n",
       "      <td>successful</td>\n",
       "      <td>268</td>\n",
       "      <td>US</td>\n",
       "      <td>26095.00</td>\n",
       "      <td>32843.00</td>\n",
       "      <td>1.0</td>\n",
       "      <td>2016</td>\n",
       "      <td>3284300.0</td>\n",
       "    </tr>\n",
       "  </tbody>\n",
       "</table>\n",
       "</div>"
      ],
      "text/plain": [
       "                ID                             name        category  \\\n",
       "369176     9509582  VULFPECK /// The Beautiful Game           Music   \n",
       "186096  1947298033         Re-covering with Friends            Rock   \n",
       "360721   907870443  VULFPECK /// Thrill of the Arts           Music   \n",
       "76290   1388400809                      Energy Hook     Video Games   \n",
       "81368   1413857335      Band of Brothers 2nd Chance  Tabletop Games   \n",
       "\n",
       "       main_category currency    deadline  goal             launched  \\\n",
       "369176         Music      USD  2016-10-17   1.0  2016-08-18 09:04:03   \n",
       "186096         Music      USD  2016-12-13   1.0  2016-10-14 19:04:27   \n",
       "360721         Music      USD  2015-10-09   1.0  2015-08-10 19:31:56   \n",
       "76290          Games      USD  2013-06-10   1.0  2013-05-10 01:22:38   \n",
       "81368          Games      USD  2016-08-02   1.0  2016-07-12 00:29:12   \n",
       "\n",
       "          pledged       state  backers country  usd pledged  usd_pledged_real  \\\n",
       "369176  104277.89  successful     3917      US     23874.13         104277.89   \n",
       "186096   68764.10  successful      955      US      9306.00          68764.10   \n",
       "360721   55266.57  successful     1673      US     55266.57          55266.57   \n",
       "76290    41535.01  successful     1622      US     41535.01          41535.01   \n",
       "81368    32843.00  successful      268      US     26095.00          32843.00   \n",
       "\n",
       "        usd_goal_real  year  pct_of_goal  \n",
       "369176            1.0  2016   10427789.0  \n",
       "186096            1.0  2016    6876410.0  \n",
       "360721            1.0  2015    5526657.0  \n",
       "76290             1.0  2013    4153501.0  \n",
       "81368             1.0  2016    3284300.0  "
      ]
     },
     "execution_count": 24,
     "metadata": {},
     "output_type": "execute_result"
    }
   ],
   "source": [
    "ks_complete.sort_values(by='pct_of_goal', inplace=True, ascending=False)\n",
    "ks_complete.head(5)"
   ]
  },
  {
   "cell_type": "markdown",
   "metadata": {},
   "source": [
    "## 4c. Plot a histogram distribution of all completed projects by pct_of_goal\n"
   ]
  },
  {
   "cell_type": "markdown",
   "metadata": {},
   "source": [
    "Since there were so many kickstarts that failed with \\$0 pledged, let's only graph those with at least 10\\% pledged"
   ]
  },
  {
   "cell_type": "code",
   "execution_count": 25,
   "metadata": {},
   "outputs": [],
   "source": [
    "def over_300(val):\n",
    "    if val > 300:\n",
    "        return 301\n",
    "    else:\n",
    "        return val"
   ]
  },
  {
   "cell_type": "code",
   "execution_count": 26,
   "metadata": {},
   "outputs": [
    {
     "data": {
      "text/plain": [
       "0.00      54648\n",
       "301.00    15624\n",
       "100.00     4174\n",
       "0.01       3894\n",
       "0.02       3187\n",
       "          ...  \n",
       "194.30        1\n",
       "279.28        1\n",
       "78.94         1\n",
       "171.26        1\n",
       "70.04         1\n",
       "Name: over_300, Length: 22412, dtype: int64"
      ]
     },
     "execution_count": 26,
     "metadata": {},
     "output_type": "execute_result"
    }
   ],
   "source": [
    "ks_complete['over_300'] = ks_complete['pct_of_goal'].map(over_300)\n",
    "ks_complete['over_300'].astype('float')\n",
    "ks_complete['over_300'].value_counts()"
   ]
  },
  {
   "cell_type": "code",
   "execution_count": 27,
   "metadata": {},
   "outputs": [
    {
     "data": {
      "image/png": "[encoded data removed]",
      "text/plain": [
       "<Figure size 432x288 with 1 Axes>"
      ]
     },
     "metadata": {
      "needs_background": "light"
     },
     "output_type": "display_data"
    }
   ],
   "source": [
    "fig, ax = plt.subplots()\n",
    "ax.hist(ks_complete['over_300'], bins=30, range=(0,310))\n",
    "plt.show()"
   ]
  },
  {
   "cell_type": "markdown",
   "metadata": {},
   "source": [
    "## 4d. Create 2 histogram subplots by pct_of_goal: 1) state=successful, and 2) all others (failed)"
   ]
  },
  {
   "cell_type": "code",
   "execution_count": 28,
   "metadata": {},
   "outputs": [
    {
     "data": {
      "text/html": [
       "<div>\n",
       "<style scoped>\n",
       "    .dataframe tbody tr th:only-of-type {\n",
       "        vertical-align: middle;\n",
       "    }\n",
       "\n",
       "    .dataframe tbody tr th {\n",
       "        vertical-align: top;\n",
       "    }\n",
       "\n",
       "    .dataframe thead th {\n",
       "        text-align: right;\n",
       "    }\n",
       "</style>\n",
       "<table border=\"1\" class=\"dataframe\">\n",
       "  <thead>\n",
       "    <tr style=\"text-align: right;\">\n",
       "      <th></th>\n",
       "      <th>pct_of_goal</th>\n",
       "    </tr>\n",
       "    <tr>\n",
       "      <th>state</th>\n",
       "      <th></th>\n",
       "    </tr>\n",
       "  </thead>\n",
       "  <tbody>\n",
       "    <tr>\n",
       "      <th>canceled</th>\n",
       "      <td>123.990150</td>\n",
       "    </tr>\n",
       "    <tr>\n",
       "      <th>failed</th>\n",
       "      <td>9.061944</td>\n",
       "    </tr>\n",
       "    <tr>\n",
       "      <th>successful</th>\n",
       "      <td>855.794954</td>\n",
       "    </tr>\n",
       "  </tbody>\n",
       "</table>\n",
       "</div>"
      ],
      "text/plain": [
       "            pct_of_goal\n",
       "state                  \n",
       "canceled     123.990150\n",
       "failed         9.061944\n",
       "successful   855.794954"
      ]
     },
     "execution_count": 28,
     "metadata": {},
     "output_type": "execute_result"
    }
   ],
   "source": [
    "pct_pt = ks_complete.pivot_table(values='pct_of_goal', index='state')\n",
    "pct_pt"
   ]
  },
  {
   "cell_type": "code",
   "execution_count": 29,
   "metadata": {},
   "outputs": [
    {
     "data": {
      "text/plain": [
       "state       pct_of_goal\n",
       "canceled    0.00           12399\n",
       "            0.01             394\n",
       "            0.02             296\n",
       "            0.20             259\n",
       "            0.10             255\n",
       "                           ...  \n",
       "successful  3284300.00         1\n",
       "            4153501.00         1\n",
       "            5526657.00         1\n",
       "            6876410.00         1\n",
       "            10427789.00        1\n",
       "Name: pct_of_goal, Length: 40628, dtype: int64"
      ]
     },
     "execution_count": 29,
     "metadata": {},
     "output_type": "execute_result"
    }
   ],
   "source": [
    "pct_gb = ks_complete.groupby('state')['pct_of_goal']\n",
    "pct_gb_counts = pct_gb.value_counts()\n",
    "pct_gb_counts"
   ]
  },
  {
   "cell_type": "code",
   "execution_count": 30,
   "metadata": {},
   "outputs": [],
   "source": [
    "ks_success = ks_complete[ks_complete['state'] == 'successful']"
   ]
  },
  {
   "cell_type": "code",
   "execution_count": 31,
   "metadata": {},
   "outputs": [
    {
     "data": {
      "text/plain": [
       "0.00      54648\n",
       "0.01       3894\n",
       "0.02       3187\n",
       "0.10       2208\n",
       "1.00       2085\n",
       "          ...  \n",
       "96.58         1\n",
       "221.00        1\n",
       "67.12         1\n",
       "53.93         1\n",
       "192.00        1\n",
       "Name: over_300, Length: 8630, dtype: int64"
      ]
     },
     "execution_count": 31,
     "metadata": {},
     "output_type": "execute_result"
    }
   ],
   "source": [
    "ks_not_success = ks_complete[ks_complete['state'] != 'successful'] \n",
    "ks_not_success['over_300'].value_counts()"
   ]
  },
  {
   "cell_type": "code",
   "execution_count": 32,
   "metadata": {},
   "outputs": [
    {
     "data": {
      "text/plain": [
       "301.00    15489\n",
       "100.00     4123\n",
       "101.00      564\n",
       "102.00      511\n",
       "105.00      501\n",
       "          ...  \n",
       "246.42        1\n",
       "219.19        1\n",
       "154.81        1\n",
       "202.28        1\n",
       "249.24        1\n",
       "Name: over_300, Length: 14222, dtype: int64"
      ]
     },
     "execution_count": 32,
     "metadata": {},
     "output_type": "execute_result"
    }
   ],
   "source": [
    "ks_success['over_300'].value_counts()"
   ]
  },
  {
   "cell_type": "code",
   "execution_count": 33,
   "metadata": {},
   "outputs": [
    {
     "data": {
      "image/png": "[encoded data removed]",
      "text/plain": [
       "<Figure size 720x720 with 3 Axes>"
      ]
     },
     "metadata": {
      "needs_background": "light"
     },
     "output_type": "display_data"
    }
   ],
   "source": [
    "# matplotlib hist:\n",
    "fig, ax = plt.subplots(figsize=(10,10))\n",
    "ax1 = fig.add_subplot(2,1,1)\n",
    "ax2 = fig.add_subplot(2,1,2)\n",
    "\n",
    "ax1.hist(ks_success['over_300'], bins=50)\n",
    "ax1.set_ylim(0,25000)\n",
    "\n",
    "ax2.hist(ks_not_success['over_300'], bins=50)\n",
    "ax2.set_ylim(0, 25000)\n",
    "#ax2.tick_params(bottom='off')\n",
    "\n",
    "plt.show()\n",
    "\n",
    "#why x,y labels and ticks incorrect?"
   ]
  },
  {
   "cell_type": "code",
   "execution_count": 34,
   "metadata": {},
   "outputs": [
    {
     "data": {
      "image/png": "[encoded data removed]",
      "text/plain": [
       "<Figure size 432x288 with 1 Axes>"
      ]
     },
     "metadata": {
      "needs_background": "light"
     },
     "output_type": "display_data"
    }
   ],
   "source": [
    "# seaborn kde plot:\n",
    "sns.kdeplot(ks_success['over_300'], shade=True)\n",
    "plt.show()"
   ]
  },
  {
   "cell_type": "code",
   "execution_count": 35,
   "metadata": {},
   "outputs": [
    {
     "data": {
      "image/png": "[encoded data removed]",
      "text/plain": [
       "<Figure size 432x288 with 1 Axes>"
      ]
     },
     "metadata": {
      "needs_background": "light"
     },
     "output_type": "display_data"
    }
   ],
   "source": [
    "sns.kdeplot(ks_not_success['over_300'], shade=True)\n",
    "plt.show()"
   ]
  },
  {
   "cell_type": "code",
   "execution_count": 36,
   "metadata": {},
   "outputs": [
    {
     "data": {
      "text/plain": [
       "<seaborn.axisgrid.FacetGrid at 0x1a229bf750>"
      ]
     },
     "execution_count": 36,
     "metadata": {},
     "output_type": "execute_result"
    },
    {
     "data": {
      "image/png": "[encoded data removed]",
      "text/plain": [
       "<Figure size 648x216 with 3 Axes>"
      ]
     },
     "metadata": {
      "needs_background": "light"
     },
     "output_type": "display_data"
    }
   ],
   "source": [
    "# seaborn FacetGrid:\n",
    "\n",
    "g = sns.FacetGrid(ks_complete, col='state')\n",
    "g.map(plt.hist, 'pct_of_goal' )"
   ]
  },
  {
   "cell_type": "markdown",
   "metadata": {},
   "source": [
    "## 5a/b. What is the average/median usd_goal_real for all completed kickstarter projects, broken down by main_category"
   ]
  },
  {
   "cell_type": "code",
   "execution_count": 37,
   "metadata": {},
   "outputs": [
    {
     "data": {
      "text/html": [
       "<div>\n",
       "<style scoped>\n",
       "    .dataframe tbody tr th:only-of-type {\n",
       "        vertical-align: middle;\n",
       "    }\n",
       "\n",
       "    .dataframe tbody tr th {\n",
       "        vertical-align: top;\n",
       "    }\n",
       "\n",
       "    .dataframe thead th {\n",
       "        text-align: right;\n",
       "    }\n",
       "</style>\n",
       "<table border=\"1\" class=\"dataframe\">\n",
       "  <thead>\n",
       "    <tr style=\"text-align: right;\">\n",
       "      <th></th>\n",
       "      <th>mean</th>\n",
       "      <th>median</th>\n",
       "      <th>amin</th>\n",
       "      <th>amax</th>\n",
       "    </tr>\n",
       "    <tr>\n",
       "      <th>main_category</th>\n",
       "      <th></th>\n",
       "      <th></th>\n",
       "      <th></th>\n",
       "      <th></th>\n",
       "    </tr>\n",
       "  </thead>\n",
       "  <tbody>\n",
       "    <tr>\n",
       "      <th>Art</th>\n",
       "      <td>39467.623304</td>\n",
       "      <td>3000.00</td>\n",
       "      <td>0.01</td>\n",
       "      <td>1.000000e+08</td>\n",
       "    </tr>\n",
       "    <tr>\n",
       "      <th>Comics</th>\n",
       "      <td>19675.773316</td>\n",
       "      <td>3500.00</td>\n",
       "      <td>0.72</td>\n",
       "      <td>1.000000e+08</td>\n",
       "    </tr>\n",
       "    <tr>\n",
       "      <th>Crafts</th>\n",
       "      <td>10423.092597</td>\n",
       "      <td>2330.35</td>\n",
       "      <td>1.00</td>\n",
       "      <td>1.000000e+07</td>\n",
       "    </tr>\n",
       "    <tr>\n",
       "      <th>Dance</th>\n",
       "      <td>9408.592117</td>\n",
       "      <td>3310.00</td>\n",
       "      <td>5.00</td>\n",
       "      <td>2.000000e+06</td>\n",
       "    </tr>\n",
       "    <tr>\n",
       "      <th>Design</th>\n",
       "      <td>42199.323873</td>\n",
       "      <td>10000.00</td>\n",
       "      <td>0.75</td>\n",
       "      <td>1.000000e+08</td>\n",
       "    </tr>\n",
       "    <tr>\n",
       "      <th>Fashion</th>\n",
       "      <td>22530.494784</td>\n",
       "      <td>5983.55</td>\n",
       "      <td>0.77</td>\n",
       "      <td>1.000000e+08</td>\n",
       "    </tr>\n",
       "    <tr>\n",
       "      <th>Film &amp; Video</th>\n",
       "      <td>82375.686055</td>\n",
       "      <td>7000.00</td>\n",
       "      <td>0.15</td>\n",
       "      <td>1.513959e+08</td>\n",
       "    </tr>\n",
       "    <tr>\n",
       "      <th>Food</th>\n",
       "      <td>48661.356201</td>\n",
       "      <td>10000.00</td>\n",
       "      <td>0.88</td>\n",
       "      <td>1.663614e+08</td>\n",
       "    </tr>\n",
       "    <tr>\n",
       "      <th>Games</th>\n",
       "      <td>45148.243871</td>\n",
       "      <td>8000.00</td>\n",
       "      <td>0.75</td>\n",
       "      <td>1.000000e+08</td>\n",
       "    </tr>\n",
       "    <tr>\n",
       "      <th>Journalism</th>\n",
       "      <td>65528.614392</td>\n",
       "      <td>5000.00</td>\n",
       "      <td>1.00</td>\n",
       "      <td>1.000000e+08</td>\n",
       "    </tr>\n",
       "    <tr>\n",
       "      <th>Music</th>\n",
       "      <td>15719.283867</td>\n",
       "      <td>4000.00</td>\n",
       "      <td>0.74</td>\n",
       "      <td>5.000000e+07</td>\n",
       "    </tr>\n",
       "    <tr>\n",
       "      <th>Photography</th>\n",
       "      <td>12266.908892</td>\n",
       "      <td>4000.00</td>\n",
       "      <td>1.00</td>\n",
       "      <td>1.000000e+07</td>\n",
       "    </tr>\n",
       "    <tr>\n",
       "      <th>Publishing</th>\n",
       "      <td>22590.745149</td>\n",
       "      <td>5000.00</td>\n",
       "      <td>0.01</td>\n",
       "      <td>1.000000e+08</td>\n",
       "    </tr>\n",
       "    <tr>\n",
       "      <th>Technology</th>\n",
       "      <td>102154.155936</td>\n",
       "      <td>20000.00</td>\n",
       "      <td>0.74</td>\n",
       "      <td>1.101698e+08</td>\n",
       "    </tr>\n",
       "    <tr>\n",
       "      <th>Theater</th>\n",
       "      <td>27147.451041</td>\n",
       "      <td>3300.00</td>\n",
       "      <td>1.00</td>\n",
       "      <td>4.000000e+07</td>\n",
       "    </tr>\n",
       "  </tbody>\n",
       "</table>\n",
       "</div>"
      ],
      "text/plain": [
       "                        mean    median  amin          amax\n",
       "main_category                                             \n",
       "Art             39467.623304   3000.00  0.01  1.000000e+08\n",
       "Comics          19675.773316   3500.00  0.72  1.000000e+08\n",
       "Crafts          10423.092597   2330.35  1.00  1.000000e+07\n",
       "Dance            9408.592117   3310.00  5.00  2.000000e+06\n",
       "Design          42199.323873  10000.00  0.75  1.000000e+08\n",
       "Fashion         22530.494784   5983.55  0.77  1.000000e+08\n",
       "Film & Video    82375.686055   7000.00  0.15  1.513959e+08\n",
       "Food            48661.356201  10000.00  0.88  1.663614e+08\n",
       "Games           45148.243871   8000.00  0.75  1.000000e+08\n",
       "Journalism      65528.614392   5000.00  1.00  1.000000e+08\n",
       "Music           15719.283867   4000.00  0.74  5.000000e+07\n",
       "Photography     12266.908892   4000.00  1.00  1.000000e+07\n",
       "Publishing      22590.745149   5000.00  0.01  1.000000e+08\n",
       "Technology     102154.155936  20000.00  0.74  1.101698e+08\n",
       "Theater         27147.451041   3300.00  1.00  4.000000e+07"
      ]
     },
     "execution_count": 37,
     "metadata": {},
     "output_type": "execute_result"
    }
   ],
   "source": [
    "grouped = ks_complete.groupby('main_category')['usd_goal_real']\n",
    "grouped.agg([np.mean, np.median, np.min, np.max])"
   ]
  },
  {
   "cell_type": "markdown",
   "metadata": {},
   "source": [
    "## 5c/d. What is the average/median usd_pledged_real for all completed kickstarter projects, broken down by main_category"
   ]
  },
  {
   "cell_type": "code",
   "execution_count": 38,
   "metadata": {},
   "outputs": [
    {
     "name": "stdout",
     "output_type": "stream",
     "text": [
      "                       mean    median  amin        amax\n",
      "main_category                                          \n",
      "Art             4410.086374   2000.00  0.01   600000.00\n",
      "Comics          5397.352176   2619.71  0.72   250000.00\n",
      "Crafts          3013.430794   1000.00  1.00    75783.09\n",
      "Dance           4601.094769   3000.00  5.00   125000.00\n",
      "Design         15408.835300   7500.00  0.75  1000000.00\n",
      "Fashion         9080.955291   5000.00  1.00   300000.00\n",
      "Film & Video   11145.188408   5000.00  0.77  2000000.00\n",
      "Food           11633.962945   7343.91  0.88   350000.00\n",
      "Games          14857.224807   5000.00  0.75  2015608.88\n",
      "Journalism      8148.647846   3000.00  1.00   177794.64\n",
      "Music           5736.980040   3210.12  0.74   250000.00\n",
      "Photography     6490.599673   3000.00  1.00   400000.00\n",
      "Publishing      5897.848654   3000.00  0.55   250000.00\n",
      "Technology     26286.354186  10000.00  0.75  1000000.00\n",
      "Theater         5198.043532   2650.00  1.00   333841.51\n"
     ]
    }
   ],
   "source": [
    "grouped_complete = ks_success.groupby('main_category')['usd_goal_real']\n",
    "grouped_complete_values = grouped_complete.agg([np.mean, np.median, np.min, np.max])\n",
    "print(grouped_complete_values)"
   ]
  },
  {
   "cell_type": "markdown",
   "metadata": {},
   "source": [
    "##  5e. What insights does this information provide?\n",
    "\n",
    "`Technology` has the highest mean and median goal in both `completed` and `successful` category. `Art` has the lowest min starting `usd_goal_real` in both categories."
   ]
  },
  {
   "cell_type": "markdown",
   "metadata": {},
   "source": [
    "## 5f. Based on this information, if someone wanted to choose the main_category with the highest combined success rate and pledged dollar amount, which one would you recommend?"
   ]
  },
  {
   "cell_type": "code",
   "execution_count": 39,
   "metadata": {},
   "outputs": [
    {
     "data": {
      "text/html": [
       "<div>\n",
       "<style scoped>\n",
       "    .dataframe tbody tr th:only-of-type {\n",
       "        vertical-align: middle;\n",
       "    }\n",
       "\n",
       "    .dataframe tbody tr th {\n",
       "        vertical-align: top;\n",
       "    }\n",
       "\n",
       "    .dataframe thead th {\n",
       "        text-align: right;\n",
       "    }\n",
       "</style>\n",
       "<table border=\"1\" class=\"dataframe\">\n",
       "  <thead>\n",
       "    <tr style=\"text-align: right;\">\n",
       "      <th></th>\n",
       "      <th>mean</th>\n",
       "      <th>median</th>\n",
       "      <th>amin</th>\n",
       "      <th>amax</th>\n",
       "      <th>percent_complete</th>\n",
       "    </tr>\n",
       "  </thead>\n",
       "  <tbody>\n",
       "    <tr>\n",
       "      <th>Dance</th>\n",
       "      <td>4601.094769</td>\n",
       "      <td>3000.00</td>\n",
       "      <td>5.00</td>\n",
       "      <td>125000.00</td>\n",
       "      <td>62.580300</td>\n",
       "    </tr>\n",
       "    <tr>\n",
       "      <th>Theater</th>\n",
       "      <td>5198.043532</td>\n",
       "      <td>2650.00</td>\n",
       "      <td>1.00</td>\n",
       "      <td>333841.51</td>\n",
       "      <td>60.221198</td>\n",
       "    </tr>\n",
       "    <tr>\n",
       "      <th>Comics</th>\n",
       "      <td>5397.352176</td>\n",
       "      <td>2619.71</td>\n",
       "      <td>0.72</td>\n",
       "      <td>250000.00</td>\n",
       "      <td>54.496269</td>\n",
       "    </tr>\n",
       "    <tr>\n",
       "      <th>Music</th>\n",
       "      <td>5736.980040</td>\n",
       "      <td>3210.12</td>\n",
       "      <td>0.74</td>\n",
       "      <td>250000.00</td>\n",
       "      <td>49.126974</td>\n",
       "    </tr>\n",
       "    <tr>\n",
       "      <th>Art</th>\n",
       "      <td>4410.086374</td>\n",
       "      <td>2000.00</td>\n",
       "      <td>0.01</td>\n",
       "      <td>600000.00</td>\n",
       "      <td>41.309263</td>\n",
       "    </tr>\n",
       "    <tr>\n",
       "      <th>Film &amp; Video</th>\n",
       "      <td>11145.188408</td>\n",
       "      <td>5000.00</td>\n",
       "      <td>0.77</td>\n",
       "      <td>2000000.00</td>\n",
       "      <td>37.929097</td>\n",
       "    </tr>\n",
       "    <tr>\n",
       "      <th>Games</th>\n",
       "      <td>14857.224807</td>\n",
       "      <td>5000.00</td>\n",
       "      <td>0.75</td>\n",
       "      <td>2015608.88</td>\n",
       "      <td>36.051032</td>\n",
       "    </tr>\n",
       "    <tr>\n",
       "      <th>Design</th>\n",
       "      <td>15408.835300</td>\n",
       "      <td>7500.00</td>\n",
       "      <td>0.75</td>\n",
       "      <td>1000000.00</td>\n",
       "      <td>35.743326</td>\n",
       "    </tr>\n",
       "    <tr>\n",
       "      <th>Publishing</th>\n",
       "      <td>5897.848654</td>\n",
       "      <td>3000.00</td>\n",
       "      <td>0.55</td>\n",
       "      <td>250000.00</td>\n",
       "      <td>31.500499</td>\n",
       "    </tr>\n",
       "    <tr>\n",
       "      <th>Photography</th>\n",
       "      <td>6490.599673</td>\n",
       "      <td>3000.00</td>\n",
       "      <td>1.00</td>\n",
       "      <td>400000.00</td>\n",
       "      <td>30.960187</td>\n",
       "    </tr>\n",
       "    <tr>\n",
       "      <th>Food</th>\n",
       "      <td>11633.962945</td>\n",
       "      <td>7343.91</td>\n",
       "      <td>0.88</td>\n",
       "      <td>350000.00</td>\n",
       "      <td>25.077272</td>\n",
       "    </tr>\n",
       "    <tr>\n",
       "      <th>Fashion</th>\n",
       "      <td>9080.955291</td>\n",
       "      <td>5000.00</td>\n",
       "      <td>1.00</td>\n",
       "      <td>300000.00</td>\n",
       "      <td>24.940914</td>\n",
       "    </tr>\n",
       "    <tr>\n",
       "      <th>Crafts</th>\n",
       "      <td>3013.430794</td>\n",
       "      <td>1000.00</td>\n",
       "      <td>1.00</td>\n",
       "      <td>75783.09</td>\n",
       "      <td>24.419813</td>\n",
       "    </tr>\n",
       "    <tr>\n",
       "      <th>Journalism</th>\n",
       "      <td>8148.647846</td>\n",
       "      <td>3000.00</td>\n",
       "      <td>1.00</td>\n",
       "      <td>177794.64</td>\n",
       "      <td>21.660959</td>\n",
       "    </tr>\n",
       "    <tr>\n",
       "      <th>Technology</th>\n",
       "      <td>26286.354186</td>\n",
       "      <td>10000.00</td>\n",
       "      <td>0.75</td>\n",
       "      <td>1000000.00</td>\n",
       "      <td>20.254998</td>\n",
       "    </tr>\n",
       "  </tbody>\n",
       "</table>\n",
       "</div>"
      ],
      "text/plain": [
       "                      mean    median  amin        amax  percent_complete\n",
       "Dance          4601.094769   3000.00  5.00   125000.00         62.580300\n",
       "Theater        5198.043532   2650.00  1.00   333841.51         60.221198\n",
       "Comics         5397.352176   2619.71  0.72   250000.00         54.496269\n",
       "Music          5736.980040   3210.12  0.74   250000.00         49.126974\n",
       "Art            4410.086374   2000.00  0.01   600000.00         41.309263\n",
       "Film & Video  11145.188408   5000.00  0.77  2000000.00         37.929097\n",
       "Games         14857.224807   5000.00  0.75  2015608.88         36.051032\n",
       "Design        15408.835300   7500.00  0.75  1000000.00         35.743326\n",
       "Publishing     5897.848654   3000.00  0.55   250000.00         31.500499\n",
       "Photography    6490.599673   3000.00  1.00   400000.00         30.960187\n",
       "Food          11633.962945   7343.91  0.88   350000.00         25.077272\n",
       "Fashion        9080.955291   5000.00  1.00   300000.00         24.940914\n",
       "Crafts         3013.430794   1000.00  1.00    75783.09         24.419813\n",
       "Journalism     8148.647846   3000.00  1.00   177794.64         21.660959\n",
       "Technology    26286.354186  10000.00  0.75  1000000.00         20.254998"
      ]
     },
     "execution_count": 39,
     "metadata": {},
     "output_type": "execute_result"
    }
   ],
   "source": [
    "overall = pd.concat([grouped_complete_values, pct_success], axis=1)\n",
    "overall = overall.rename(columns={'main_category':'percent_complete'})\n",
    "overall.sort_values(by='percent_complete', ascending=False)"
   ]
  },
  {
   "cell_type": "markdown",
   "metadata": {},
   "source": [
    "`Dance`, `Theater` and `Comics` all have a higher than 50% completion, with `Comics` having the highest mean value at \\$5\\,397. The top 3 highest mean inculde: `Technology`, `Design` and `Games`, with the highest competetion rate going to `games` with 36%.\n",
    "\n",
    "A \"safer\" option would be `Theater` or `Comics`, while a \"riskier\" option is `Technology` with the highest payoff but lowest completion rate."
   ]
  },
  {
   "cell_type": "markdown",
   "metadata": {},
   "source": [
    "## 6a. Create a new column 'months' that shows how many months the project was active between launch and deadline."
   ]
  },
  {
   "cell_type": "code",
   "execution_count": 40,
   "metadata": {},
   "outputs": [
    {
     "name": "stdout",
     "output_type": "stream",
     "text": [
      "<class 'pandas.core.frame.DataFrame'>\n",
      "RangeIndex: 378661 entries, 0 to 378660\n",
      "Data columns (total 15 columns):\n",
      " #   Column            Non-Null Count   Dtype  \n",
      "---  ------            --------------   -----  \n",
      " 0   ID                378661 non-null  int64  \n",
      " 1   name              378657 non-null  object \n",
      " 2   category          378661 non-null  object \n",
      " 3   main_category     378661 non-null  object \n",
      " 4   currency          378661 non-null  object \n",
      " 5   deadline          378661 non-null  object \n",
      " 6   goal              378661 non-null  float64\n",
      " 7   launched          378661 non-null  object \n",
      " 8   pledged           378661 non-null  float64\n",
      " 9   state             378661 non-null  object \n",
      " 10  backers           378661 non-null  int64  \n",
      " 11  country           378661 non-null  object \n",
      " 12  usd pledged       374864 non-null  float64\n",
      " 13  usd_pledged_real  378661 non-null  float64\n",
      " 14  usd_goal_real     378661 non-null  float64\n",
      "dtypes: float64(5), int64(2), object(8)\n",
      "memory usage: 43.3+ MB\n"
     ]
    }
   ],
   "source": [
    "ks_data.info()"
   ]
  },
  {
   "cell_type": "code",
   "execution_count": 41,
   "metadata": {},
   "outputs": [
    {
     "data": {
      "text/plain": [
       "0         1.921726\n",
       "1         1.964814\n",
       "2         1.477994\n",
       "3         0.980988\n",
       "4         1.828122\n",
       "            ...   \n",
       "378656    0.982099\n",
       "378657    0.882171\n",
       "378658    1.484391\n",
       "378659    0.993543\n",
       "378660    0.907439\n",
       "Name: months, Length: 378661, dtype: float64"
      ]
     },
     "execution_count": 41,
     "metadata": {},
     "output_type": "execute_result"
    }
   ],
   "source": [
    "# first we'll need to convert 'launched' and 'deadline' to type datetime\n",
    "\n",
    "ks_data['launched'] = pd.to_datetime(ks_data['launched'])\n",
    "ks_data['deadline'] = pd.to_datetime(ks_data['deadline'])\n",
    "\n",
    "#now lets generarte the new column\n",
    "ks_data['months'] = (ks_data['deadline'] - ks_data['launched']) / np.timedelta64(1, 'M')\n",
    "ks_data['months']"
   ]
  },
  {
   "cell_type": "markdown",
   "metadata": {},
   "source": [
    "## 6b. Compare the avg months for successful projects vs non-successful. Add visuals if you'd like."
   ]
  },
  {
   "cell_type": "code",
   "execution_count": 42,
   "metadata": {},
   "outputs": [
    {
     "name": "stdout",
     "output_type": "stream",
     "text": [
      "                mean    median      amin        amax\n",
      "state                                               \n",
      "canceled    1.238679  0.980431  0.003143  488.452193\n",
      "failed      1.137120  0.976997  0.001166    3.021422\n",
      "live        1.289052  1.083030  0.118394    1.972557\n",
      "successful  1.037793  0.968118  0.000166    3.012157\n",
      "suspended   1.442903  0.979237  0.028089  549.956536\n",
      "undefined   1.061652  0.969542  0.036421    2.942919\n"
     ]
    }
   ],
   "source": [
    "grouped_months = ks_data.groupby('state')['months']\n",
    "grouped_months_mean = grouped_months.mean()\n",
    "grouped_months_values = grouped_months.agg([np.mean, np.median, np.min, np.max])\n",
    "print(grouped_months_values)"
   ]
  },
  {
   "cell_type": "code",
   "execution_count": 43,
   "metadata": {},
   "outputs": [
    {
     "data": {
      "text/plain": [
       "Text(0, 0.5, 'Months')"
      ]
     },
     "execution_count": 43,
     "metadata": {},
     "output_type": "execute_result"
    },
    {
     "data": {
      "image/png": "[encoded data removed]",
      "text/plain": [
       "<Figure size 432x288 with 1 Axes>"
      ]
     },
     "metadata": {
      "needs_background": "light"
     },
     "output_type": "display_data"
    }
   ],
   "source": [
    "grouped_months_mean.plot(kind='bar')\n",
    "plt.title('Average Active Time in Months')\n",
    "plt.ylabel('Months')"
   ]
  },
  {
   "cell_type": "markdown",
   "metadata": {},
   "source": [
    "## 6c. Does the length of a project in months seem to have an impact?\n",
    "\n",
    "According to our graphic above, `successful` projects appear to have the shortest timeline of the all, with `undefined` being nearly tied. It is wirth noting that the overall difference between them is only 0.4 months, or about 12 days. The medians are even closer, within 0.12."
   ]
  },
  {
   "cell_type": "markdown",
   "metadata": {},
   "source": [
    "## 7a. Calculate the expected value for the Games: Video Games category, with the expected value defined as (median of usd_pledged_real)* (success rate of completed projects)."
   ]
  },
  {
   "cell_type": "code",
   "execution_count": 44,
   "metadata": {},
   "outputs": [
    {
     "data": {
      "text/html": [
       "<div>\n",
       "<style scoped>\n",
       "    .dataframe tbody tr th:only-of-type {\n",
       "        vertical-align: middle;\n",
       "    }\n",
       "\n",
       "    .dataframe tbody tr th {\n",
       "        vertical-align: top;\n",
       "    }\n",
       "\n",
       "    .dataframe thead th {\n",
       "        text-align: right;\n",
       "    }\n",
       "</style>\n",
       "<table border=\"1\" class=\"dataframe\">\n",
       "  <thead>\n",
       "    <tr style=\"text-align: right;\">\n",
       "      <th></th>\n",
       "      <th>count</th>\n",
       "      <th>median</th>\n",
       "    </tr>\n",
       "    <tr>\n",
       "      <th>state</th>\n",
       "      <th></th>\n",
       "      <th></th>\n",
       "    </tr>\n",
       "  </thead>\n",
       "  <tbody>\n",
       "    <tr>\n",
       "      <th>canceled</th>\n",
       "      <td>2363</td>\n",
       "      <td>151.000</td>\n",
       "    </tr>\n",
       "    <tr>\n",
       "      <th>failed</th>\n",
       "      <td>6942</td>\n",
       "      <td>184.000</td>\n",
       "    </tr>\n",
       "    <tr>\n",
       "      <th>live</th>\n",
       "      <td>86</td>\n",
       "      <td>153.435</td>\n",
       "    </tr>\n",
       "    <tr>\n",
       "      <th>successful</th>\n",
       "      <td>2386</td>\n",
       "      <td>11227.920</td>\n",
       "    </tr>\n",
       "    <tr>\n",
       "      <th>suspended</th>\n",
       "      <td>53</td>\n",
       "      <td>10.000</td>\n",
       "    </tr>\n",
       "  </tbody>\n",
       "</table>\n",
       "</div>"
      ],
      "text/plain": [
       "            count     median\n",
       "state                       \n",
       "canceled     2363    151.000\n",
       "failed       6942    184.000\n",
       "live           86    153.435\n",
       "successful   2386  11227.920\n",
       "suspended      53     10.000"
      ]
     },
     "execution_count": 44,
     "metadata": {},
     "output_type": "execute_result"
    }
   ],
   "source": [
    "#first, a pivot table of video games by state and median\n",
    "ks_data[\"year\"] = pd.to_datetime(ks_data[\"deadline\"]).dt.year\n",
    "video_games = ks_data[ks_data['category'] == 'Video Games']\n",
    "video_games_pt = pd.pivot_table(video_games, index = 'state', values = 'usd_pledged_real', aggfunc=(np.median, 'count'))\n",
    "video_games_pt"
   ]
  },
  {
   "cell_type": "code",
   "execution_count": 45,
   "metadata": {},
   "outputs": [
    {
     "data": {
      "text/html": [
       "<div>\n",
       "<style scoped>\n",
       "    .dataframe tbody tr th:only-of-type {\n",
       "        vertical-align: middle;\n",
       "    }\n",
       "\n",
       "    .dataframe tbody tr th {\n",
       "        vertical-align: top;\n",
       "    }\n",
       "\n",
       "    .dataframe thead th {\n",
       "        text-align: right;\n",
       "    }\n",
       "</style>\n",
       "<table border=\"1\" class=\"dataframe\">\n",
       "  <thead>\n",
       "    <tr style=\"text-align: right;\">\n",
       "      <th></th>\n",
       "      <th>count</th>\n",
       "      <th>median</th>\n",
       "      <th>success_rate</th>\n",
       "    </tr>\n",
       "    <tr>\n",
       "      <th>state</th>\n",
       "      <th></th>\n",
       "      <th></th>\n",
       "      <th></th>\n",
       "    </tr>\n",
       "  </thead>\n",
       "  <tbody>\n",
       "    <tr>\n",
       "      <th>canceled</th>\n",
       "      <td>2363</td>\n",
       "      <td>151.000</td>\n",
       "      <td>0.199746</td>\n",
       "    </tr>\n",
       "    <tr>\n",
       "      <th>failed</th>\n",
       "      <td>6942</td>\n",
       "      <td>184.000</td>\n",
       "      <td>0.586813</td>\n",
       "    </tr>\n",
       "    <tr>\n",
       "      <th>live</th>\n",
       "      <td>86</td>\n",
       "      <td>153.435</td>\n",
       "      <td>0.007270</td>\n",
       "    </tr>\n",
       "    <tr>\n",
       "      <th>successful</th>\n",
       "      <td>2386</td>\n",
       "      <td>11227.920</td>\n",
       "      <td>0.201691</td>\n",
       "    </tr>\n",
       "    <tr>\n",
       "      <th>suspended</th>\n",
       "      <td>53</td>\n",
       "      <td>10.000</td>\n",
       "      <td>0.004480</td>\n",
       "    </tr>\n",
       "  </tbody>\n",
       "</table>\n",
       "</div>"
      ],
      "text/plain": [
       "            count     median  success_rate\n",
       "state                                     \n",
       "canceled     2363    151.000      0.199746\n",
       "failed       6942    184.000      0.586813\n",
       "live           86    153.435      0.007270\n",
       "successful   2386  11227.920      0.201691\n",
       "suspended      53     10.000      0.004480"
      ]
     },
     "execution_count": 45,
     "metadata": {},
     "output_type": "execute_result"
    }
   ],
   "source": [
    "#now we add a success rate column\n",
    "video_games_pt['success_rate'] = ((video_games_pt['count'] / video_games_pt['count'].sum()))\n",
    "video_games_pt"
   ]
  },
  {
   "cell_type": "code",
   "execution_count": 46,
   "metadata": {},
   "outputs": [
    {
     "data": {
      "text/html": [
       "<div>\n",
       "<style scoped>\n",
       "    .dataframe tbody tr th:only-of-type {\n",
       "        vertical-align: middle;\n",
       "    }\n",
       "\n",
       "    .dataframe tbody tr th {\n",
       "        vertical-align: top;\n",
       "    }\n",
       "\n",
       "    .dataframe thead th {\n",
       "        text-align: right;\n",
       "    }\n",
       "</style>\n",
       "<table border=\"1\" class=\"dataframe\">\n",
       "  <thead>\n",
       "    <tr style=\"text-align: right;\">\n",
       "      <th></th>\n",
       "      <th>count</th>\n",
       "      <th>median</th>\n",
       "      <th>success_rate</th>\n",
       "      <th>expected_value</th>\n",
       "    </tr>\n",
       "    <tr>\n",
       "      <th>state</th>\n",
       "      <th></th>\n",
       "      <th></th>\n",
       "      <th></th>\n",
       "      <th></th>\n",
       "    </tr>\n",
       "  </thead>\n",
       "  <tbody>\n",
       "    <tr>\n",
       "      <th>canceled</th>\n",
       "      <td>2363</td>\n",
       "      <td>151.000</td>\n",
       "      <td>0.199746</td>\n",
       "      <td>30.161708</td>\n",
       "    </tr>\n",
       "    <tr>\n",
       "      <th>failed</th>\n",
       "      <td>6942</td>\n",
       "      <td>184.000</td>\n",
       "      <td>0.586813</td>\n",
       "      <td>107.973626</td>\n",
       "    </tr>\n",
       "    <tr>\n",
       "      <th>live</th>\n",
       "      <td>86</td>\n",
       "      <td>153.435</td>\n",
       "      <td>0.007270</td>\n",
       "      <td>1.115419</td>\n",
       "    </tr>\n",
       "    <tr>\n",
       "      <th>successful</th>\n",
       "      <td>2386</td>\n",
       "      <td>11227.920</td>\n",
       "      <td>0.201691</td>\n",
       "      <td>2264.566113</td>\n",
       "    </tr>\n",
       "    <tr>\n",
       "      <th>suspended</th>\n",
       "      <td>53</td>\n",
       "      <td>10.000</td>\n",
       "      <td>0.004480</td>\n",
       "      <td>0.044801</td>\n",
       "    </tr>\n",
       "  </tbody>\n",
       "</table>\n",
       "</div>"
      ],
      "text/plain": [
       "            count     median  success_rate  expected_value\n",
       "state                                                     \n",
       "canceled     2363    151.000      0.199746       30.161708\n",
       "failed       6942    184.000      0.586813      107.973626\n",
       "live           86    153.435      0.007270        1.115419\n",
       "successful   2386  11227.920      0.201691     2264.566113\n",
       "suspended      53     10.000      0.004480        0.044801"
      ]
     },
     "execution_count": 46,
     "metadata": {},
     "output_type": "execute_result"
    }
   ],
   "source": [
    "#let's generate the expected value\n",
    "video_games_pt['expected_value'] = video_games_pt['median'] * video_games_pt['success_rate']\n",
    "video_games_pt"
   ]
  },
  {
   "cell_type": "markdown",
   "metadata": {},
   "source": [
    "We can see the expected value for a successful video game is $2,264"
   ]
  },
  {
   "cell_type": "markdown",
   "metadata": {},
   "source": [
    "## 7b. Do this again but broken down by deadline year"
   ]
  },
  {
   "cell_type": "code",
   "execution_count": 47,
   "metadata": {},
   "outputs": [
    {
     "data": {
      "text/html": [
       "<div>\n",
       "<style scoped>\n",
       "    .dataframe tbody tr th:only-of-type {\n",
       "        vertical-align: middle;\n",
       "    }\n",
       "\n",
       "    .dataframe tbody tr th {\n",
       "        vertical-align: top;\n",
       "    }\n",
       "\n",
       "    .dataframe thead th {\n",
       "        text-align: right;\n",
       "    }\n",
       "</style>\n",
       "<table border=\"1\" class=\"dataframe\">\n",
       "  <thead>\n",
       "    <tr style=\"text-align: right;\">\n",
       "      <th></th>\n",
       "      <th>ID</th>\n",
       "      <th>name</th>\n",
       "      <th>category</th>\n",
       "      <th>main_category</th>\n",
       "      <th>currency</th>\n",
       "      <th>deadline</th>\n",
       "      <th>goal</th>\n",
       "      <th>launched</th>\n",
       "      <th>pledged</th>\n",
       "      <th>state</th>\n",
       "      <th>backers</th>\n",
       "      <th>country</th>\n",
       "      <th>usd pledged</th>\n",
       "      <th>usd_pledged_real</th>\n",
       "      <th>usd_goal_real</th>\n",
       "      <th>months</th>\n",
       "      <th>year</th>\n",
       "      <th>successful</th>\n",
       "    </tr>\n",
       "  </thead>\n",
       "  <tbody>\n",
       "    <tr>\n",
       "      <th>79</th>\n",
       "      <td>1000328150</td>\n",
       "      <td>Legacy of Svarog | a Unique 3D Action RPG and ...</td>\n",
       "      <td>Video Games</td>\n",
       "      <td>Games</td>\n",
       "      <td>USD</td>\n",
       "      <td>2015-10-30</td>\n",
       "      <td>50000.0</td>\n",
       "      <td>2015-08-31 06:33:31</td>\n",
       "      <td>1410.00</td>\n",
       "      <td>failed</td>\n",
       "      <td>38</td>\n",
       "      <td>US</td>\n",
       "      <td>1410.00</td>\n",
       "      <td>1410.00</td>\n",
       "      <td>50000.00</td>\n",
       "      <td>1.962315</td>\n",
       "      <td>2015</td>\n",
       "      <td>0</td>\n",
       "    </tr>\n",
       "    <tr>\n",
       "      <th>126</th>\n",
       "      <td>1000524949</td>\n",
       "      <td>Operation: Make Stuff</td>\n",
       "      <td>Video Games</td>\n",
       "      <td>Games</td>\n",
       "      <td>USD</td>\n",
       "      <td>2012-10-18</td>\n",
       "      <td>200.0</td>\n",
       "      <td>2012-09-18 04:46:06</td>\n",
       "      <td>306.72</td>\n",
       "      <td>successful</td>\n",
       "      <td>36</td>\n",
       "      <td>US</td>\n",
       "      <td>306.72</td>\n",
       "      <td>306.72</td>\n",
       "      <td>200.00</td>\n",
       "      <td>0.979119</td>\n",
       "      <td>2012</td>\n",
       "      <td>1</td>\n",
       "    </tr>\n",
       "    <tr>\n",
       "      <th>159</th>\n",
       "      <td>1000648918</td>\n",
       "      <td>ADVENT SAGA, DIGITAL TACTICAL CARD GAME</td>\n",
       "      <td>Video Games</td>\n",
       "      <td>Games</td>\n",
       "      <td>USD</td>\n",
       "      <td>2014-07-31</td>\n",
       "      <td>70000.0</td>\n",
       "      <td>2014-07-01 16:01:41</td>\n",
       "      <td>15542.11</td>\n",
       "      <td>failed</td>\n",
       "      <td>260</td>\n",
       "      <td>US</td>\n",
       "      <td>15542.11</td>\n",
       "      <td>15542.11</td>\n",
       "      <td>70000.00</td>\n",
       "      <td>0.963705</td>\n",
       "      <td>2014</td>\n",
       "      <td>0</td>\n",
       "    </tr>\n",
       "    <tr>\n",
       "      <th>192</th>\n",
       "      <td>1000786724</td>\n",
       "      <td>Harold VS The Horde</td>\n",
       "      <td>Video Games</td>\n",
       "      <td>Games</td>\n",
       "      <td>USD</td>\n",
       "      <td>2015-01-18</td>\n",
       "      <td>14000.0</td>\n",
       "      <td>2014-12-19 07:49:11</td>\n",
       "      <td>113.00</td>\n",
       "      <td>failed</td>\n",
       "      <td>18</td>\n",
       "      <td>US</td>\n",
       "      <td>113.00</td>\n",
       "      <td>113.00</td>\n",
       "      <td>14000.00</td>\n",
       "      <td>0.974942</td>\n",
       "      <td>2015</td>\n",
       "      <td>0</td>\n",
       "    </tr>\n",
       "    <tr>\n",
       "      <th>199</th>\n",
       "      <td>1000811882</td>\n",
       "      <td>The Sword of Asumi Visual Novel</td>\n",
       "      <td>Video Games</td>\n",
       "      <td>Games</td>\n",
       "      <td>GBP</td>\n",
       "      <td>2014-11-10</td>\n",
       "      <td>2500.0</td>\n",
       "      <td>2014-10-19 20:35:23</td>\n",
       "      <td>3097.00</td>\n",
       "      <td>successful</td>\n",
       "      <td>107</td>\n",
       "      <td>GB</td>\n",
       "      <td>4983.78</td>\n",
       "      <td>4848.23</td>\n",
       "      <td>3913.65</td>\n",
       "      <td>0.694621</td>\n",
       "      <td>2014</td>\n",
       "      <td>1</td>\n",
       "    </tr>\n",
       "  </tbody>\n",
       "</table>\n",
       "</div>"
      ],
      "text/plain": [
       "             ID                                               name  \\\n",
       "79   1000328150  Legacy of Svarog | a Unique 3D Action RPG and ...   \n",
       "126  1000524949                              Operation: Make Stuff   \n",
       "159  1000648918            ADVENT SAGA, DIGITAL TACTICAL CARD GAME   \n",
       "192  1000786724                                Harold VS The Horde   \n",
       "199  1000811882                    The Sword of Asumi Visual Novel   \n",
       "\n",
       "        category main_category currency   deadline     goal  \\\n",
       "79   Video Games         Games      USD 2015-10-30  50000.0   \n",
       "126  Video Games         Games      USD 2012-10-18    200.0   \n",
       "159  Video Games         Games      USD 2014-07-31  70000.0   \n",
       "192  Video Games         Games      USD 2015-01-18  14000.0   \n",
       "199  Video Games         Games      GBP 2014-11-10   2500.0   \n",
       "\n",
       "               launched   pledged       state  backers country  usd pledged  \\\n",
       "79  2015-08-31 06:33:31   1410.00      failed       38      US      1410.00   \n",
       "126 2012-09-18 04:46:06    306.72  successful       36      US       306.72   \n",
       "159 2014-07-01 16:01:41  15542.11      failed      260      US     15542.11   \n",
       "192 2014-12-19 07:49:11    113.00      failed       18      US       113.00   \n",
       "199 2014-10-19 20:35:23   3097.00  successful      107      GB      4983.78   \n",
       "\n",
       "     usd_pledged_real  usd_goal_real    months  year  successful  \n",
       "79            1410.00       50000.00  1.962315  2015           0  \n",
       "126            306.72         200.00  0.979119  2012           1  \n",
       "159          15542.11       70000.00  0.963705  2014           0  \n",
       "192            113.00       14000.00  0.974942  2015           0  \n",
       "199           4848.23        3913.65  0.694621  2014           1  "
      ]
     },
     "execution_count": 47,
     "metadata": {},
     "output_type": "execute_result"
    }
   ],
   "source": [
    "\n",
    "#lets add a successful column to aid in the table\n",
    "\n",
    "temp = pd.get_dummies(video_games['state'])\n",
    "temp = temp['successful']\n",
    "video_games = pd.concat([video_games, temp], axis=1)\n",
    "video_games.head()\n"
   ]
  },
  {
   "cell_type": "code",
   "execution_count": 48,
   "metadata": {},
   "outputs": [
    {
     "name": "stdout",
     "output_type": "stream",
     "text": [
      "   year  name  successful  usd_pledged_real  success_rate  excepted_value\n",
      "0  2009    24         9.0            230.00      0.375000       86.250000\n",
      "1  2010   151        40.0            305.00      0.264901       80.794702\n",
      "2  2011   331        85.0            310.00      0.256798       79.607251\n",
      "3  2012  1412       293.0            798.04      0.207507      165.598952\n",
      "4  2013  1846       436.0           1158.21      0.236186      273.553391\n",
      "5  2014  2107       421.0            501.00      0.199810      100.104888\n",
      "6  2015  2221       373.0            183.54      0.167942       30.824142\n",
      "7  2016  1945       382.0            247.12      0.196401       48.534622\n",
      "8  2017  1695       347.0            275.00      0.204720       56.297935\n",
      "9  2018    97         0.0            121.37      0.000000        0.000000\n",
      "<class 'pandas.core.frame.DataFrame'>\n",
      "RangeIndex: 10 entries, 0 to 9\n",
      "Data columns (total 6 columns):\n",
      " #   Column            Non-Null Count  Dtype  \n",
      "---  ------            --------------  -----  \n",
      " 0   year              10 non-null     int64  \n",
      " 1   name              10 non-null     int64  \n",
      " 2   successful        10 non-null     float64\n",
      " 3   usd_pledged_real  10 non-null     float64\n",
      " 4   success_rate      10 non-null     float64\n",
      " 5   excepted_value    10 non-null     float64\n",
      "dtypes: float64(4), int64(2)\n",
      "memory usage: 608.0 bytes\n"
     ]
    }
   ],
   "source": [
    "#now lets create a pivot table\n",
    "\n",
    "video_games_pt = pd.pivot_table(video_games, index='year', values=['name', 'usd_pledged_real', 'successful'], \n",
    "                                aggfunc={'name':'count', 'usd_pledged_real': 'median', 'successful':'sum'})\n",
    "video_games_pt['success_rate'] = video_games_pt['successful'] / video_games_pt['name']\n",
    "video_games_pt['excepted_value'] = video_games_pt['usd_pledged_real']*video_games_pt['success_rate']\n",
    "video_games_pt = video_games_pt.reset_index()\n",
    "print(video_games_pt)\n",
    "video_games_pt.info()"
   ]
  },
  {
   "cell_type": "markdown",
   "metadata": {},
   "source": [
    "## 7c. Show this in a bar chart"
   ]
  },
  {
   "cell_type": "code",
   "execution_count": 49,
   "metadata": {},
   "outputs": [
    {
     "data": {
      "text/plain": [
       "Text(0.5, 1.0, 'Expected Value of Video Games')"
      ]
     },
     "execution_count": 49,
     "metadata": {},
     "output_type": "execute_result"
    },
    {
     "data": {
      "image/png": "[encoded data removed]",
      "text/plain": [
       "<Figure size 432x288 with 1 Axes>"
      ]
     },
     "metadata": {
      "needs_background": "light"
     },
     "output_type": "display_data"
    }
   ],
   "source": [
    "#here i discovered my earlier misspelling of expected...\n",
    "sns.barplot(x='year', y='excepted_value', data=video_games_pt,\n",
    "            label=\"Expected Value\", color=\"b\")\n",
    "plt.title('Expected Value of Video Games')"
   ]
  },
  {
   "cell_type": "markdown",
   "metadata": {},
   "source": [
    "## 7d. What insights does this data provide you?\n",
    "\n",
    "2009 to 2011 were fairly stable and then the value climbed in 2012 and peaked in 2013. The expected value dropped precipitously the next two years and since leveled off. As of 2017 it wa approaching, but not yet at, 2009-2011 levels."
   ]
  },
  {
   "cell_type": "markdown",
   "metadata": {},
   "source": [
    "## 8a. Calculate the project count, success rate, and pct_of_goal for all projects with 'planner' in the name.\n",
    "Check for spelling variations in upper/lowercase."
   ]
  },
  {
   "cell_type": "code",
   "execution_count": 61,
   "metadata": {},
   "outputs": [],
   "source": [
    "plan = ks_data['name'].str.lower().str.contains('planner', na=False)"
   ]
  },
  {
   "cell_type": "code",
   "execution_count": 62,
   "metadata": {},
   "outputs": [
    {
     "name": "stdout",
     "output_type": "stream",
     "text": [
      "<class 'pandas.core.frame.DataFrame'>\n",
      "Int64Index: 367 entries, 3119 to 378485\n",
      "Data columns (total 17 columns):\n",
      " #   Column            Non-Null Count  Dtype         \n",
      "---  ------            --------------  -----         \n",
      " 0   ID                367 non-null    int64         \n",
      " 1   name              367 non-null    object        \n",
      " 2   category          367 non-null    object        \n",
      " 3   main_category     367 non-null    object        \n",
      " 4   currency          367 non-null    object        \n",
      " 5   deadline          367 non-null    datetime64[ns]\n",
      " 6   goal              367 non-null    float64       \n",
      " 7   launched          367 non-null    datetime64[ns]\n",
      " 8   pledged           367 non-null    float64       \n",
      " 9   state             367 non-null    object        \n",
      " 10  backers           367 non-null    int64         \n",
      " 11  country           367 non-null    object        \n",
      " 12  usd pledged       364 non-null    float64       \n",
      " 13  usd_pledged_real  367 non-null    float64       \n",
      " 14  usd_goal_real     367 non-null    float64       \n",
      " 15  months            367 non-null    float64       \n",
      " 16  year              367 non-null    int64         \n",
      "dtypes: datetime64[ns](2), float64(6), int64(3), object(6)\n",
      "memory usage: 51.6+ KB\n"
     ]
    }
   ],
   "source": [
    "planner = ks_data[plan]\n",
    "planner.info()"
   ]
  },
  {
   "cell_type": "markdown",
   "metadata": {},
   "source": [
    "There are 367 projects in `planner`"
   ]
  },
  {
   "cell_type": "code",
   "execution_count": 65,
   "metadata": {},
   "outputs": [
    {
     "data": {
      "text/plain": [
       "0.5355648535564853"
      ]
     },
     "execution_count": 65,
     "metadata": {},
     "output_type": "execute_result"
    }
   ],
   "source": [
    "success_rate = len(planner[planner['state']=='successful']) / len(planner[planner['state']!='successful'])\n",
    "success_rate"
   ]
  },
  {
   "cell_type": "markdown",
   "metadata": {},
   "source": [
    "The mean success rate for `planner` is 53.5%"
   ]
  },
  {
   "cell_type": "code",
   "execution_count": 69,
   "metadata": {},
   "outputs": [
    {
     "data": {
      "text/plain": [
       "194.64847411444134"
      ]
     },
     "execution_count": 69,
     "metadata": {},
     "output_type": "execute_result"
    }
   ],
   "source": [
    "planner_mean = planner.copy()\n",
    "planner_mean['pct_of_goal'] = ((planner_mean['usd_pledged_real']) / (planner_mean['usd_goal_real'])*100).round(2)\n",
    "mean_pct_goal = planner_mean['pct_of_goal'].mean()\n",
    "mean_pct_goal"
   ]
  },
  {
   "cell_type": "markdown",
   "metadata": {},
   "source": [
    "The mean `pct_of_goal` for `planner` is 194.6"
   ]
  },
  {
   "cell_type": "markdown",
   "metadata": {},
   "source": [
    "## 8b. How about all projects with both 'planner' and 'Panda' in the name?"
   ]
  },
  {
   "cell_type": "code",
   "execution_count": 78,
   "metadata": {},
   "outputs": [
    {
     "data": {
      "text/html": [
       "<div>\n",
       "<style scoped>\n",
       "    .dataframe tbody tr th:only-of-type {\n",
       "        vertical-align: middle;\n",
       "    }\n",
       "\n",
       "    .dataframe tbody tr th {\n",
       "        vertical-align: top;\n",
       "    }\n",
       "\n",
       "    .dataframe thead th {\n",
       "        text-align: right;\n",
       "    }\n",
       "</style>\n",
       "<table border=\"1\" class=\"dataframe\">\n",
       "  <thead>\n",
       "    <tr style=\"text-align: right;\">\n",
       "      <th></th>\n",
       "      <th>ID</th>\n",
       "      <th>name</th>\n",
       "      <th>category</th>\n",
       "      <th>main_category</th>\n",
       "      <th>currency</th>\n",
       "      <th>deadline</th>\n",
       "      <th>goal</th>\n",
       "      <th>launched</th>\n",
       "      <th>pledged</th>\n",
       "      <th>state</th>\n",
       "      <th>backers</th>\n",
       "      <th>country</th>\n",
       "      <th>usd pledged</th>\n",
       "      <th>usd_pledged_real</th>\n",
       "      <th>usd_goal_real</th>\n",
       "      <th>months</th>\n",
       "      <th>year</th>\n",
       "      <th>pct_of_goal</th>\n",
       "    </tr>\n",
       "  </thead>\n",
       "  <tbody>\n",
       "    <tr>\n",
       "      <th>374940</th>\n",
       "      <td>980774782</td>\n",
       "      <td>Panda Planner Pro: Happiness + Productivity = ...</td>\n",
       "      <td>Product Design</td>\n",
       "      <td>Design</td>\n",
       "      <td>USD</td>\n",
       "      <td>2016-04-02</td>\n",
       "      <td>10000.0</td>\n",
       "      <td>2016-02-29 17:00:53</td>\n",
       "      <td>26944.0</td>\n",
       "      <td>successful</td>\n",
       "      <td>829</td>\n",
       "      <td>US</td>\n",
       "      <td>26944.0</td>\n",
       "      <td>26944.0</td>\n",
       "      <td>10000.0</td>\n",
       "      <td>1.060919</td>\n",
       "      <td>2016</td>\n",
       "      <td>269.44</td>\n",
       "    </tr>\n",
       "  </tbody>\n",
       "</table>\n",
       "</div>"
      ],
      "text/plain": [
       "               ID                                               name  \\\n",
       "374940  980774782  Panda Planner Pro: Happiness + Productivity = ...   \n",
       "\n",
       "              category main_category currency   deadline     goal  \\\n",
       "374940  Product Design        Design      USD 2016-04-02  10000.0   \n",
       "\n",
       "                  launched  pledged       state  backers country  usd pledged  \\\n",
       "374940 2016-02-29 17:00:53  26944.0  successful      829      US      26944.0   \n",
       "\n",
       "        usd_pledged_real  usd_goal_real    months  year  pct_of_goal  \n",
       "374940           26944.0        10000.0  1.060919  2016       269.44  "
      ]
     },
     "execution_count": 78,
     "metadata": {},
     "output_type": "execute_result"
    }
   ],
   "source": [
    "planner_pandas = planner['name'].str.lower().str.contains('panda')\n",
    "planner_pandas = planner[planner_pandas]\n",
    "planner_pandas.head()"
   ]
  },
  {
   "cell_type": "markdown",
   "metadata": {},
   "source": [
    "## Congrats!"
   ]
  }
 ],
 "metadata": {
  "kernelspec": {
   "display_name": "Python 3",
   "language": "python",
   "name": "python3"
  },
  "language_info": {
   "codemirror_mode": {
    "name": "ipython",
    "version": 3
   },
   "file_extension": ".py",
   "mimetype": "text/x-python",
   "name": "python",
   "nbconvert_exporter": "python",
   "pygments_lexer": "ipython3",
   "version": "3.7.6"
  }
 },
 "nbformat": 4,
 "nbformat_minor": 4
}
