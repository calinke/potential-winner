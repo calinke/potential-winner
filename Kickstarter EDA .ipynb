{
 "cells": [
  {
   "cell_type": "markdown",
   "metadata": {},
   "source": [
    "## EDA of Kickstarter Data\n",
    "\n",
    "For this project we're going to explore a free dataset on Kaggle with Kickstarter project data from May 2009 to March 2018. We will perform some EDA on the data (Exploratory Data Analysis) to gather any insights. \n",
    "\n",
    "**Questions to Answer:**  \n",
    "1a. Examine the `state` column to see unique values and counts.  \n",
    "1b. Show a pie chart of the `state` project count for all projects.  \n",
    "1c. Create a new \"Completed\" dataframe that removes any rows with state of 'live', 'undefined', or suspended.  \n",
    "*note - from here out we'll be looking at the completed project data unless mentioned otherwise*\n",
    "\n",
    "2a. What is the overall success rate for all completed kickstarter projects?  \n",
    "2b. Which 5 projects were pledged the most money (usd_pledged_real)?  \n",
    "2c. Which 5 projects had the most backers?  \n",
    "2d. Which year had the most competition? (# of projects)  \n",
    "\n",
    "3a. What is the success rate for all projects broken down by `main_category`?  \n",
    "3b. Show a horizontal bar chart for project success rate by `main_category`, sorted by highest to lowest.  \n",
    "3c. Within the Games `main_category`, what is the success rate for each `category` within it?  \n",
    "\n",
    "4a. Calculate the 'pct_of_goal' for each completed project  \n",
    "4b. What were the top 5 projects when looking at pct_of_goal for all time?  \n",
    "4c. Plot a histogram distribution of all completed projects by pct_of_goal  \n",
    "4d. Create 2 histogram subplots by pct_of_goal: 1) state=successful, and 2) all others (failed)  \n",
    "\n",
    "5a. What is the average `usd_goal_real` for all *completed* kickstarter projects, broken down by `main_category`.  \n",
    "5b. What is the median `usd_goal_real` for all *completed* kickstarter projects, broken down by `main_category`.  \n",
    "5c. What is the average `usd_pledged_real` for all *completed* kickstarter projects, broken down by `main_category`.  \n",
    "5d. What is the median `usd_pledged_real` for all *completed* kickstarter projects, broken down by `main_category`.  \n",
    "5e. What insights does this information provide?  \n",
    "5f. Based on this information, if someone wanted to choose the `main_category` with the highest combined success rate and pledged dollar amount, which one would you recommend?  \n",
    "\n",
    "6a. Create a new column 'months' that shows how many months the project was active between launch and deadline.  \n",
    "6b. Compare the avg months for successful projects vs non-successful.  Add visuals if you'd like.  \n",
    "6c. Does the length of a project in months seem to have an impact?  \n",
    "\n",
    "*Let's zoom in on Games: Video Games (main_category: category)*\n",
    "\n",
    "7a. Calculate the expected value for the Games: Video Games category, with the expected value defined as (median of usd_pledged_real)* (success rate of completed projects).  \n",
    "7b. Do this again but broken down by deadline year  \n",
    "7c. Show this in a bar chart  \n",
    "7d. What insights does this data provide you?  \n",
    "\n",
    "*Let's zoom in on personal planners*\n",
    "\n",
    "8a. Calculate the project count, success rate, and pct_of_goal for all projects with 'planner' in the name.  Check for spelling variations in upper/lowercase.  \n",
    "8b. How about all projects with both 'planner' and 'Panda' in the name?  \n",
    "8c. Congrats Panda Planner!  (That's my bro's company)\n"
   ]
  },
  {
   "cell_type": "markdown",
   "metadata": {},
   "source": [
    "First, lets open the data set and have a look at some rows and columns:"
   ]
  },
  {
   "cell_type": "code",
   "execution_count": 5,
   "metadata": {},
   "outputs": [],
   "source": [
    "from csv import reader\n",
    "import os\n",
    "import pandas as pd\n",
    "from operator import itemgetter\n",
    "import matplotlib.pyplot as plt\n",
    "%matplotlib inline\n",
    "\n",
    "opened_file = open('/Users/Chris/Desktop/ks-data.csv')\n",
    "read_file = reader(opened_file)\n",
    "ks_data = list(read_file)\n"
   ]
  },
  {
   "cell_type": "code",
   "execution_count": 6,
   "metadata": {},
   "outputs": [
    {
     "data": {
      "text/plain": [
       "[['ID',\n",
       "  'name',\n",
       "  'category',\n",
       "  'main_category',\n",
       "  'currency',\n",
       "  'deadline',\n",
       "  'goal',\n",
       "  'launched',\n",
       "  'pledged',\n",
       "  'state',\n",
       "  'backers',\n",
       "  'country',\n",
       "  'usd pledged',\n",
       "  'usd_pledged_real',\n",
       "  'usd_goal_real'],\n",
       " ['1000002330',\n",
       "  'The Songs of Adelaide & Abullah',\n",
       "  'Poetry',\n",
       "  'Publishing',\n",
       "  'GBP',\n",
       "  '2015-10-09',\n",
       "  '1000.00',\n",
       "  '2015-08-11 12:12:28',\n",
       "  '0.00',\n",
       "  'failed',\n",
       "  '0',\n",
       "  'GB',\n",
       "  '0.00',\n",
       "  '0.00',\n",
       "  '1533.95'],\n",
       " ['1000003930',\n",
       "  'Greeting From Earth: ZGAC Arts Capsule For ET',\n",
       "  'Narrative Film',\n",
       "  'Film & Video',\n",
       "  'USD',\n",
       "  '2017-11-01',\n",
       "  '30000.00',\n",
       "  '2017-09-02 04:43:57',\n",
       "  '2421.00',\n",
       "  'failed',\n",
       "  '15',\n",
       "  'US',\n",
       "  '100.00',\n",
       "  '2421.00',\n",
       "  '30000.00'],\n",
       " ['1000004038',\n",
       "  'Where is Hank?',\n",
       "  'Narrative Film',\n",
       "  'Film & Video',\n",
       "  'USD',\n",
       "  '2013-02-26',\n",
       "  '45000.00',\n",
       "  '2013-01-12 00:20:50',\n",
       "  '220.00',\n",
       "  'failed',\n",
       "  '3',\n",
       "  'US',\n",
       "  '220.00',\n",
       "  '220.00',\n",
       "  '45000.00'],\n",
       " ['1000007540',\n",
       "  'ToshiCapital Rekordz Needs Help to Complete Album',\n",
       "  'Music',\n",
       "  'Music',\n",
       "  'USD',\n",
       "  '2012-04-16',\n",
       "  '5000.00',\n",
       "  '2012-03-17 03:24:11',\n",
       "  '1.00',\n",
       "  'failed',\n",
       "  '1',\n",
       "  'US',\n",
       "  '1.00',\n",
       "  '1.00',\n",
       "  '5000.00']]"
      ]
     },
     "execution_count": 6,
     "metadata": {},
     "output_type": "execute_result"
    }
   ],
   "source": [
    "ks_data[0:5]"
   ]
  },
  {
   "cell_type": "markdown",
   "metadata": {},
   "source": [
    "### We can see the columns are:\n",
    "\n",
    "| Index      | Syntax |\n",
    "| ----------- | ----------- |\n",
    "| 0 | 'ID' |\n",
    "| 1 | 'name'|\n",
    "|2|  'category'|\n",
    "|3 | 'main_category'|\n",
    "|4 | 'currency'|\n",
    "|5 | 'deadline'|\n",
    "|6 | 'goal'|\n",
    "|7 |'launched'|\n",
    "|8 | 'pledged'|\n",
    "|9 | 'state'|\n",
    "|10 | 'backers'|\n",
    "|11  |'country'|\n",
    "|12 | 'usd pledged'|\n",
    "|13 | 'usd_pledged_real'|\n",
    "|14 | 'usd_goal_real'|\n",
    "\n",
    "\n",
    "Let's seperate the header from the rest of the list to make our EDA simpler:\n"
   ]
  },
  {
   "cell_type": "code",
   "execution_count": 7,
   "metadata": {},
   "outputs": [],
   "source": [
    "ks_header = ks_data[0]\n",
    "ks_data = ks_data[1:]"
   ]
  },
  {
   "cell_type": "markdown",
   "metadata": {},
   "source": [
    "## Task 1.a\n",
    "\n",
    "1a. Examine the state column to see unique values and counts:"
   ]
  },
  {
   "cell_type": "code",
   "execution_count": 8,
   "metadata": {},
   "outputs": [
    {
     "name": "stdout",
     "output_type": "stream",
     "text": [
      "{'failed': 197719, 'canceled': 38779, 'successful': 133956, 'live': 2799, 'undefined': 3562, 'suspended': 1846}\n"
     ]
    }
   ],
   "source": [
    "state_freq_table = {}\n",
    "\n",
    "for row in ks_data:\n",
    "    state = row[9]\n",
    "    if state not in state_freq_table:\n",
    "        state_freq_table[state] = 1\n",
    "    else:\n",
    "        state_freq_table[state] += 1\n",
    "        \n",
    "print(state_freq_table)"
   ]
  },
  {
   "cell_type": "markdown",
   "metadata": {},
   "source": [
    "## Task 1.b\n",
    "\n",
    "1b. Show a pie chart of the state project count for all projects:\n",
    "\n",
    "* I'd like to re-arrange the labels for easier reading, but for now this works..."
   ]
  },
  {
   "cell_type": "code",
   "execution_count": 9,
   "metadata": {},
   "outputs": [
    {
     "name": "stdout",
     "output_type": "stream",
     "text": [
      "{'failed': 197719, 'canceled': 38779, 'successful': 133956, 'live': 2799, 'undefined': 3562, 'suspended': 1846}\n"
     ]
    }
   ],
   "source": [
    "print(state_freq_table)"
   ]
  },
  {
   "cell_type": "code",
   "execution_count": 10,
   "metadata": {},
   "outputs": [
    {
     "data": {
      "image/png": "[encoded data removed]",
      "text/plain": [
       "<Figure size 432x288 with 1 Axes>"
      ]
     },
     "metadata": {},
     "output_type": "display_data"
    }
   ],
   "source": [
    "import matplotlib.pyplot as plt\n",
    "\n",
    "state = [] \n",
    "values = [] \n",
    "items = state_freq_table.items() \n",
    "for item in items: \n",
    "    state.append(item[0]), values.append(item[1]) \n",
    "\n",
    "plt.pie(values, labels=state, startangle=90, autopct='%.1f%%', radius=2,textprops={'fontsize': 14})\n",
    "plt.title('Kickstarter State')\n",
    "plt.show()"
   ]
  },
  {
   "cell_type": "markdown",
   "metadata": {},
   "source": [
    "## Task 1c. \n",
    "\n",
    "Create a new \"Completed\" dataframe that removes any rows with state of 'live', 'undefined', or suspended.\n",
    "\n",
    "Ultimately, we want a dataset with only completed projects for our analysis."
   ]
  },
  {
   "cell_type": "code",
   "execution_count": 11,
   "metadata": {},
   "outputs": [],
   "source": [
    "ks_completed = []\n",
    "\n",
    "for row in ks_data:\n",
    "    state = row[9]\n",
    "    if state == \"successful\":\n",
    "        ks_completed.append(row)\n",
    "    elif state == \"canceled\":\n",
    "        ks_completed.append(row)\n",
    "    elif state == \"failed\":\n",
    "        ks_completed.append(row)\n",
    "        "
   ]
  },
  {
   "cell_type": "code",
   "execution_count": 12,
   "metadata": {},
   "outputs": [
    {
     "name": "stdout",
     "output_type": "stream",
     "text": [
      "378661\n",
      "370454\n"
     ]
    }
   ],
   "source": [
    "print(len(ks_data))\n",
    "print(len(ks_completed))"
   ]
  },
  {
   "cell_type": "markdown",
   "metadata": {},
   "source": [
    "## Task 2.a\n",
    "\n",
    "2a. What is the overall success rate for all completed kickstarter projects?\n",
    "\n",
    "let's capture the percentage of the `successful` projects:"
   ]
  },
  {
   "cell_type": "code",
   "execution_count": 13,
   "metadata": {},
   "outputs": [
    {
     "name": "stdout",
     "output_type": "stream",
     "text": [
      "133956\n",
      "36.2 percent of Kickstarter projects are successful.\n"
     ]
    }
   ],
   "source": [
    "success = []\n",
    "\n",
    "for row in ks_completed:\n",
    "    state = row[9]\n",
    "    if state == \"successful\":\n",
    "        success.append(row)\n",
    "        \n",
    "\n",
    "per_success = ((len(success) / len(ks_completed)) * 100)\n",
    "print(len(success))\n",
    "print(str(round(per_success, 1)) + \" percent of Kickstarter projects are successful.\")"
   ]
  },
  {
   "cell_type": "markdown",
   "metadata": {},
   "source": [
    "## Quick Double-check:\n",
    "\n",
    "Before we go any further, let's check the kickstarter dataset for any missing variables, first by making sure all rows are the same length:"
   ]
  },
  {
   "cell_type": "code",
   "execution_count": 14,
   "metadata": {},
   "outputs": [],
   "source": [
    "for row in ks_completed:\n",
    "    totallength = len(ks_completed[0])\n",
    "    rowlength = len(row) \n",
    "    if rowlength != totallength:\n",
    "        print(row)\n",
    "        print(as_data.index(row))"
   ]
  },
  {
   "cell_type": "markdown",
   "metadata": {},
   "source": [
    "Looks good!"
   ]
  },
  {
   "cell_type": "markdown",
   "metadata": {},
   "source": [
    "## Task 2.b\n",
    "\n",
    "2b. Which 5 projects were pledged the most money (usd_pledged_real)?"
   ]
  },
  {
   "cell_type": "code",
   "execution_count": 15,
   "metadata": {},
   "outputs": [],
   "source": [
    "#converting to pandas\n",
    "\n",
    "ks_data = pd.read_csv('/Users/Chris/Desktop/ks-data.csv', delimiter = ',')"
   ]
  },
  {
   "cell_type": "code",
   "execution_count": 16,
   "metadata": {},
   "outputs": [],
   "source": [
    "#removing live, suspended and undefined\n",
    "ks_completed = ks_data[ks_data.state != \"live\"]\n",
    "ks_completed = ks_data[ks_data.state != \"suspended\"]\n",
    "ks_completed = ks_data[ks_data.state != \"undefined\"]"
   ]
  },
  {
   "cell_type": "code",
   "execution_count": 17,
   "metadata": {},
   "outputs": [
    {
     "name": "stdout",
     "output_type": "stream",
     "text": [
      "                                                     name  usd_pledged_real\n",
      "157270   Pebble Time - Awesome Smartwatch, No Compromises       20338986.27\n",
      "250254  COOLEST COOLER: 21st Century Cooler that's Act...       13285226.36\n",
      "216629             Pebble 2, Time 2 + All-New Pebble Core       12779843.49\n",
      "289915                         Kingdom Death: Monster 1.5       12393139.69\n",
      "282416       Pebble: E-Paper Watch for iPhone and Android       10266845.74\n"
     ]
    }
   ],
   "source": [
    "#2 ways to complete this:\n",
    "\n",
    "#super simple:\n",
    "#ks_data.nlargest(5, \"usd_pledged_real\")\n",
    "\n",
    "#I like the output of this one, just the variables you want:\n",
    "\n",
    "\n",
    "ks_sort = ks_completed.sort_values('usd_pledged_real', ascending=False)\n",
    "\n",
    "columnsData = ks_sort.loc[ :5 , ['name', 'usd_pledged_real'] ]\n",
    "print(columnsData[:5])"
   ]
  },
  {
   "cell_type": "markdown",
   "metadata": {},
   "source": [
    "## Task 2.c\n",
    "\n",
    "2c. Which 5 projects had the most backers?"
   ]
  },
  {
   "cell_type": "code",
   "execution_count": 18,
   "metadata": {},
   "outputs": [
    {
     "name": "stdout",
     "output_type": "stream",
     "text": [
      "                                                     name  backers\n",
      "187652                                  Exploding Kittens   219382\n",
      "75900                       Fidget Cube: A Vinyl Desk Toy   154926\n",
      "292244  Bring Reading Rainbow Back for Every Child, Ev...   105857\n",
      "148585                    The Veronica Mars Movie Project    91585\n",
      "182657                              Double Fine Adventure    87142\n"
     ]
    }
   ],
   "source": [
    "#2 ways to complete this:\n",
    "\n",
    "#super simple:\n",
    "#ks_data.nlargest(5, \"backers\")\n",
    "\n",
    "#I like the output of this one, just the variables you want:\n",
    "\n",
    "ks_sort = ks_completed.sort_values('backers', ascending=False)\n",
    "\n",
    "columnsData = ks_sort.loc[ :5 , ['name', 'backers'] ]\n",
    "print(columnsData[:5])"
   ]
  },
  {
   "cell_type": "markdown",
   "metadata": {},
   "source": [
    "## Task 2.d\n",
    "\n",
    "2d. Which year had the most competition? (# of projects)"
   ]
  },
  {
   "cell_type": "code",
   "execution_count": 19,
   "metadata": {},
   "outputs": [
    {
     "ename": "AttributeError",
     "evalue": "Can only use .dt accessor with datetimelike values",
     "output_type": "error",
     "traceback": [
      "\u001b[0;31m---------------------------------------------------------------------------\u001b[0m",
      "\u001b[0;31mAttributeError\u001b[0m                            Traceback (most recent call last)",
      "\u001b[0;32m<ipython-input-19-3bdbee81fcae>\u001b[0m in \u001b[0;36m<module>\u001b[0;34m\u001b[0m\n\u001b[1;32m      1\u001b[0m \u001b[0;31m# now lets extract the year:\u001b[0m\u001b[0;34m\u001b[0m\u001b[0;34m\u001b[0m\u001b[0;34m\u001b[0m\u001b[0m\n\u001b[1;32m      2\u001b[0m \u001b[0;34m\u001b[0m\u001b[0m\n\u001b[0;32m----> 3\u001b[0;31m \u001b[0mks_completed\u001b[0m\u001b[0;34m.\u001b[0m\u001b[0mlaunched\u001b[0m\u001b[0;34m.\u001b[0m\u001b[0mdt\u001b[0m\u001b[0;34m.\u001b[0m\u001b[0myear\u001b[0m\u001b[0;34m\u001b[0m\u001b[0;34m\u001b[0m\u001b[0m\n\u001b[0m",
      "\u001b[0;32m/Applications/anaconda3/lib/python3.7/site-packages/pandas/core/generic.py\u001b[0m in \u001b[0;36m__getattr__\u001b[0;34m(self, name)\u001b[0m\n\u001b[1;32m   5173\u001b[0m             \u001b[0;32mor\u001b[0m \u001b[0mname\u001b[0m \u001b[0;32min\u001b[0m \u001b[0mself\u001b[0m\u001b[0;34m.\u001b[0m\u001b[0m_accessors\u001b[0m\u001b[0;34m\u001b[0m\u001b[0;34m\u001b[0m\u001b[0m\n\u001b[1;32m   5174\u001b[0m         ):\n\u001b[0;32m-> 5175\u001b[0;31m             \u001b[0;32mreturn\u001b[0m \u001b[0mobject\u001b[0m\u001b[0;34m.\u001b[0m\u001b[0m__getattribute__\u001b[0m\u001b[0;34m(\u001b[0m\u001b[0mself\u001b[0m\u001b[0;34m,\u001b[0m \u001b[0mname\u001b[0m\u001b[0;34m)\u001b[0m\u001b[0;34m\u001b[0m\u001b[0;34m\u001b[0m\u001b[0m\n\u001b[0m\u001b[1;32m   5176\u001b[0m         \u001b[0;32melse\u001b[0m\u001b[0;34m:\u001b[0m\u001b[0;34m\u001b[0m\u001b[0;34m\u001b[0m\u001b[0m\n\u001b[1;32m   5177\u001b[0m             \u001b[0;32mif\u001b[0m \u001b[0mself\u001b[0m\u001b[0;34m.\u001b[0m\u001b[0m_info_axis\u001b[0m\u001b[0;34m.\u001b[0m\u001b[0m_can_hold_identifiers_and_holds_name\u001b[0m\u001b[0;34m(\u001b[0m\u001b[0mname\u001b[0m\u001b[0;34m)\u001b[0m\u001b[0;34m:\u001b[0m\u001b[0;34m\u001b[0m\u001b[0;34m\u001b[0m\u001b[0m\n",
      "\u001b[0;32m/Applications/anaconda3/lib/python3.7/site-packages/pandas/core/accessor.py\u001b[0m in \u001b[0;36m__get__\u001b[0;34m(self, obj, cls)\u001b[0m\n\u001b[1;32m    173\u001b[0m             \u001b[0;31m# we're accessing the attribute of the class, i.e., Dataset.geo\u001b[0m\u001b[0;34m\u001b[0m\u001b[0;34m\u001b[0m\u001b[0;34m\u001b[0m\u001b[0m\n\u001b[1;32m    174\u001b[0m             \u001b[0;32mreturn\u001b[0m \u001b[0mself\u001b[0m\u001b[0;34m.\u001b[0m\u001b[0m_accessor\u001b[0m\u001b[0;34m\u001b[0m\u001b[0;34m\u001b[0m\u001b[0m\n\u001b[0;32m--> 175\u001b[0;31m         \u001b[0maccessor_obj\u001b[0m \u001b[0;34m=\u001b[0m \u001b[0mself\u001b[0m\u001b[0;34m.\u001b[0m\u001b[0m_accessor\u001b[0m\u001b[0;34m(\u001b[0m\u001b[0mobj\u001b[0m\u001b[0;34m)\u001b[0m\u001b[0;34m\u001b[0m\u001b[0;34m\u001b[0m\u001b[0m\n\u001b[0m\u001b[1;32m    176\u001b[0m         \u001b[0;31m# Replace the property with the accessor object. Inspired by:\u001b[0m\u001b[0;34m\u001b[0m\u001b[0;34m\u001b[0m\u001b[0;34m\u001b[0m\u001b[0m\n\u001b[1;32m    177\u001b[0m         \u001b[0;31m# http://www.pydanny.com/cached-property.html\u001b[0m\u001b[0;34m\u001b[0m\u001b[0;34m\u001b[0m\u001b[0;34m\u001b[0m\u001b[0m\n",
      "\u001b[0;32m/Applications/anaconda3/lib/python3.7/site-packages/pandas/core/indexes/accessors.py\u001b[0m in \u001b[0;36m__new__\u001b[0;34m(cls, data)\u001b[0m\n\u001b[1;32m    341\u001b[0m             \u001b[0;32mpass\u001b[0m  \u001b[0;31m# we raise an attribute error anyway\u001b[0m\u001b[0;34m\u001b[0m\u001b[0;34m\u001b[0m\u001b[0m\n\u001b[1;32m    342\u001b[0m \u001b[0;34m\u001b[0m\u001b[0m\n\u001b[0;32m--> 343\u001b[0;31m         \u001b[0;32mraise\u001b[0m \u001b[0mAttributeError\u001b[0m\u001b[0;34m(\u001b[0m\u001b[0;34m\"Can only use .dt accessor with datetimelike \"\u001b[0m \u001b[0;34m\"values\"\u001b[0m\u001b[0;34m)\u001b[0m\u001b[0;34m\u001b[0m\u001b[0;34m\u001b[0m\u001b[0m\n\u001b[0m",
      "\u001b[0;31mAttributeError\u001b[0m: Can only use .dt accessor with datetimelike values"
     ]
    }
   ],
   "source": [
    "# now lets extract the year:\n",
    "\n",
    "ks_completed.launched.dt.year"
   ]
  },
  {
   "cell_type": "code",
   "execution_count": null,
   "metadata": {},
   "outputs": [],
   "source": [
    "ks_year = pd.DatetimeIndex(ks_completed['launched']).year\n",
    "ks_year\n"
   ]
  },
  {
   "cell_type": "code",
   "execution_count": null,
   "metadata": {},
   "outputs": [],
   "source": [
    "\n",
    "top_year = ks_year.max(axis = 0)\n",
    "print(f\"Kickstaters most competitive year was {top_year}\")"
   ]
  },
  {
   "cell_type": "code",
   "execution_count": null,
   "metadata": {},
   "outputs": [],
   "source": []
  }
 ],
 "metadata": {
  "kernelspec": {
   "display_name": "Python 3",
   "language": "python",
   "name": "python3"
  },
  "language_info": {
   "codemirror_mode": {
    "name": "ipython",
    "version": 3
   },
   "file_extension": ".py",
   "mimetype": "text/x-python",
   "name": "python",
   "nbconvert_exporter": "python",
   "pygments_lexer": "ipython3",
   "version": "3.7.4"
  }
 },
 "nbformat": 4,
 "nbformat_minor": 2
}
