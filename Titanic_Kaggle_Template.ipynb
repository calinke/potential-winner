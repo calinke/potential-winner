{
 "cells": [
  {
   "cell_type": "markdown",
   "metadata": {
    "colab_type": "text",
    "id": "8YZcPYIAqGbC"
   },
   "source": [
    "# Template for the Titanic Machine Learning Competition on Kaggle.com"
   ]
  },
  {
   "cell_type": "markdown",
   "metadata": {
    "colab_type": "text",
    "id": "8aWqzVveFwe5"
   },
   "source": [
    "## 7 Steps of ML Projects\n",
    "The 7 Steps below are universal to the majority of Machine Learning / Data Science projects, so this structure can be carried forward to other projects:\n",
    "1. Frame the Problem and Ideate Potential Solutions\n",
    "2. Acquire the Data\n",
    "3. Exploratory Data Analysis (EDA)\n",
    "4. Data Wrangling\n",
    "5. Select and Train an ML Algorithm Model\n",
    "6. Evaluate Results and Fine-Tune Your Model\n",
    "7. Launch, Monitor, and Maintain Your System"
   ]
  },
  {
   "cell_type": "markdown",
   "metadata": {
    "colab_type": "text",
    "id": "cUnOm_5Sq8GT"
   },
   "source": [
    "# Step 1: Frame The Problem and Ideate Potential Solutions"
   ]
  },
  {
   "cell_type": "markdown",
   "metadata": {
    "colab_type": "text",
    "id": "K3ume26s-FLx"
   },
   "source": [
    "## Project Overview"
   ]
  },
  {
   "cell_type": "markdown",
   "metadata": {
    "colab_type": "text",
    "id": "EC1HP9KVGYpK"
   },
   "source": [
    "### Description:\n",
    "👋🛳️ Ahoy, welcome to Kaggle! You’re in the right place.\n",
    "This is the legendary Titanic ML competition – the best, first challenge for you to dive into ML competitions and familiarize yourself with how the Kaggle platform works.\n",
    "\n",
    "The competition is simple: use machine learning to create a model that predicts which passengers survived the Titanic shipwreck.\n",
    "\n",
    "Read on or watch the video below to explore more details. Once you’re ready to start competing, click on the [Join Competition button](https://www.kaggle.com/account/login?returnUrl=%2Fc%2Ftitanic) to create an account and gain access to the [competition data](https://www.kaggle.com/c/titanic/data). Then check out [Alexis Cook’s Titanic Tutorial](https://www.kaggle.com/alexisbcook/titanic-tutorial) that walks you through step by step how to make your first submission!"
   ]
  },
  {
   "cell_type": "markdown",
   "metadata": {
    "colab_type": "text",
    "id": "zApoOHOxGbAh"
   },
   "source": [
    "### The Challenge\n",
    "The sinking of the Titanic is one of the most infamous shipwrecks in history.\n",
    "\n",
    "On April 15, 1912, during her maiden voyage, the widely considered “unsinkable” RMS Titanic sank after colliding with an iceberg. Unfortunately, there weren’t enough lifeboats for everyone onboard, resulting in the death of 1502 out of 2224 passengers and crew.\n",
    "\n",
    "While there was some element of luck involved in surviving, it seems some groups of people were more likely to survive than others.\n",
    "\n",
    "In this challenge, we ask you to build a predictive model that answers the question: “what sorts of people were more likely to survive?” using passenger data (ie name, age, gender, socio-economic class, etc)."
   ]
  },
  {
   "cell_type": "markdown",
   "metadata": {
    "colab_type": "text",
    "id": "tIfJGPyxGdYx"
   },
   "source": [
    "### Full Description\n",
    "\n",
    "Read the full description on [kaggle.com/c/titanic](https://www.kaggle.com/c/titanic)\n",
    "\n",
    "---"
   ]
  },
  {
   "cell_type": "markdown",
   "metadata": {
    "colab_type": "text",
    "id": "71JBb8wUHpr8"
   },
   "source": [
    "## Ideate Potential Solutions"
   ]
  },
  {
   "cell_type": "markdown",
   "metadata": {
    "colab_type": "text",
    "id": "E3uD-DoFLu7z"
   },
   "source": [
    "For this project, the goal is relatively simple: predict whether a passenger on the Titanic survived based on the other data provided for that passenger.  The survival condition is already known, which means that we will need to use supervised learning methods for this project.  "
   ]
  },
  {
   "cell_type": "markdown",
   "metadata": {
    "colab_type": "text",
    "id": "VnFOWunzLxyQ"
   },
   "source": [
    "Examples of supervised learning ML algorithms are:\n",
    "- Linear Regression\n",
    "- Logistic Regression\n",
    "- k-Nearest Neighbors\n",
    "- Support Vector Machines (SVM)\n",
    "- Decision Trees and Random Forests\n",
    "- Neural Networks"
   ]
  },
  {
   "cell_type": "markdown",
   "metadata": {
    "colab_type": "text",
    "id": "7I3-vu2JL0VA"
   },
   "source": [
    "Since survival is a binary result (survived/died), a good initial approach would be to use Logistic Regression, which calculates survival rate between 0 and 1 (died vs survived) using the sigmoid function.\n",
    "\n",
    "We could also consider using ensemble learning methods like Decision Trees and Random Forests.  A Neural Network would also be a viable option for future iteration of this project.\n",
    "\n",
    "Once we have explored the dataset further, the optimal approach will become more apparent, so for now we will set the final decision on selecting an ML algorithm aside until we reach step 5."
   ]
  },
  {
   "cell_type": "markdown",
   "metadata": {
    "colab_type": "text",
    "id": "QbYMguutw0U7"
   },
   "source": [
    "# Step 2: Acquire the Data"
   ]
  },
  {
   "cell_type": "markdown",
   "metadata": {
    "colab_type": "text",
    "id": "2Rpa7e44q9hG"
   },
   "source": [
    "## Import Libraries"
   ]
  },
  {
   "cell_type": "code",
   "execution_count": 1,
   "metadata": {
    "colab": {},
    "colab_type": "code",
    "id": "R8l03wUUqGbO"
   },
   "outputs": [],
   "source": [
    "import pandas as pd\n",
    "import numpy as np\n",
    "import matplotlib.pyplot as plt\n",
    "import seaborn as sns\n",
    "import os.path    # this is used to check if the files have been downloaded yet\n",
    "%matplotlib inline"
   ]
  },
  {
   "cell_type": "code",
   "execution_count": 2,
   "metadata": {
    "colab": {},
    "colab_type": "code",
    "id": "DoloRktKqGbF"
   },
   "outputs": [],
   "source": [
    "# install missingno - a useful tool for EDA and data cleaning\n",
    "#!pip install -q  missingno"
   ]
  },
  {
   "cell_type": "code",
   "execution_count": 3,
   "metadata": {
    "colab": {},
    "colab_type": "code",
    "id": "dANrprfiMRz1"
   },
   "outputs": [],
   "source": [
    "import missingno as ms"
   ]
  },
  {
   "cell_type": "markdown",
   "metadata": {
    "colab_type": "text",
    "id": "MksYS8zQigKr"
   },
   "source": [
    "## Download the DataSets"
   ]
  },
  {
   "cell_type": "markdown",
   "metadata": {
    "colab_type": "text",
    "id": "5wB581BI5jrs"
   },
   "source": [
    "There are 3 files we will be working with on this project.  \n",
    "1. **`Titanic_Train.csv`** = The dataset we will use to train the ML model \n",
    "  - *orig name on Kaggle.com was simply `train.csv`. Renamed to minimize confusion with other train/test data*\n",
    "2. **`Titanic_Challenge.csv`** = The dataset we will be predicting survival condition on, and then submitting to Kaggle to check how accurate it was \n",
    "  - *orig name on Kaggle.com was `test.csv`. Renamed to minimize confusion with other train/test data*\n",
    "3. **`gender_submission.csv`** = A sample submission file provided by Kaggle.  This is used to test out the submission process, to know what the submission format is so we can recreate with our submission, and to provide a benchmark score.\n",
    "\n",
    "All 3 file can be downloaded directly from [https://www.kaggle.com/c/titanic/data](https://www.kaggle.com/c/titanic/data), but for convenience the code to download them from my github repo is provided here. \n",
    "\n",
    "If you want to load the data in another way, feel free to modify the code to load the files another way.  For example, you can download the files direclty from Kaggle and import them using Pandas.  Or you could use the Kaggle API to download and import the files.  Many ways to do this, but the one provided here is simple and convenient."
   ]
  },
  {
   "cell_type": "markdown",
   "metadata": {
    "colab_type": "text",
    "id": "VqFJvL_cVWcF"
   },
   "source": [
    "#### Download the training dataset which we will use for EDA and to train the ML algorithm in steps 3-5"
   ]
  },
  {
   "cell_type": "code",
   "execution_count": 4,
   "metadata": {
    "colab": {},
    "colab_type": "code",
    "id": "r3RD1hXN5SxZ"
   },
   "outputs": [
    {
     "data": {
      "text/html": [
       "<div>\n",
       "<style scoped>\n",
       "    .dataframe tbody tr th:only-of-type {\n",
       "        vertical-align: middle;\n",
       "    }\n",
       "\n",
       "    .dataframe tbody tr th {\n",
       "        vertical-align: top;\n",
       "    }\n",
       "\n",
       "    .dataframe thead th {\n",
       "        text-align: right;\n",
       "    }\n",
       "</style>\n",
       "<table border=\"1\" class=\"dataframe\">\n",
       "  <thead>\n",
       "    <tr style=\"text-align: right;\">\n",
       "      <th></th>\n",
       "      <th>PassengerId</th>\n",
       "      <th>Survived</th>\n",
       "      <th>Pclass</th>\n",
       "      <th>Name</th>\n",
       "      <th>Sex</th>\n",
       "      <th>Age</th>\n",
       "      <th>SibSp</th>\n",
       "      <th>Parch</th>\n",
       "      <th>Ticket</th>\n",
       "      <th>Fare</th>\n",
       "      <th>Cabin</th>\n",
       "      <th>Embarked</th>\n",
       "    </tr>\n",
       "  </thead>\n",
       "  <tbody>\n",
       "    <tr>\n",
       "      <th>0</th>\n",
       "      <td>1</td>\n",
       "      <td>0</td>\n",
       "      <td>3</td>\n",
       "      <td>Braund, Mr. Owen Harris</td>\n",
       "      <td>male</td>\n",
       "      <td>22.0</td>\n",
       "      <td>1</td>\n",
       "      <td>0</td>\n",
       "      <td>A/5 21171</td>\n",
       "      <td>7.2500</td>\n",
       "      <td>NaN</td>\n",
       "      <td>S</td>\n",
       "    </tr>\n",
       "    <tr>\n",
       "      <th>1</th>\n",
       "      <td>2</td>\n",
       "      <td>1</td>\n",
       "      <td>1</td>\n",
       "      <td>Cumings, Mrs. John Bradley (Florence Briggs Th...</td>\n",
       "      <td>female</td>\n",
       "      <td>38.0</td>\n",
       "      <td>1</td>\n",
       "      <td>0</td>\n",
       "      <td>PC 17599</td>\n",
       "      <td>71.2833</td>\n",
       "      <td>C85</td>\n",
       "      <td>C</td>\n",
       "    </tr>\n",
       "    <tr>\n",
       "      <th>2</th>\n",
       "      <td>3</td>\n",
       "      <td>1</td>\n",
       "      <td>3</td>\n",
       "      <td>Heikkinen, Miss. Laina</td>\n",
       "      <td>female</td>\n",
       "      <td>26.0</td>\n",
       "      <td>0</td>\n",
       "      <td>0</td>\n",
       "      <td>STON/O2. 3101282</td>\n",
       "      <td>7.9250</td>\n",
       "      <td>NaN</td>\n",
       "      <td>S</td>\n",
       "    </tr>\n",
       "    <tr>\n",
       "      <th>3</th>\n",
       "      <td>4</td>\n",
       "      <td>1</td>\n",
       "      <td>1</td>\n",
       "      <td>Futrelle, Mrs. Jacques Heath (Lily May Peel)</td>\n",
       "      <td>female</td>\n",
       "      <td>35.0</td>\n",
       "      <td>1</td>\n",
       "      <td>0</td>\n",
       "      <td>113803</td>\n",
       "      <td>53.1000</td>\n",
       "      <td>C123</td>\n",
       "      <td>S</td>\n",
       "    </tr>\n",
       "    <tr>\n",
       "      <th>4</th>\n",
       "      <td>5</td>\n",
       "      <td>0</td>\n",
       "      <td>3</td>\n",
       "      <td>Allen, Mr. William Henry</td>\n",
       "      <td>male</td>\n",
       "      <td>35.0</td>\n",
       "      <td>0</td>\n",
       "      <td>0</td>\n",
       "      <td>373450</td>\n",
       "      <td>8.0500</td>\n",
       "      <td>NaN</td>\n",
       "      <td>S</td>\n",
       "    </tr>\n",
       "  </tbody>\n",
       "</table>\n",
       "</div>"
      ],
      "text/plain": [
       "   PassengerId  Survived  Pclass  \\\n",
       "0            1         0       3   \n",
       "1            2         1       1   \n",
       "2            3         1       3   \n",
       "3            4         1       1   \n",
       "4            5         0       3   \n",
       "\n",
       "                                                Name     Sex   Age  SibSp  \\\n",
       "0                            Braund, Mr. Owen Harris    male  22.0      1   \n",
       "1  Cumings, Mrs. John Bradley (Florence Briggs Th...  female  38.0      1   \n",
       "2                             Heikkinen, Miss. Laina  female  26.0      0   \n",
       "3       Futrelle, Mrs. Jacques Heath (Lily May Peel)  female  35.0      1   \n",
       "4                           Allen, Mr. William Henry    male  35.0      0   \n",
       "\n",
       "   Parch            Ticket     Fare Cabin Embarked  \n",
       "0      0         A/5 21171   7.2500   NaN        S  \n",
       "1      0          PC 17599  71.2833   C85        C  \n",
       "2      0  STON/O2. 3101282   7.9250   NaN        S  \n",
       "3      0            113803  53.1000  C123        S  \n",
       "4      0            373450   8.0500   NaN        S  "
      ]
     },
     "execution_count": 4,
     "metadata": {},
     "output_type": "execute_result"
    }
   ],
   "source": [
    "url = 'https://raw.githubusercontent.com/BrianLeip/Titanic_Kaggle_Template/master/Titanic_DataSets/Titanic_Train.csv'\n",
    "train = pd.read_csv(url)\n",
    "train.head()"
   ]
  },
  {
   "cell_type": "markdown",
   "metadata": {
    "colab_type": "text",
    "id": "slwCmK8gXFyO"
   },
   "source": [
    "#### Download the challenge dataset which is the final data we will predict survival rates on.  But since it also has useful info about the full combined dataset, upload it now and use it to assist with EDA and Data Wrangling"
   ]
  },
  {
   "cell_type": "code",
   "execution_count": 5,
   "metadata": {
    "colab": {},
    "colab_type": "code",
    "id": "qMGDn1WaW8BW"
   },
   "outputs": [
    {
     "data": {
      "text/html": [
       "<div>\n",
       "<style scoped>\n",
       "    .dataframe tbody tr th:only-of-type {\n",
       "        vertical-align: middle;\n",
       "    }\n",
       "\n",
       "    .dataframe tbody tr th {\n",
       "        vertical-align: top;\n",
       "    }\n",
       "\n",
       "    .dataframe thead th {\n",
       "        text-align: right;\n",
       "    }\n",
       "</style>\n",
       "<table border=\"1\" class=\"dataframe\">\n",
       "  <thead>\n",
       "    <tr style=\"text-align: right;\">\n",
       "      <th></th>\n",
       "      <th>PassengerId</th>\n",
       "      <th>Pclass</th>\n",
       "      <th>Name</th>\n",
       "      <th>Sex</th>\n",
       "      <th>Age</th>\n",
       "      <th>SibSp</th>\n",
       "      <th>Parch</th>\n",
       "      <th>Ticket</th>\n",
       "      <th>Fare</th>\n",
       "      <th>Cabin</th>\n",
       "      <th>Embarked</th>\n",
       "    </tr>\n",
       "  </thead>\n",
       "  <tbody>\n",
       "    <tr>\n",
       "      <th>0</th>\n",
       "      <td>892</td>\n",
       "      <td>3</td>\n",
       "      <td>Kelly, Mr. James</td>\n",
       "      <td>male</td>\n",
       "      <td>34.5</td>\n",
       "      <td>0</td>\n",
       "      <td>0</td>\n",
       "      <td>330911</td>\n",
       "      <td>7.8292</td>\n",
       "      <td>NaN</td>\n",
       "      <td>Q</td>\n",
       "    </tr>\n",
       "    <tr>\n",
       "      <th>1</th>\n",
       "      <td>893</td>\n",
       "      <td>3</td>\n",
       "      <td>Wilkes, Mrs. James (Ellen Needs)</td>\n",
       "      <td>female</td>\n",
       "      <td>47.0</td>\n",
       "      <td>1</td>\n",
       "      <td>0</td>\n",
       "      <td>363272</td>\n",
       "      <td>7.0000</td>\n",
       "      <td>NaN</td>\n",
       "      <td>S</td>\n",
       "    </tr>\n",
       "    <tr>\n",
       "      <th>2</th>\n",
       "      <td>894</td>\n",
       "      <td>2</td>\n",
       "      <td>Myles, Mr. Thomas Francis</td>\n",
       "      <td>male</td>\n",
       "      <td>62.0</td>\n",
       "      <td>0</td>\n",
       "      <td>0</td>\n",
       "      <td>240276</td>\n",
       "      <td>9.6875</td>\n",
       "      <td>NaN</td>\n",
       "      <td>Q</td>\n",
       "    </tr>\n",
       "    <tr>\n",
       "      <th>3</th>\n",
       "      <td>895</td>\n",
       "      <td>3</td>\n",
       "      <td>Wirz, Mr. Albert</td>\n",
       "      <td>male</td>\n",
       "      <td>27.0</td>\n",
       "      <td>0</td>\n",
       "      <td>0</td>\n",
       "      <td>315154</td>\n",
       "      <td>8.6625</td>\n",
       "      <td>NaN</td>\n",
       "      <td>S</td>\n",
       "    </tr>\n",
       "    <tr>\n",
       "      <th>4</th>\n",
       "      <td>896</td>\n",
       "      <td>3</td>\n",
       "      <td>Hirvonen, Mrs. Alexander (Helga E Lindqvist)</td>\n",
       "      <td>female</td>\n",
       "      <td>22.0</td>\n",
       "      <td>1</td>\n",
       "      <td>1</td>\n",
       "      <td>3101298</td>\n",
       "      <td>12.2875</td>\n",
       "      <td>NaN</td>\n",
       "      <td>S</td>\n",
       "    </tr>\n",
       "  </tbody>\n",
       "</table>\n",
       "</div>"
      ],
      "text/plain": [
       "   PassengerId  Pclass                                          Name     Sex  \\\n",
       "0          892       3                              Kelly, Mr. James    male   \n",
       "1          893       3              Wilkes, Mrs. James (Ellen Needs)  female   \n",
       "2          894       2                     Myles, Mr. Thomas Francis    male   \n",
       "3          895       3                              Wirz, Mr. Albert    male   \n",
       "4          896       3  Hirvonen, Mrs. Alexander (Helga E Lindqvist)  female   \n",
       "\n",
       "    Age  SibSp  Parch   Ticket     Fare Cabin Embarked  \n",
       "0  34.5      0      0   330911   7.8292   NaN        Q  \n",
       "1  47.0      1      0   363272   7.0000   NaN        S  \n",
       "2  62.0      0      0   240276   9.6875   NaN        Q  \n",
       "3  27.0      0      0   315154   8.6625   NaN        S  \n",
       "4  22.0      1      1  3101298  12.2875   NaN        S  "
      ]
     },
     "execution_count": 5,
     "metadata": {},
     "output_type": "execute_result"
    }
   ],
   "source": [
    "url = 'https://raw.githubusercontent.com/BrianLeip/Titanic_Kaggle_Template/master/Titanic_DataSets/Titanic_Challenge.csv'\n",
    "challenge = pd.read_csv(url)\n",
    "challenge.head()"
   ]
  },
  {
   "cell_type": "markdown",
   "metadata": {
    "colab_type": "text",
    "id": "AZi-qNyoWdkd"
   },
   "source": [
    "Note that the \"Survived\" column is missing from the challenge dataset, since that is what we will be predicting."
   ]
  },
  {
   "cell_type": "markdown",
   "metadata": {},
   "source": [
    "### We have 12 total columns, icluding the`Survived` column not found in the `challenge` df. These columns refer to:\n",
    "\n",
    "|Variable | Definition | Key|\n",
    "|--------|---------|----------|\n",
    "|survival | Survival |\t0 = No, 1 = Yes |\n",
    "|pclass | Ticket class |\t1 = 1st, 2 = 2nd, 3 = 3rd |\n",
    "|sex |\tSex | |\n",
    "|Age |\tAge in years |\t|\n",
    "|sibsp |\t# of siblings / spouses aboard the Titanic | |\t\n",
    "|parch |\t# of parents / children aboard the Titanic\t| |\n",
    "|ticket |\tTicket number\t| |\n",
    "|fare |\tPassenger fare\t| |\n",
    "|cabin |\tCabin number |\t|\n",
    "|embarked |\tPort of Embarkation |\tC = Cherbourg, Q = Queenstown, S = Southampton|"
   ]
  },
  {
   "cell_type": "markdown",
   "metadata": {
    "colab_type": "text",
    "id": "vqQiIVK29KQK"
   },
   "source": [
    "#### 2-A) Set the `PassengerId` as the index for both `train` and `challenge` since it is an unique field for each record, and look at the first 3 records of `train`\n"
   ]
  },
  {
   "cell_type": "code",
   "execution_count": 6,
   "metadata": {
    "colab": {},
    "colab_type": "code",
    "id": "nqjwnxz9Z9sk"
   },
   "outputs": [
    {
     "data": {
      "text/html": [
       "<div>\n",
       "<style scoped>\n",
       "    .dataframe tbody tr th:only-of-type {\n",
       "        vertical-align: middle;\n",
       "    }\n",
       "\n",
       "    .dataframe tbody tr th {\n",
       "        vertical-align: top;\n",
       "    }\n",
       "\n",
       "    .dataframe thead th {\n",
       "        text-align: right;\n",
       "    }\n",
       "</style>\n",
       "<table border=\"1\" class=\"dataframe\">\n",
       "  <thead>\n",
       "    <tr style=\"text-align: right;\">\n",
       "      <th></th>\n",
       "      <th>Survived</th>\n",
       "      <th>Pclass</th>\n",
       "      <th>Name</th>\n",
       "      <th>Sex</th>\n",
       "      <th>Age</th>\n",
       "      <th>SibSp</th>\n",
       "      <th>Parch</th>\n",
       "      <th>Ticket</th>\n",
       "      <th>Fare</th>\n",
       "      <th>Cabin</th>\n",
       "      <th>Embarked</th>\n",
       "    </tr>\n",
       "    <tr>\n",
       "      <th>PassengerId</th>\n",
       "      <th></th>\n",
       "      <th></th>\n",
       "      <th></th>\n",
       "      <th></th>\n",
       "      <th></th>\n",
       "      <th></th>\n",
       "      <th></th>\n",
       "      <th></th>\n",
       "      <th></th>\n",
       "      <th></th>\n",
       "      <th></th>\n",
       "    </tr>\n",
       "  </thead>\n",
       "  <tbody>\n",
       "    <tr>\n",
       "      <th>1</th>\n",
       "      <td>0</td>\n",
       "      <td>3</td>\n",
       "      <td>Braund, Mr. Owen Harris</td>\n",
       "      <td>male</td>\n",
       "      <td>22.0</td>\n",
       "      <td>1</td>\n",
       "      <td>0</td>\n",
       "      <td>A/5 21171</td>\n",
       "      <td>7.2500</td>\n",
       "      <td>NaN</td>\n",
       "      <td>S</td>\n",
       "    </tr>\n",
       "    <tr>\n",
       "      <th>2</th>\n",
       "      <td>1</td>\n",
       "      <td>1</td>\n",
       "      <td>Cumings, Mrs. John Bradley (Florence Briggs Th...</td>\n",
       "      <td>female</td>\n",
       "      <td>38.0</td>\n",
       "      <td>1</td>\n",
       "      <td>0</td>\n",
       "      <td>PC 17599</td>\n",
       "      <td>71.2833</td>\n",
       "      <td>C85</td>\n",
       "      <td>C</td>\n",
       "    </tr>\n",
       "    <tr>\n",
       "      <th>3</th>\n",
       "      <td>1</td>\n",
       "      <td>3</td>\n",
       "      <td>Heikkinen, Miss. Laina</td>\n",
       "      <td>female</td>\n",
       "      <td>26.0</td>\n",
       "      <td>0</td>\n",
       "      <td>0</td>\n",
       "      <td>STON/O2. 3101282</td>\n",
       "      <td>7.9250</td>\n",
       "      <td>NaN</td>\n",
       "      <td>S</td>\n",
       "    </tr>\n",
       "    <tr>\n",
       "      <th>4</th>\n",
       "      <td>1</td>\n",
       "      <td>1</td>\n",
       "      <td>Futrelle, Mrs. Jacques Heath (Lily May Peel)</td>\n",
       "      <td>female</td>\n",
       "      <td>35.0</td>\n",
       "      <td>1</td>\n",
       "      <td>0</td>\n",
       "      <td>113803</td>\n",
       "      <td>53.1000</td>\n",
       "      <td>C123</td>\n",
       "      <td>S</td>\n",
       "    </tr>\n",
       "    <tr>\n",
       "      <th>5</th>\n",
       "      <td>0</td>\n",
       "      <td>3</td>\n",
       "      <td>Allen, Mr. William Henry</td>\n",
       "      <td>male</td>\n",
       "      <td>35.0</td>\n",
       "      <td>0</td>\n",
       "      <td>0</td>\n",
       "      <td>373450</td>\n",
       "      <td>8.0500</td>\n",
       "      <td>NaN</td>\n",
       "      <td>S</td>\n",
       "    </tr>\n",
       "  </tbody>\n",
       "</table>\n",
       "</div>"
      ],
      "text/plain": [
       "             Survived  Pclass  \\\n",
       "PassengerId                     \n",
       "1                   0       3   \n",
       "2                   1       1   \n",
       "3                   1       3   \n",
       "4                   1       1   \n",
       "5                   0       3   \n",
       "\n",
       "                                                          Name     Sex   Age  \\\n",
       "PassengerId                                                                    \n",
       "1                                      Braund, Mr. Owen Harris    male  22.0   \n",
       "2            Cumings, Mrs. John Bradley (Florence Briggs Th...  female  38.0   \n",
       "3                                       Heikkinen, Miss. Laina  female  26.0   \n",
       "4                 Futrelle, Mrs. Jacques Heath (Lily May Peel)  female  35.0   \n",
       "5                                     Allen, Mr. William Henry    male  35.0   \n",
       "\n",
       "             SibSp  Parch            Ticket     Fare Cabin Embarked  \n",
       "PassengerId                                                          \n",
       "1                1      0         A/5 21171   7.2500   NaN        S  \n",
       "2                1      0          PC 17599  71.2833   C85        C  \n",
       "3                0      0  STON/O2. 3101282   7.9250   NaN        S  \n",
       "4                1      0            113803  53.1000  C123        S  \n",
       "5                0      0            373450   8.0500   NaN        S  "
      ]
     },
     "execution_count": 6,
     "metadata": {},
     "output_type": "execute_result"
    }
   ],
   "source": [
    "train.set_index('PassengerId', inplace=True)\n",
    "challenge.set_index('PassengerId', inplace=True)\n",
    "train.head()"
   ]
  },
  {
   "cell_type": "markdown",
   "metadata": {
    "colab_type": "text",
    "id": "G3VSKPGV9Nsp"
   },
   "source": [
    "#### 2-B) Create a `combined` dataset to assist with EDA and understanding the full dataset and look at the first 3 records"
   ]
  },
  {
   "cell_type": "code",
   "execution_count": 7,
   "metadata": {
    "colab": {},
    "colab_type": "code",
    "id": "V5_3HSf0Zpde"
   },
   "outputs": [],
   "source": [
    "combined = pd.concat([train,challenge], ignore_index=False)"
   ]
  },
  {
   "cell_type": "markdown",
   "metadata": {
    "colab_type": "text",
    "id": "4M4s5wEL9qdz"
   },
   "source": [
    "#### 2-C) Look at the last 3 records of `combined`"
   ]
  },
  {
   "cell_type": "code",
   "execution_count": 8,
   "metadata": {
    "colab": {},
    "colab_type": "code",
    "id": "aFNs44HwblRP"
   },
   "outputs": [
    {
     "data": {
      "text/html": [
       "<div>\n",
       "<style scoped>\n",
       "    .dataframe tbody tr th:only-of-type {\n",
       "        vertical-align: middle;\n",
       "    }\n",
       "\n",
       "    .dataframe tbody tr th {\n",
       "        vertical-align: top;\n",
       "    }\n",
       "\n",
       "    .dataframe thead th {\n",
       "        text-align: right;\n",
       "    }\n",
       "</style>\n",
       "<table border=\"1\" class=\"dataframe\">\n",
       "  <thead>\n",
       "    <tr style=\"text-align: right;\">\n",
       "      <th></th>\n",
       "      <th>Survived</th>\n",
       "      <th>Pclass</th>\n",
       "      <th>Name</th>\n",
       "      <th>Sex</th>\n",
       "      <th>Age</th>\n",
       "      <th>SibSp</th>\n",
       "      <th>Parch</th>\n",
       "      <th>Ticket</th>\n",
       "      <th>Fare</th>\n",
       "      <th>Cabin</th>\n",
       "      <th>Embarked</th>\n",
       "    </tr>\n",
       "    <tr>\n",
       "      <th>PassengerId</th>\n",
       "      <th></th>\n",
       "      <th></th>\n",
       "      <th></th>\n",
       "      <th></th>\n",
       "      <th></th>\n",
       "      <th></th>\n",
       "      <th></th>\n",
       "      <th></th>\n",
       "      <th></th>\n",
       "      <th></th>\n",
       "      <th></th>\n",
       "    </tr>\n",
       "  </thead>\n",
       "  <tbody>\n",
       "    <tr>\n",
       "      <th>1305</th>\n",
       "      <td>NaN</td>\n",
       "      <td>3</td>\n",
       "      <td>Spector, Mr. Woolf</td>\n",
       "      <td>male</td>\n",
       "      <td>NaN</td>\n",
       "      <td>0</td>\n",
       "      <td>0</td>\n",
       "      <td>A.5. 3236</td>\n",
       "      <td>8.0500</td>\n",
       "      <td>NaN</td>\n",
       "      <td>S</td>\n",
       "    </tr>\n",
       "    <tr>\n",
       "      <th>1306</th>\n",
       "      <td>NaN</td>\n",
       "      <td>1</td>\n",
       "      <td>Oliva y Ocana, Dona. Fermina</td>\n",
       "      <td>female</td>\n",
       "      <td>39.0</td>\n",
       "      <td>0</td>\n",
       "      <td>0</td>\n",
       "      <td>PC 17758</td>\n",
       "      <td>108.9000</td>\n",
       "      <td>C105</td>\n",
       "      <td>C</td>\n",
       "    </tr>\n",
       "    <tr>\n",
       "      <th>1307</th>\n",
       "      <td>NaN</td>\n",
       "      <td>3</td>\n",
       "      <td>Saether, Mr. Simon Sivertsen</td>\n",
       "      <td>male</td>\n",
       "      <td>38.5</td>\n",
       "      <td>0</td>\n",
       "      <td>0</td>\n",
       "      <td>SOTON/O.Q. 3101262</td>\n",
       "      <td>7.2500</td>\n",
       "      <td>NaN</td>\n",
       "      <td>S</td>\n",
       "    </tr>\n",
       "    <tr>\n",
       "      <th>1308</th>\n",
       "      <td>NaN</td>\n",
       "      <td>3</td>\n",
       "      <td>Ware, Mr. Frederick</td>\n",
       "      <td>male</td>\n",
       "      <td>NaN</td>\n",
       "      <td>0</td>\n",
       "      <td>0</td>\n",
       "      <td>359309</td>\n",
       "      <td>8.0500</td>\n",
       "      <td>NaN</td>\n",
       "      <td>S</td>\n",
       "    </tr>\n",
       "    <tr>\n",
       "      <th>1309</th>\n",
       "      <td>NaN</td>\n",
       "      <td>3</td>\n",
       "      <td>Peter, Master. Michael J</td>\n",
       "      <td>male</td>\n",
       "      <td>NaN</td>\n",
       "      <td>1</td>\n",
       "      <td>1</td>\n",
       "      <td>2668</td>\n",
       "      <td>22.3583</td>\n",
       "      <td>NaN</td>\n",
       "      <td>C</td>\n",
       "    </tr>\n",
       "  </tbody>\n",
       "</table>\n",
       "</div>"
      ],
      "text/plain": [
       "             Survived  Pclass                          Name     Sex   Age  \\\n",
       "PassengerId                                                                 \n",
       "1305              NaN       3            Spector, Mr. Woolf    male   NaN   \n",
       "1306              NaN       1  Oliva y Ocana, Dona. Fermina  female  39.0   \n",
       "1307              NaN       3  Saether, Mr. Simon Sivertsen    male  38.5   \n",
       "1308              NaN       3           Ware, Mr. Frederick    male   NaN   \n",
       "1309              NaN       3      Peter, Master. Michael J    male   NaN   \n",
       "\n",
       "             SibSp  Parch              Ticket      Fare Cabin Embarked  \n",
       "PassengerId                                                             \n",
       "1305             0      0           A.5. 3236    8.0500   NaN        S  \n",
       "1306             0      0            PC 17758  108.9000  C105        C  \n",
       "1307             0      0  SOTON/O.Q. 3101262    7.2500   NaN        S  \n",
       "1308             0      0              359309    8.0500   NaN        S  \n",
       "1309             1      1                2668   22.3583   NaN        C  "
      ]
     },
     "execution_count": 8,
     "metadata": {},
     "output_type": "execute_result"
    }
   ],
   "source": [
    "combined.tail()"
   ]
  },
  {
   "cell_type": "markdown",
   "metadata": {
    "colab_type": "text",
    "id": "1OGfkLAirQDw"
   },
   "source": [
    "### First submission to Kaggle.com (benchmark)"
   ]
  },
  {
   "cell_type": "markdown",
   "metadata": {
    "colab_type": "text",
    "id": "RVrEaV4lraLg"
   },
   "source": [
    "Kaggle provides a pre-made submission file that predicts survival simply based on gender (male vs female).  This is a perfect way to test out the submission process on Kaggle.com, and to set a benchmark.  We can do better than just predicting survival by gender, right?  Consider it a challenge."
   ]
  },
  {
   "cell_type": "markdown",
   "metadata": {
    "colab_type": "text",
    "id": "kuf3Q7kqr8hR"
   },
   "source": [
    "#### Download the gender submission test data"
   ]
  },
  {
   "cell_type": "markdown",
   "metadata": {
    "colab_type": "text",
    "id": "ZNAat6khtGXb"
   },
   "source": [
    "#### Go to the [Kaggle Titanic Data web page](https://www.kaggle.com/c/titanic/data), find the Data Sources section, click on gender_submission, then click the download button to the right of the file name.  \n",
    "\n",
    "Alternatively, you can run the code block below which will automatically download the file to your computer, but I recommend downloading the file from Kaggle so you can get familiar with the website."
   ]
  },
  {
   "cell_type": "code",
   "execution_count": 9,
   "metadata": {
    "colab": {},
    "colab_type": "code",
    "id": "AnqAAFvtsGsH"
   },
   "outputs": [
    {
     "data": {
      "text/html": [
       "<div>\n",
       "<style scoped>\n",
       "    .dataframe tbody tr th:only-of-type {\n",
       "        vertical-align: middle;\n",
       "    }\n",
       "\n",
       "    .dataframe tbody tr th {\n",
       "        vertical-align: top;\n",
       "    }\n",
       "\n",
       "    .dataframe thead th {\n",
       "        text-align: right;\n",
       "    }\n",
       "</style>\n",
       "<table border=\"1\" class=\"dataframe\">\n",
       "  <thead>\n",
       "    <tr style=\"text-align: right;\">\n",
       "      <th></th>\n",
       "      <th>PassengerId</th>\n",
       "      <th>Survived</th>\n",
       "    </tr>\n",
       "  </thead>\n",
       "  <tbody>\n",
       "    <tr>\n",
       "      <th>0</th>\n",
       "      <td>892</td>\n",
       "      <td>0</td>\n",
       "    </tr>\n",
       "    <tr>\n",
       "      <th>1</th>\n",
       "      <td>893</td>\n",
       "      <td>1</td>\n",
       "    </tr>\n",
       "    <tr>\n",
       "      <th>2</th>\n",
       "      <td>894</td>\n",
       "      <td>0</td>\n",
       "    </tr>\n",
       "    <tr>\n",
       "      <th>3</th>\n",
       "      <td>895</td>\n",
       "      <td>0</td>\n",
       "    </tr>\n",
       "    <tr>\n",
       "      <th>4</th>\n",
       "      <td>896</td>\n",
       "      <td>1</td>\n",
       "    </tr>\n",
       "  </tbody>\n",
       "</table>\n",
       "</div>"
      ],
      "text/plain": [
       "   PassengerId  Survived\n",
       "0          892         0\n",
       "1          893         1\n",
       "2          894         0\n",
       "3          895         0\n",
       "4          896         1"
      ]
     },
     "execution_count": 9,
     "metadata": {},
     "output_type": "execute_result"
    }
   ],
   "source": [
    "url = 'https://raw.githubusercontent.com/BrianLeip/Titanic_Kaggle_Template/master/Titanic_DataSets/gender_submission.csv'\n",
    "gender_submission = pd.read_csv(url)\n",
    "gender_submission.head()"
   ]
  },
  {
   "cell_type": "code",
   "execution_count": 10,
   "metadata": {
    "colab": {},
    "colab_type": "code",
    "id": "e-MT2sq7-fcZ"
   },
   "outputs": [],
   "source": [
    "gender_submission.to_csv('gender_submission.csv')"
   ]
  },
  {
   "cell_type": "markdown",
   "metadata": {
    "colab_type": "text",
    "id": "mI5IJUMu-8X9"
   },
   "source": [
    "If you're running this notebook on Google Colab, uncomment the code in the cells below to download the file.  In Jupyter, just skip since it was downloaded above."
   ]
  },
  {
   "cell_type": "code",
   "execution_count": 11,
   "metadata": {
    "colab": {},
    "colab_type": "code",
    "id": "hx4HE3dOwfno"
   },
   "outputs": [],
   "source": [
    "# from google.colab import files\n",
    "# files.download('gender_submission.csv') "
   ]
  },
  {
   "cell_type": "markdown",
   "metadata": {
    "colab_type": "text",
    "id": "-WEAoSUTtooo"
   },
   "source": [
    "#### It's time to submit!  Go to the [Kaggle Titanic Data web page](https://www.kaggle.com/c/titanic/data) and click the `Submit Predictions` blue button in the upper right corner.  Then upload the `gender_submission.csv` file you downloaded."
   ]
  },
  {
   "cell_type": "markdown",
   "metadata": {
    "colab_type": "text",
    "id": "h5X9yKZauYjc"
   },
   "source": [
    "Once you submit, it should tell you your score (between 0 and 100) like in the screenshot below."
   ]
  },
  {
   "cell_type": "markdown",
   "metadata": {
    "colab_type": "text",
    "id": "FpZbAH1Ft3d9"
   },
   "source": [
    "![image.png](data:image/png;base64,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)\n"
   ]
  },
  {
   "cell_type": "markdown",
   "metadata": {
    "colab_type": "text",
    "id": "LRSWmmKhuhhh"
   },
   "source": [
    "76.5% is surprisingly good for a wild ass guess!  Let's see if we can improve on that with more sophisticated methods.  Now we'll begin diving into the training dataset with some EDA."
   ]
  },
  {
   "cell_type": "markdown",
   "metadata": {
    "colab_type": "text",
    "id": "dIQKjiAlqGdC"
   },
   "source": [
    "# Step 3: Exploratory Data Analysis (EDA)"
   ]
  },
  {
   "cell_type": "markdown",
   "metadata": {
    "colab_type": "text",
    "id": "qJbNPbw3UHnt"
   },
   "source": [
    "## Inital examination of the dataset"
   ]
  },
  {
   "cell_type": "markdown",
   "metadata": {
    "colab_type": "text",
    "id": "MeTMNldUzK-Z"
   },
   "source": [
    "#### 3-A) What is the data type of `train`"
   ]
  },
  {
   "cell_type": "code",
   "execution_count": 12,
   "metadata": {
    "colab": {},
    "colab_type": "code",
    "id": "oeXMHo68qGbg"
   },
   "outputs": [
    {
     "name": "stdout",
     "output_type": "stream",
     "text": [
      "<class 'pandas.core.frame.DataFrame'>\n",
      "Int64Index: 891 entries, 1 to 891\n",
      "Data columns (total 11 columns):\n",
      " #   Column    Non-Null Count  Dtype  \n",
      "---  ------    --------------  -----  \n",
      " 0   Survived  891 non-null    int64  \n",
      " 1   Pclass    891 non-null    int64  \n",
      " 2   Name      891 non-null    object \n",
      " 3   Sex       891 non-null    object \n",
      " 4   Age       714 non-null    float64\n",
      " 5   SibSp     891 non-null    int64  \n",
      " 6   Parch     891 non-null    int64  \n",
      " 7   Ticket    891 non-null    object \n",
      " 8   Fare      891 non-null    float64\n",
      " 9   Cabin     204 non-null    object \n",
      " 10  Embarked  889 non-null    object \n",
      "dtypes: float64(2), int64(4), object(5)\n",
      "memory usage: 83.5+ KB\n"
     ]
    }
   ],
   "source": [
    "train.info()"
   ]
  },
  {
   "cell_type": "markdown",
   "metadata": {
    "colab_type": "text",
    "id": "juteSQ-dzXez"
   },
   "source": [
    "#### 3-B) What is the shape of `train` (rows and column counts)"
   ]
  },
  {
   "cell_type": "code",
   "execution_count": 13,
   "metadata": {
    "colab": {},
    "colab_type": "code",
    "id": "z6AqB_2ZqGbj"
   },
   "outputs": [
    {
     "data": {
      "text/plain": [
       "(891, 11)"
      ]
     },
     "execution_count": 13,
     "metadata": {},
     "output_type": "execute_result"
    }
   ],
   "source": [
    "train.shape"
   ]
  },
  {
   "cell_type": "markdown",
   "metadata": {
    "colab_type": "text",
    "id": "OWVBiUP-zmvR"
   },
   "source": [
    "#### 3-C) run .info() on `train`"
   ]
  },
  {
   "cell_type": "code",
   "execution_count": 14,
   "metadata": {
    "colab": {},
    "colab_type": "code",
    "id": "8HTrlDouqGbm"
   },
   "outputs": [
    {
     "data": {
      "text/plain": [
       "Survived      int64\n",
       "Pclass        int64\n",
       "Name         object\n",
       "Sex          object\n",
       "Age         float64\n",
       "SibSp         int64\n",
       "Parch         int64\n",
       "Ticket       object\n",
       "Fare        float64\n",
       "Cabin        object\n",
       "Embarked     object\n",
       "dtype: object"
      ]
     },
     "execution_count": 14,
     "metadata": {},
     "output_type": "execute_result"
    }
   ],
   "source": [
    "train.dtypes\n",
    "#kinda get the same info for 3A and 3C with .info()\n",
    "#that's my preferred method"
   ]
  },
  {
   "cell_type": "markdown",
   "metadata": {
    "colab_type": "text",
    "id": "Yts5OUCyzt2b"
   },
   "source": [
    "#### 3-D) run .describe() on `train`"
   ]
  },
  {
   "cell_type": "code",
   "execution_count": 15,
   "metadata": {
    "colab": {},
    "colab_type": "code",
    "id": "Gn1GrNdDqGb-"
   },
   "outputs": [
    {
     "data": {
      "text/html": [
       "<div>\n",
       "<style scoped>\n",
       "    .dataframe tbody tr th:only-of-type {\n",
       "        vertical-align: middle;\n",
       "    }\n",
       "\n",
       "    .dataframe tbody tr th {\n",
       "        vertical-align: top;\n",
       "    }\n",
       "\n",
       "    .dataframe thead th {\n",
       "        text-align: right;\n",
       "    }\n",
       "</style>\n",
       "<table border=\"1\" class=\"dataframe\">\n",
       "  <thead>\n",
       "    <tr style=\"text-align: right;\">\n",
       "      <th></th>\n",
       "      <th>Survived</th>\n",
       "      <th>Pclass</th>\n",
       "      <th>Age</th>\n",
       "      <th>SibSp</th>\n",
       "      <th>Parch</th>\n",
       "      <th>Fare</th>\n",
       "    </tr>\n",
       "  </thead>\n",
       "  <tbody>\n",
       "    <tr>\n",
       "      <th>count</th>\n",
       "      <td>891.000000</td>\n",
       "      <td>891.000000</td>\n",
       "      <td>714.000000</td>\n",
       "      <td>891.000000</td>\n",
       "      <td>891.000000</td>\n",
       "      <td>891.000000</td>\n",
       "    </tr>\n",
       "    <tr>\n",
       "      <th>mean</th>\n",
       "      <td>0.383838</td>\n",
       "      <td>2.308642</td>\n",
       "      <td>29.699118</td>\n",
       "      <td>0.523008</td>\n",
       "      <td>0.381594</td>\n",
       "      <td>32.204208</td>\n",
       "    </tr>\n",
       "    <tr>\n",
       "      <th>std</th>\n",
       "      <td>0.486592</td>\n",
       "      <td>0.836071</td>\n",
       "      <td>14.526497</td>\n",
       "      <td>1.102743</td>\n",
       "      <td>0.806057</td>\n",
       "      <td>49.693429</td>\n",
       "    </tr>\n",
       "    <tr>\n",
       "      <th>min</th>\n",
       "      <td>0.000000</td>\n",
       "      <td>1.000000</td>\n",
       "      <td>0.420000</td>\n",
       "      <td>0.000000</td>\n",
       "      <td>0.000000</td>\n",
       "      <td>0.000000</td>\n",
       "    </tr>\n",
       "    <tr>\n",
       "      <th>25%</th>\n",
       "      <td>0.000000</td>\n",
       "      <td>2.000000</td>\n",
       "      <td>20.125000</td>\n",
       "      <td>0.000000</td>\n",
       "      <td>0.000000</td>\n",
       "      <td>7.910400</td>\n",
       "    </tr>\n",
       "    <tr>\n",
       "      <th>50%</th>\n",
       "      <td>0.000000</td>\n",
       "      <td>3.000000</td>\n",
       "      <td>28.000000</td>\n",
       "      <td>0.000000</td>\n",
       "      <td>0.000000</td>\n",
       "      <td>14.454200</td>\n",
       "    </tr>\n",
       "    <tr>\n",
       "      <th>75%</th>\n",
       "      <td>1.000000</td>\n",
       "      <td>3.000000</td>\n",
       "      <td>38.000000</td>\n",
       "      <td>1.000000</td>\n",
       "      <td>0.000000</td>\n",
       "      <td>31.000000</td>\n",
       "    </tr>\n",
       "    <tr>\n",
       "      <th>max</th>\n",
       "      <td>1.000000</td>\n",
       "      <td>3.000000</td>\n",
       "      <td>80.000000</td>\n",
       "      <td>8.000000</td>\n",
       "      <td>6.000000</td>\n",
       "      <td>512.329200</td>\n",
       "    </tr>\n",
       "  </tbody>\n",
       "</table>\n",
       "</div>"
      ],
      "text/plain": [
       "         Survived      Pclass         Age       SibSp       Parch        Fare\n",
       "count  891.000000  891.000000  714.000000  891.000000  891.000000  891.000000\n",
       "mean     0.383838    2.308642   29.699118    0.523008    0.381594   32.204208\n",
       "std      0.486592    0.836071   14.526497    1.102743    0.806057   49.693429\n",
       "min      0.000000    1.000000    0.420000    0.000000    0.000000    0.000000\n",
       "25%      0.000000    2.000000   20.125000    0.000000    0.000000    7.910400\n",
       "50%      0.000000    3.000000   28.000000    0.000000    0.000000   14.454200\n",
       "75%      1.000000    3.000000   38.000000    1.000000    0.000000   31.000000\n",
       "max      1.000000    3.000000   80.000000    8.000000    6.000000  512.329200"
      ]
     },
     "execution_count": 15,
     "metadata": {},
     "output_type": "execute_result"
    }
   ],
   "source": [
    "train.describe()"
   ]
  },
  {
   "cell_type": "markdown",
   "metadata": {},
   "source": [
    "These look pretty appropriate, with the oddball Fare of 512.329200. That seems both high and unusally specific."
   ]
  },
  {
   "cell_type": "markdown",
   "metadata": {
    "colab_type": "text",
    "id": "V96p-LFazzSg"
   },
   "source": [
    "#### 3-E) How many null values are within each column of `train`"
   ]
  },
  {
   "cell_type": "code",
   "execution_count": 16,
   "metadata": {
    "colab": {},
    "colab_type": "code",
    "id": "FZxB9U-fNexf"
   },
   "outputs": [
    {
     "data": {
      "text/plain": [
       "Text(0.0, 1, 'Heatmap of missing Train data')"
      ]
     },
     "execution_count": 16,
     "metadata": {},
     "output_type": "execute_result"
    },
    {
     "data": {
      "image/png": "[encoded data removed]",
      "text/plain": [
       "<Figure size 1800x864 with 1 Axes>"
      ]
     },
     "metadata": {
      "needs_background": "light"
     },
     "output_type": "display_data"
    }
   ],
   "source": [
    "f, ax = plt.subplots(figsize=(25,12))\n",
    "sns.heatmap(train.isnull(), cbar=False)\n",
    "ax.set_title(\"Heatmap of missing Train data\", loc='left', fontdict={'fontsize':'20', 'fontweight':'bold'})"
   ]
  },
  {
   "cell_type": "code",
   "execution_count": 17,
   "metadata": {},
   "outputs": [
    {
     "data": {
      "text/plain": [
       "Survived      0\n",
       "Pclass        0\n",
       "Name          0\n",
       "Sex           0\n",
       "Age         177\n",
       "SibSp         0\n",
       "Parch         0\n",
       "Ticket        0\n",
       "Fare          0\n",
       "Cabin       687\n",
       "Embarked      2\n",
       "dtype: int64"
      ]
     },
     "execution_count": 17,
     "metadata": {},
     "output_type": "execute_result"
    }
   ],
   "source": [
    "train.isnull().sum()"
   ]
  },
  {
   "cell_type": "markdown",
   "metadata": {
    "colab_type": "text",
    "id": "BFAcO5WDVHL-"
   },
   "source": [
    "It looks like we have missing values in the Age, Cabin, and Embarked column that will need to be cleaned up and either dropped completely, or filled in with best estimates in order to use this data to properly train the ML algorithm."
   ]
  },
  {
   "cell_type": "markdown",
   "metadata": {
    "colab_type": "text",
    "id": "XWVErzyW0AI8"
   },
   "source": [
    "#### 3-F) How many null values within each column of the `combined` dataset"
   ]
  },
  {
   "cell_type": "code",
   "execution_count": 18,
   "metadata": {
    "colab": {},
    "colab_type": "code",
    "id": "6CyfcCbadO72"
   },
   "outputs": [
    {
     "data": {
      "text/plain": [
       "Text(0.0, 1, 'Heatmap of missing Combined data')"
      ]
     },
     "execution_count": 18,
     "metadata": {},
     "output_type": "execute_result"
    },
    {
     "data": {
      "image/png": "[encoded data removed]",
      "text/plain": [
       "<Figure size 1800x864 with 1 Axes>"
      ]
     },
     "metadata": {
      "needs_background": "light"
     },
     "output_type": "display_data"
    }
   ],
   "source": [
    "f, ax = plt.subplots(figsize=(25,12))\n",
    "sns.heatmap(combined.isnull(), cbar=False)\n",
    "ax.set_title(\"Heatmap of missing Combined data\", loc='left', fontdict={'fontsize':'20', 'fontweight':'bold'})"
   ]
  },
  {
   "cell_type": "code",
   "execution_count": 19,
   "metadata": {},
   "outputs": [
    {
     "data": {
      "text/plain": [
       "Survived     418\n",
       "Pclass         0\n",
       "Name           0\n",
       "Sex            0\n",
       "Age          263\n",
       "SibSp          0\n",
       "Parch          0\n",
       "Ticket         0\n",
       "Fare           1\n",
       "Cabin       1014\n",
       "Embarked       2\n",
       "dtype: int64"
      ]
     },
     "execution_count": 19,
     "metadata": {},
     "output_type": "execute_result"
    }
   ],
   "source": [
    "combined.isnull().sum()"
   ]
  },
  {
   "cell_type": "markdown",
   "metadata": {
    "colab_type": "text",
    "id": "9NQmHde_0Kuv"
   },
   "source": [
    "#### 3-G) Calculate the percentages of missing values for each column of the `combined` dataset"
   ]
  },
  {
   "cell_type": "code",
   "execution_count": 20,
   "metadata": {
    "colab": {},
    "colab_type": "code",
    "id": "k-6xK7x8cc0N"
   },
   "outputs": [
    {
     "data": {
      "text/plain": [
       "Survived    31.9\n",
       "Pclass       0.0\n",
       "Name         0.0\n",
       "Sex          0.0\n",
       "Age         20.1\n",
       "SibSp        0.0\n",
       "Parch        0.0\n",
       "Ticket       0.0\n",
       "Fare         0.1\n",
       "Cabin       77.5\n",
       "Embarked     0.2\n",
       "dtype: float64"
      ]
     },
     "execution_count": 20,
     "metadata": {},
     "output_type": "execute_result"
    }
   ],
   "source": [
    "round(combined.isnull().sum() / combined.shape[0] * 100.00, 1)"
   ]
  },
  {
   "cell_type": "markdown",
   "metadata": {
    "colab_type": "text",
    "id": "oSIov17z0RWK"
   },
   "source": [
    "#### 3-H) Perform an Analysis of the data and what may need to be cleaned later.  Note that ML algorithms like Logistic Regression do not work well with missing data, or with non-numerical data, so that will need to be wrangled / cleaned / prepared in step 3."
   ]
  },
  {
   "cell_type": "markdown",
   "metadata": {
    "colab_type": "text",
    "id": "Kp1jOZzbdVqt"
   },
   "source": [
    "#### Analysis\n",
    "- "
   ]
  },
  {
   "cell_type": "markdown",
   "metadata": {
    "colab_type": "text",
    "id": "HGZZY5WgqGdO"
   },
   "source": [
    "## Visualization of the data"
   ]
  },
  {
   "cell_type": "code",
   "execution_count": 21,
   "metadata": {
    "colab": {},
    "colab_type": "code",
    "id": "ZwitWaN_Vumz"
   },
   "outputs": [],
   "source": [
    "# set the style for Seaborn charts\n",
    "sns.set_style('whitegrid')"
   ]
  },
  {
   "cell_type": "markdown",
   "metadata": {
    "colab_type": "text",
    "id": "qVbxNqhz0vhE"
   },
   "source": [
    "#### 3-I) Use ms.matrix() from missingno to visualize the missing data"
   ]
  },
  {
   "cell_type": "code",
   "execution_count": 22,
   "metadata": {
    "colab": {},
    "colab_type": "code",
    "id": "xwDfDthBqGdD"
   },
   "outputs": [
    {
     "data": {
      "text/plain": [
       "<matplotlib.axes._subplots.AxesSubplot at 0x1a1b39f410>"
      ]
     },
     "execution_count": 22,
     "metadata": {},
     "output_type": "execute_result"
    },
    {
     "data": {
      "image/png": "[encoded data removed]",
      "text/plain": [
       "<Figure size 1800x720 with 2 Axes>"
      ]
     },
     "metadata": {},
     "output_type": "display_data"
    }
   ],
   "source": [
    "ms.matrix(combined)"
   ]
  },
  {
   "cell_type": "markdown",
   "metadata": {
    "colab_type": "text",
    "id": "roeSRy-_06Dp"
   },
   "source": [
    "#### 3-J) Use seaborn (sns) to plot a chart with 2 columns: died or survived (0 or 1)\n",
    "*hint: sns.countplot*"
   ]
  },
  {
   "cell_type": "code",
   "execution_count": 23,
   "metadata": {
    "colab": {},
    "colab_type": "code",
    "id": "FYnW2ls8qGde"
   },
   "outputs": [
    {
     "data": {
      "text/plain": [
       "Text(0.0, 1.0, 'Titanic Survival')"
      ]
     },
     "execution_count": 23,
     "metadata": {},
     "output_type": "execute_result"
    },
    {
     "data": {
      "image/png": "[encoded data removed]",
      "text/plain": [
       "<Figure size 720x432 with 1 Axes>"
      ]
     },
     "metadata": {},
     "output_type": "display_data"
    }
   ],
   "source": [
    "labels = ['Died','Survived']\n",
    "f, ax = plt.subplots(figsize=(10,6))\n",
    "chart = sns.countplot(x='Survived', data=combined)\n",
    "ax.set_xticklabels(labels)\n",
    "ax.set_xlabel('')\n",
    "ax.set_title(\"Titanic Survival\", loc='left', fontdict={'fontsize':20})"
   ]
  },
  {
   "cell_type": "markdown",
   "metadata": {
    "colab_type": "text",
    "id": "RD5bVq1T1aLe"
   },
   "source": [
    "#### 3-K) Use seaborn to plot a chart of survived vs. died, broken down by male vs female\n",
    "*hint: sns.countplot with hue='Sex'*"
   ]
  },
  {
   "cell_type": "code",
   "execution_count": 24,
   "metadata": {
    "colab": {},
    "colab_type": "code",
    "id": "5X0kVGCmqGdk"
   },
   "outputs": [
    {
     "data": {
      "text/plain": [
       "Text(0.0, 1.0, 'Titanic Survival by Sex')"
      ]
     },
     "execution_count": 24,
     "metadata": {},
     "output_type": "execute_result"
    },
    {
     "data": {
      "image/png": "[encoded data removed]",
      "text/plain": [
       "<Figure size 720x432 with 1 Axes>"
      ]
     },
     "metadata": {},
     "output_type": "display_data"
    }
   ],
   "source": [
    "f, ax = plt.subplots(figsize=(10,6))\n",
    "chart = sns.countplot(x='Survived', hue='Sex', data=combined)\n",
    "ax.set_xticklabels(labels)\n",
    "ax.set_xlabel('')\n",
    "ax.set_title(\"Titanic Survival by Sex\", loc='left', fontdict={'fontsize':20})"
   ]
  },
  {
   "cell_type": "markdown",
   "metadata": {
    "colab_type": "text",
    "id": "lRKx4Yot1_6R"
   },
   "source": [
    "#### 3-L) Use seaborn to plot a chart of survived vs died, broken down by Pclass\n",
    "*hint: sns.countplot with hue='Pclass'*"
   ]
  },
  {
   "cell_type": "code",
   "execution_count": 25,
   "metadata": {
    "colab": {},
    "colab_type": "code",
    "id": "QpxCS2k2qGdn"
   },
   "outputs": [
    {
     "data": {
      "text/plain": [
       "Text(0.0, 1.0, 'Titanic Survival by Passenger Class')"
      ]
     },
     "execution_count": 25,
     "metadata": {},
     "output_type": "execute_result"
    },
    {
     "data": {
      "image/png": "[encoded data removed]",
      "text/plain": [
       "<Figure size 720x432 with 1 Axes>"
      ]
     },
     "metadata": {},
     "output_type": "display_data"
    }
   ],
   "source": [
    "f, ax = plt.subplots(figsize=(10,6))\n",
    "chart = sns.countplot(x='Survived', hue='Pclass', data=combined)\n",
    "ax.set_xticklabels(labels)\n",
    "ax.set_xlabel('')\n",
    "ax.set_title(\"Titanic Survival by Passenger Class\", loc='left', fontdict={'fontsize':'20'})"
   ]
  },
  {
   "cell_type": "markdown",
   "metadata": {
    "colab_type": "text",
    "id": "SVJNN_cy2LPo"
   },
   "source": [
    "#### 3-M) Use seaborn to plot a distribution of the amounts in `Fare`\n",
    "*hint: sns.distplot*"
   ]
  },
  {
   "cell_type": "code",
   "execution_count": 26,
   "metadata": {
    "colab": {},
    "colab_type": "code",
    "id": "VqU7t6mZqGdT"
   },
   "outputs": [
    {
     "data": {
      "text/plain": [
       "Text(0.0, 1.0, 'Fare')"
      ]
     },
     "execution_count": 26,
     "metadata": {},
     "output_type": "execute_result"
    },
    {
     "data": {
      "image/png": "[encoded data removed]",
      "text/plain": [
       "<Figure size 1008x432 with 1 Axes>"
      ]
     },
     "metadata": {},
     "output_type": "display_data"
    }
   ],
   "source": [
    "f, ax = plt.subplots(figsize =(14, 6))\n",
    "sns.boxplot(combined['Fare'])\n",
    "ax.set_title(\"Fare\", loc='left', fontdict={'fontsize':20})"
   ]
  },
  {
   "cell_type": "code",
   "execution_count": 27,
   "metadata": {},
   "outputs": [
    {
     "data": {
      "text/plain": [
       "Text(0.0, 1.0, 'Fare')"
      ]
     },
     "execution_count": 27,
     "metadata": {},
     "output_type": "execute_result"
    },
    {
     "data": {
      "image/png": "[encoded data removed]",
      "text/plain": [
       "<Figure size 720x432 with 1 Axes>"
      ]
     },
     "metadata": {},
     "output_type": "display_data"
    }
   ],
   "source": [
    "f, ax = plt.subplots(figsize =(10, 6))\n",
    "sns.distplot(combined['Fare'])\n",
    "ax.set_title(\"Fare\", loc='left', fontdict={'fontsize':20})"
   ]
  },
  {
   "cell_type": "markdown",
   "metadata": {
    "colab_type": "text",
    "id": "hMH3MD_02c2S"
   },
   "source": [
    "#### 3-N) Plot a histogram (using any method you like) of the data in `Fare`"
   ]
  },
  {
   "cell_type": "code",
   "execution_count": 28,
   "metadata": {
    "colab": {},
    "colab_type": "code",
    "id": "0MvfzUUDqGdz"
   },
   "outputs": [
    {
     "data": {
      "text/plain": [
       "Text(0.0, 1.0, 'Fare')"
      ]
     },
     "execution_count": 28,
     "metadata": {},
     "output_type": "execute_result"
    },
    {
     "data": {
      "image/png": "[encoded data removed]",
      "text/plain": [
       "<Figure size 1080x432 with 1 Axes>"
      ]
     },
     "metadata": {},
     "output_type": "display_data"
    }
   ],
   "source": [
    "f, ax = plt.subplots(figsize =(15, 6))\n",
    "sns.distplot(combined['Fare'], kde=True, rug=True)\n",
    "ax.set_title(\"Fare\", loc='left', fontdict={'fontsize':20})"
   ]
  },
  {
   "cell_type": "markdown",
   "metadata": {},
   "source": [
    "That' a start, but the outlier at over 500 makes it difficult to really expore the others. Let's plot the `Fare` without the outlier."
   ]
  },
  {
   "cell_type": "code",
   "execution_count": 29,
   "metadata": {},
   "outputs": [
    {
     "data": {
      "text/plain": [
       "Text(0.0, 1.0, 'Fare (less than 500)')"
      ]
     },
     "execution_count": 29,
     "metadata": {},
     "output_type": "execute_result"
    },
    {
     "data": {
      "image/png": "[encoded data removed]",
      "text/plain": [
       "<Figure size 1080x432 with 1 Axes>"
      ]
     },
     "metadata": {},
     "output_type": "display_data"
    }
   ],
   "source": [
    "drop_500 = combined[combined['Fare'] < 500]\n",
    "\n",
    "f, ax = plt.subplots(figsize =(15, 6))\n",
    "sns.distplot(drop_500['Fare'], kde=True, rug=True)\n",
    "ax.set_title(\"Fare (less than 500)\", loc='left', fontdict={'fontsize':20})"
   ]
  },
  {
   "cell_type": "markdown",
   "metadata": {
    "colab_type": "text",
    "id": "wr5KveI72uou"
   },
   "source": [
    "#### 3-O) Calculate the correlation of each feature (column) vs. the other features (columns)\n",
    "*hint: .corr()*"
   ]
  },
  {
   "cell_type": "code",
   "execution_count": 30,
   "metadata": {
    "colab": {},
    "colab_type": "code",
    "id": "4HbbNaFHQlkQ"
   },
   "outputs": [],
   "source": [
    "corrmat = combined.corr()"
   ]
  },
  {
   "cell_type": "markdown",
   "metadata": {
    "colab_type": "text",
    "id": "S27iKcoc29mr"
   },
   "source": [
    "#### 3-P) Use seaborn to plot a heatmap of the correlation data\n",
    "*hint: sns.heatmap*"
   ]
  },
  {
   "cell_type": "code",
   "execution_count": 31,
   "metadata": {
    "colab": {},
    "colab_type": "code",
    "id": "8cOJ9fXNqGdU"
   },
   "outputs": [
    {
     "data": {
      "text/plain": [
       "<matplotlib.axes._subplots.AxesSubplot at 0x1a1bec4390>"
      ]
     },
     "execution_count": 31,
     "metadata": {},
     "output_type": "execute_result"
    },
    {
     "data": {
      "image/png": "[encoded data removed]",
      "text/plain": [
       "<Figure size 864x720 with 2 Axes>"
      ]
     },
     "metadata": {},
     "output_type": "display_data"
    }
   ],
   "source": [
    "corrmat = combined.corr()\n",
    "f, ax = plt.subplots(figsize =(12, 10)) \n",
    "sns.heatmap(corrmat, ax = ax, cmap =\"YlGnBu\", linewidths = 0.1, annot = True)"
   ]
  },
  {
   "cell_type": "markdown",
   "metadata": {
    "colab_type": "text",
    "id": "hytBjHOh3Flj"
   },
   "source": [
    "#### 3-Q) Plot a histogram of the `Age` data"
   ]
  },
  {
   "cell_type": "code",
   "execution_count": 32,
   "metadata": {
    "colab": {},
    "colab_type": "code",
    "id": "g1EPepxuqGdt"
   },
   "outputs": [
    {
     "data": {
      "text/plain": [
       "Text(0.0, 1.0, 'Age')"
      ]
     },
     "execution_count": 32,
     "metadata": {},
     "output_type": "execute_result"
    },
    {
     "data": {
      "image/png": "[encoded data removed]",
      "text/plain": [
       "<Figure size 1080x432 with 1 Axes>"
      ]
     },
     "metadata": {},
     "output_type": "display_data"
    }
   ],
   "source": [
    "f, ax = plt.subplots(figsize =(15, 6))\n",
    "sns.distplot(combined['Age'], bins=30, kde=True, rug=False)\n",
    "ax.set_title(\"Age\", loc='left', fontdict={'fontsize':20})"
   ]
  },
  {
   "cell_type": "markdown",
   "metadata": {
    "colab_type": "text",
    "id": "e0N5g0FM3NBp"
   },
   "source": [
    "#### 3-R) Use Seaborn to create a boxplot of the `Age` data broken into the 3 `Pclass` columns\n",
    "*hint: sns.boxplot(x='Pclass', y=....)*"
   ]
  },
  {
   "cell_type": "code",
   "execution_count": 33,
   "metadata": {
    "colab": {},
    "colab_type": "code",
    "id": "aw9MHAg44-W5"
   },
   "outputs": [
    {
     "data": {
      "text/plain": [
       "Text(0, 0.5, 'Age')"
      ]
     },
     "execution_count": 33,
     "metadata": {},
     "output_type": "execute_result"
    },
    {
     "data": {
      "image/png": "[encoded data removed]",
      "text/plain": [
       "<Figure size 864x720 with 1 Axes>"
      ]
     },
     "metadata": {},
     "output_type": "display_data"
    }
   ],
   "source": [
    "f, ax = plt.subplots(figsize =(12, 10))\n",
    "chart = sns.boxplot(y='Age', x='Pclass', data=combined)\n",
    "ax.set_title(\"Age and Class\", loc='left', fontdict={'fontsize':20})\n",
    "ax.set_xlabel('Class', fontdict={'fontsize':'20'})\n",
    "ax.tick_params(labelsize=15)\n",
    "ax.set_ylabel('Age', fontdict={'fontsize':'20'})"
   ]
  },
  {
   "cell_type": "markdown",
   "metadata": {
    "colab_type": "text",
    "id": "ISMpzcSs3ha_"
   },
   "source": [
    "#### 3-S) Use Seaborn to create a swarmplot of the `Age` data broken down into the 3 `Pclass` columns"
   ]
  },
  {
   "cell_type": "code",
   "execution_count": 34,
   "metadata": {
    "colab": {},
    "colab_type": "code",
    "id": "sebwPKFXqGdc"
   },
   "outputs": [
    {
     "data": {
      "text/plain": [
       "Text(0, 0.5, 'Age')"
      ]
     },
     "execution_count": 34,
     "metadata": {},
     "output_type": "execute_result"
    },
    {
     "data": {
      "image/png": "[encoded data removed]",
      "text/plain": [
       "<Figure size 864x720 with 1 Axes>"
      ]
     },
     "metadata": {},
     "output_type": "display_data"
    }
   ],
   "source": [
    "f, ax = plt.subplots(figsize =(12, 10))\n",
    "chart = sns.swarmplot(y='Age', x='Pclass', data=combined)\n",
    "ax.set_title(\"Age and Class\", loc='left', fontdict={'fontsize':20})\n",
    "ax.set_xlabel('Class', fontdict={'fontsize':'20'})\n",
    "ax.tick_params(labelsize=15)\n",
    "ax.set_ylabel('Age', fontdict={'fontsize':'20'})"
   ]
  },
  {
   "cell_type": "code",
   "execution_count": 35,
   "metadata": {},
   "outputs": [
    {
     "data": {
      "text/plain": [
       "Text(0, 0.5, 'Age')"
      ]
     },
     "execution_count": 35,
     "metadata": {},
     "output_type": "execute_result"
    },
    {
     "data": {
      "image/png": "[encoded data removed]",
      "text/plain": [
       "<Figure size 864x720 with 1 Axes>"
      ]
     },
     "metadata": {},
     "output_type": "display_data"
    }
   ],
   "source": [
    "f, ax = plt.subplots(figsize =(12, 10))\n",
    "chart = sns.swarmplot(y='Age', x='Pclass', hue=\"Survived\", data=combined)\n",
    "ax.set_title(\"Age and Class\", loc='left', fontdict={'fontsize':20})\n",
    "ax.set_xlabel('Class', fontdict={'fontsize':'20'})\n",
    "ax.tick_params(labelsize=15)\n",
    "ax.set_ylabel('Age', fontdict={'fontsize':'20'})"
   ]
  },
  {
   "cell_type": "markdown",
   "metadata": {
    "colab_type": "text",
    "id": "bzBbQPjTqGd3"
   },
   "source": [
    "#### What insights do the above charts provide?"
   ]
  },
  {
   "cell_type": "markdown",
   "metadata": {
    "colab_type": "text",
    "id": "xG35AZ1aqGd4"
   },
   "source": [
    "# Step 4: Data Wrangling"
   ]
  },
  {
   "cell_type": "markdown",
   "metadata": {
    "colab_type": "text",
    "id": "1gHOxKrICtld"
   },
   "source": [
    "## Data Cleaning"
   ]
  },
  {
   "cell_type": "markdown",
   "metadata": {
    "colab_type": "text",
    "id": "ihqoUiJkzfiq"
   },
   "source": [
    "Re-examine the train dataset for missing values that need to be cleaned"
   ]
  },
  {
   "cell_type": "markdown",
   "metadata": {
    "colab_type": "text",
    "id": "npP7AWXA3zWZ"
   },
   "source": [
    "#### 4-A) Refresh your memory by running .info() on the `train` data and also get a could of the number of null values in each column.  This will make it easy for quick reference throughout section 4"
   ]
  },
  {
   "cell_type": "code",
   "execution_count": 36,
   "metadata": {
    "colab": {},
    "colab_type": "code",
    "id": "RBKz9jR-1qD8"
   },
   "outputs": [
    {
     "name": "stdout",
     "output_type": "stream",
     "text": [
      "<class 'pandas.core.frame.DataFrame'>\n",
      "Int64Index: 891 entries, 1 to 891\n",
      "Data columns (total 11 columns):\n",
      " #   Column    Non-Null Count  Dtype  \n",
      "---  ------    --------------  -----  \n",
      " 0   Survived  891 non-null    int64  \n",
      " 1   Pclass    891 non-null    int64  \n",
      " 2   Name      891 non-null    object \n",
      " 3   Sex       891 non-null    object \n",
      " 4   Age       714 non-null    float64\n",
      " 5   SibSp     891 non-null    int64  \n",
      " 6   Parch     891 non-null    int64  \n",
      " 7   Ticket    891 non-null    object \n",
      " 8   Fare      891 non-null    float64\n",
      " 9   Cabin     204 non-null    object \n",
      " 10  Embarked  889 non-null    object \n",
      "dtypes: float64(2), int64(4), object(5)\n",
      "memory usage: 83.5+ KB\n"
     ]
    }
   ],
   "source": [
    "train.info()"
   ]
  },
  {
   "cell_type": "code",
   "execution_count": 37,
   "metadata": {
    "colab": {},
    "colab_type": "code",
    "id": "u0vD_V-UWwm_"
   },
   "outputs": [
    {
     "data": {
      "text/plain": [
       "Survived      0\n",
       "Pclass        0\n",
       "Name          0\n",
       "Sex           0\n",
       "Age         177\n",
       "SibSp         0\n",
       "Parch         0\n",
       "Ticket        0\n",
       "Fare          0\n",
       "Cabin       687\n",
       "Embarked      2\n",
       "dtype: int64"
      ]
     },
     "execution_count": 37,
     "metadata": {},
     "output_type": "execute_result"
    }
   ],
   "source": [
    "train.isnull().sum()"
   ]
  },
  {
   "cell_type": "markdown",
   "metadata": {
    "colab_type": "text",
    "id": "Fg_xWXO14ihG"
   },
   "source": [
    "#### 4-B) Look at the data in the `Cabin` column to see if the unique values show any useful grouping of data"
   ]
  },
  {
   "cell_type": "code",
   "execution_count": 38,
   "metadata": {
    "colab": {},
    "colab_type": "code",
    "id": "HxeaUK2J0C45"
   },
   "outputs": [
    {
     "data": {
      "text/plain": [
       "G6             4\n",
       "C23 C25 C27    4\n",
       "B96 B98        4\n",
       "C22 C26        3\n",
       "E101           3\n",
       "              ..\n",
       "T              1\n",
       "E49            1\n",
       "B39            1\n",
       "A31            1\n",
       "E40            1\n",
       "Name: Cabin, Length: 147, dtype: int64"
      ]
     },
     "execution_count": 38,
     "metadata": {},
     "output_type": "execute_result"
    }
   ],
   "source": [
    "train['Cabin'].value_counts()"
   ]
  },
  {
   "cell_type": "markdown",
   "metadata": {
    "colab_type": "text",
    "id": "KuNIZsyl4uKc"
   },
   "source": [
    "#### 4-C) Nothing useful so drop the `Cabin` column from the train Dataset"
   ]
  },
  {
   "cell_type": "code",
   "execution_count": 39,
   "metadata": {
    "colab": {},
    "colab_type": "code",
    "id": "22vtPDfe0RNk"
   },
   "outputs": [],
   "source": [
    "# This code for deck column creation comes from Niklas Dongas' Medium article at \n",
    "# https://towardsdatascience.com/predicting-the-survival-of-titanic-passengers-30870ccc7e8\n",
    "\n",
    "\n",
    "import re\n",
    "deck = {\"A\": 1, \"B\": 2, \"C\": 3, \"D\": 4, \"E\": 5, \"F\": 6, \"G\": 7, \"U\": 8}\n",
    "data = [train, challenge]\n",
    "\n",
    "for dataset in data:\n",
    "    dataset['Cabin'] = dataset['Cabin'].fillna(\"U0\")\n",
    "    dataset['Deck'] = dataset['Cabin'].map(lambda x: re.compile(\"([a-zA-Z]+)\").search(x).group())\n",
    "    dataset['Deck'] = dataset['Deck'].map(deck)\n",
    "    dataset['Deck'] = dataset['Deck'].fillna(0)\n",
    "    dataset['Deck'] = dataset['Deck'].astype(int)\n",
    "# we can now drop the cabin feature\n",
    "train = train.drop(['Cabin'], axis=1)\n",
    "challenge = challenge.drop(['Cabin'], axis=1)"
   ]
  },
  {
   "cell_type": "code",
   "execution_count": 40,
   "metadata": {},
   "outputs": [
    {
     "data": {
      "text/html": [
       "<div>\n",
       "<style scoped>\n",
       "    .dataframe tbody tr th:only-of-type {\n",
       "        vertical-align: middle;\n",
       "    }\n",
       "\n",
       "    .dataframe tbody tr th {\n",
       "        vertical-align: top;\n",
       "    }\n",
       "\n",
       "    .dataframe thead th {\n",
       "        text-align: right;\n",
       "    }\n",
       "</style>\n",
       "<table border=\"1\" class=\"dataframe\">\n",
       "  <thead>\n",
       "    <tr style=\"text-align: right;\">\n",
       "      <th></th>\n",
       "      <th>Survived</th>\n",
       "      <th>Pclass</th>\n",
       "      <th>Name</th>\n",
       "      <th>Sex</th>\n",
       "      <th>Age</th>\n",
       "      <th>SibSp</th>\n",
       "      <th>Parch</th>\n",
       "      <th>Ticket</th>\n",
       "      <th>Fare</th>\n",
       "      <th>Embarked</th>\n",
       "      <th>Deck</th>\n",
       "    </tr>\n",
       "    <tr>\n",
       "      <th>PassengerId</th>\n",
       "      <th></th>\n",
       "      <th></th>\n",
       "      <th></th>\n",
       "      <th></th>\n",
       "      <th></th>\n",
       "      <th></th>\n",
       "      <th></th>\n",
       "      <th></th>\n",
       "      <th></th>\n",
       "      <th></th>\n",
       "      <th></th>\n",
       "    </tr>\n",
       "  </thead>\n",
       "  <tbody>\n",
       "    <tr>\n",
       "      <th>1</th>\n",
       "      <td>0</td>\n",
       "      <td>3</td>\n",
       "      <td>Braund, Mr. Owen Harris</td>\n",
       "      <td>male</td>\n",
       "      <td>22.0</td>\n",
       "      <td>1</td>\n",
       "      <td>0</td>\n",
       "      <td>A/5 21171</td>\n",
       "      <td>7.2500</td>\n",
       "      <td>S</td>\n",
       "      <td>8</td>\n",
       "    </tr>\n",
       "    <tr>\n",
       "      <th>2</th>\n",
       "      <td>1</td>\n",
       "      <td>1</td>\n",
       "      <td>Cumings, Mrs. John Bradley (Florence Briggs Th...</td>\n",
       "      <td>female</td>\n",
       "      <td>38.0</td>\n",
       "      <td>1</td>\n",
       "      <td>0</td>\n",
       "      <td>PC 17599</td>\n",
       "      <td>71.2833</td>\n",
       "      <td>C</td>\n",
       "      <td>3</td>\n",
       "    </tr>\n",
       "    <tr>\n",
       "      <th>3</th>\n",
       "      <td>1</td>\n",
       "      <td>3</td>\n",
       "      <td>Heikkinen, Miss. Laina</td>\n",
       "      <td>female</td>\n",
       "      <td>26.0</td>\n",
       "      <td>0</td>\n",
       "      <td>0</td>\n",
       "      <td>STON/O2. 3101282</td>\n",
       "      <td>7.9250</td>\n",
       "      <td>S</td>\n",
       "      <td>8</td>\n",
       "    </tr>\n",
       "    <tr>\n",
       "      <th>4</th>\n",
       "      <td>1</td>\n",
       "      <td>1</td>\n",
       "      <td>Futrelle, Mrs. Jacques Heath (Lily May Peel)</td>\n",
       "      <td>female</td>\n",
       "      <td>35.0</td>\n",
       "      <td>1</td>\n",
       "      <td>0</td>\n",
       "      <td>113803</td>\n",
       "      <td>53.1000</td>\n",
       "      <td>S</td>\n",
       "      <td>3</td>\n",
       "    </tr>\n",
       "    <tr>\n",
       "      <th>5</th>\n",
       "      <td>0</td>\n",
       "      <td>3</td>\n",
       "      <td>Allen, Mr. William Henry</td>\n",
       "      <td>male</td>\n",
       "      <td>35.0</td>\n",
       "      <td>0</td>\n",
       "      <td>0</td>\n",
       "      <td>373450</td>\n",
       "      <td>8.0500</td>\n",
       "      <td>S</td>\n",
       "      <td>8</td>\n",
       "    </tr>\n",
       "  </tbody>\n",
       "</table>\n",
       "</div>"
      ],
      "text/plain": [
       "             Survived  Pclass  \\\n",
       "PassengerId                     \n",
       "1                   0       3   \n",
       "2                   1       1   \n",
       "3                   1       3   \n",
       "4                   1       1   \n",
       "5                   0       3   \n",
       "\n",
       "                                                          Name     Sex   Age  \\\n",
       "PassengerId                                                                    \n",
       "1                                      Braund, Mr. Owen Harris    male  22.0   \n",
       "2            Cumings, Mrs. John Bradley (Florence Briggs Th...  female  38.0   \n",
       "3                                       Heikkinen, Miss. Laina  female  26.0   \n",
       "4                 Futrelle, Mrs. Jacques Heath (Lily May Peel)  female  35.0   \n",
       "5                                     Allen, Mr. William Henry    male  35.0   \n",
       "\n",
       "             SibSp  Parch            Ticket     Fare Embarked  Deck  \n",
       "PassengerId                                                          \n",
       "1                1      0         A/5 21171   7.2500        S     8  \n",
       "2                1      0          PC 17599  71.2833        C     3  \n",
       "3                0      0  STON/O2. 3101282   7.9250        S     8  \n",
       "4                1      0            113803  53.1000        S     3  \n",
       "5                0      0            373450   8.0500        S     8  "
      ]
     },
     "execution_count": 40,
     "metadata": {},
     "output_type": "execute_result"
    }
   ],
   "source": [
    "train.head()"
   ]
  },
  {
   "cell_type": "code",
   "execution_count": 41,
   "metadata": {},
   "outputs": [
    {
     "data": {
      "text/html": [
       "<div>\n",
       "<style scoped>\n",
       "    .dataframe tbody tr th:only-of-type {\n",
       "        vertical-align: middle;\n",
       "    }\n",
       "\n",
       "    .dataframe tbody tr th {\n",
       "        vertical-align: top;\n",
       "    }\n",
       "\n",
       "    .dataframe thead th {\n",
       "        text-align: right;\n",
       "    }\n",
       "</style>\n",
       "<table border=\"1\" class=\"dataframe\">\n",
       "  <thead>\n",
       "    <tr style=\"text-align: right;\">\n",
       "      <th></th>\n",
       "      <th>Pclass</th>\n",
       "      <th>Name</th>\n",
       "      <th>Sex</th>\n",
       "      <th>Age</th>\n",
       "      <th>SibSp</th>\n",
       "      <th>Parch</th>\n",
       "      <th>Ticket</th>\n",
       "      <th>Fare</th>\n",
       "      <th>Embarked</th>\n",
       "      <th>Deck</th>\n",
       "    </tr>\n",
       "    <tr>\n",
       "      <th>PassengerId</th>\n",
       "      <th></th>\n",
       "      <th></th>\n",
       "      <th></th>\n",
       "      <th></th>\n",
       "      <th></th>\n",
       "      <th></th>\n",
       "      <th></th>\n",
       "      <th></th>\n",
       "      <th></th>\n",
       "      <th></th>\n",
       "    </tr>\n",
       "  </thead>\n",
       "  <tbody>\n",
       "    <tr>\n",
       "      <th>892</th>\n",
       "      <td>3</td>\n",
       "      <td>Kelly, Mr. James</td>\n",
       "      <td>male</td>\n",
       "      <td>34.5</td>\n",
       "      <td>0</td>\n",
       "      <td>0</td>\n",
       "      <td>330911</td>\n",
       "      <td>7.8292</td>\n",
       "      <td>Q</td>\n",
       "      <td>8</td>\n",
       "    </tr>\n",
       "    <tr>\n",
       "      <th>893</th>\n",
       "      <td>3</td>\n",
       "      <td>Wilkes, Mrs. James (Ellen Needs)</td>\n",
       "      <td>female</td>\n",
       "      <td>47.0</td>\n",
       "      <td>1</td>\n",
       "      <td>0</td>\n",
       "      <td>363272</td>\n",
       "      <td>7.0000</td>\n",
       "      <td>S</td>\n",
       "      <td>8</td>\n",
       "    </tr>\n",
       "    <tr>\n",
       "      <th>894</th>\n",
       "      <td>2</td>\n",
       "      <td>Myles, Mr. Thomas Francis</td>\n",
       "      <td>male</td>\n",
       "      <td>62.0</td>\n",
       "      <td>0</td>\n",
       "      <td>0</td>\n",
       "      <td>240276</td>\n",
       "      <td>9.6875</td>\n",
       "      <td>Q</td>\n",
       "      <td>8</td>\n",
       "    </tr>\n",
       "    <tr>\n",
       "      <th>895</th>\n",
       "      <td>3</td>\n",
       "      <td>Wirz, Mr. Albert</td>\n",
       "      <td>male</td>\n",
       "      <td>27.0</td>\n",
       "      <td>0</td>\n",
       "      <td>0</td>\n",
       "      <td>315154</td>\n",
       "      <td>8.6625</td>\n",
       "      <td>S</td>\n",
       "      <td>8</td>\n",
       "    </tr>\n",
       "    <tr>\n",
       "      <th>896</th>\n",
       "      <td>3</td>\n",
       "      <td>Hirvonen, Mrs. Alexander (Helga E Lindqvist)</td>\n",
       "      <td>female</td>\n",
       "      <td>22.0</td>\n",
       "      <td>1</td>\n",
       "      <td>1</td>\n",
       "      <td>3101298</td>\n",
       "      <td>12.2875</td>\n",
       "      <td>S</td>\n",
       "      <td>8</td>\n",
       "    </tr>\n",
       "  </tbody>\n",
       "</table>\n",
       "</div>"
      ],
      "text/plain": [
       "             Pclass                                          Name     Sex  \\\n",
       "PassengerId                                                                 \n",
       "892               3                              Kelly, Mr. James    male   \n",
       "893               3              Wilkes, Mrs. James (Ellen Needs)  female   \n",
       "894               2                     Myles, Mr. Thomas Francis    male   \n",
       "895               3                              Wirz, Mr. Albert    male   \n",
       "896               3  Hirvonen, Mrs. Alexander (Helga E Lindqvist)  female   \n",
       "\n",
       "              Age  SibSp  Parch   Ticket     Fare Embarked  Deck  \n",
       "PassengerId                                                       \n",
       "892          34.5      0      0   330911   7.8292        Q     8  \n",
       "893          47.0      1      0   363272   7.0000        S     8  \n",
       "894          62.0      0      0   240276   9.6875        Q     8  \n",
       "895          27.0      0      0   315154   8.6625        S     8  \n",
       "896          22.0      1      1  3101298  12.2875        S     8  "
      ]
     },
     "execution_count": 41,
     "metadata": {},
     "output_type": "execute_result"
    }
   ],
   "source": [
    "challenge.head()"
   ]
  },
  {
   "cell_type": "code",
   "execution_count": 42,
   "metadata": {},
   "outputs": [
    {
     "data": {
      "text/plain": [
       "Text(0.0, 1.0, 'Titanic Survival by Deck')"
      ]
     },
     "execution_count": 42,
     "metadata": {},
     "output_type": "execute_result"
    },
    {
     "data": {
      "image/png": "[encoded data removed]",
      "text/plain": [
       "<Figure size 720x432 with 1 Axes>"
      ]
     },
     "metadata": {},
     "output_type": "display_data"
    }
   ],
   "source": [
    "f, ax = plt.subplots(figsize=(10,6))\n",
    "chart = sns.countplot(x='Survived', hue='Deck', data=train)\n",
    "ax.set_xticklabels(labels)\n",
    "ax.set_xlabel('')\n",
    "ax.set_title(\"Titanic Survival by Deck\", loc='left', fontdict={'fontsize':'20'})"
   ]
  },
  {
   "cell_type": "markdown",
   "metadata": {},
   "source": [
    "I'm not entirely sure if it helps, but it does appear to provide some insight, esp for passengers on decks 2-5."
   ]
  },
  {
   "cell_type": "markdown",
   "metadata": {
    "colab_type": "text",
    "id": "bb5Gzs_J43Pj"
   },
   "source": [
    "#### 4-D) Recall that `Embarked` only has 2 records with missing data.  Drop those 2 rows from the `train` dataset and run a new .info() to make sure it is properly reflected on the `train` dataset."
   ]
  },
  {
   "cell_type": "code",
   "execution_count": 43,
   "metadata": {},
   "outputs": [
    {
     "data": {
      "text/plain": [
       "S      644\n",
       "C      168\n",
       "Q       77\n",
       "NaN      2\n",
       "Name: Embarked, dtype: int64"
      ]
     },
     "execution_count": 43,
     "metadata": {},
     "output_type": "execute_result"
    }
   ],
   "source": [
    "train['Embarked'].value_counts(dropna=False)"
   ]
  },
  {
   "cell_type": "code",
   "execution_count": 44,
   "metadata": {
    "colab": {},
    "colab_type": "code",
    "id": "CjSRh9O90wR5"
   },
   "outputs": [
    {
     "data": {
      "text/plain": [
       "S    644\n",
       "C    168\n",
       "Q     77\n",
       "Name: Embarked, dtype: int64"
      ]
     },
     "execution_count": 44,
     "metadata": {},
     "output_type": "execute_result"
    }
   ],
   "source": [
    "train = train.dropna(subset=['Embarked'])\n",
    "train['Embarked'].value_counts(dropna=False)"
   ]
  },
  {
   "cell_type": "code",
   "execution_count": 45,
   "metadata": {
    "colab": {},
    "colab_type": "code",
    "id": "PNKpeOfP14JK"
   },
   "outputs": [
    {
     "name": "stdout",
     "output_type": "stream",
     "text": [
      "<class 'pandas.core.frame.DataFrame'>\n",
      "Int64Index: 889 entries, 1 to 891\n",
      "Data columns (total 11 columns):\n",
      " #   Column    Non-Null Count  Dtype  \n",
      "---  ------    --------------  -----  \n",
      " 0   Survived  889 non-null    int64  \n",
      " 1   Pclass    889 non-null    int64  \n",
      " 2   Name      889 non-null    object \n",
      " 3   Sex       889 non-null    object \n",
      " 4   Age       712 non-null    float64\n",
      " 5   SibSp     889 non-null    int64  \n",
      " 6   Parch     889 non-null    int64  \n",
      " 7   Ticket    889 non-null    object \n",
      " 8   Fare      889 non-null    float64\n",
      " 9   Embarked  889 non-null    object \n",
      " 10  Deck      889 non-null    int64  \n",
      "dtypes: float64(2), int64(5), object(4)\n",
      "memory usage: 83.3+ KB\n"
     ]
    }
   ],
   "source": [
    "train.info()"
   ]
  },
  {
   "cell_type": "markdown",
   "metadata": {
    "colab_type": "text",
    "id": "KwJss1Ks2Mh-"
   },
   "source": [
    "Now all that's left is the Age column.  If this is your first time doing this project, simply fill in the blanks with the average age of all passengers.  In a future run, are there any other ways you can fill in the average age for the passengers? (hint: look at the visualizaions above)"
   ]
  },
  {
   "cell_type": "markdown",
   "metadata": {
    "colab_type": "text",
    "id": "keae7Zev5M4x"
   },
   "source": [
    "#### 4-E) Calculate the average `Age` of the `combined` dataset"
   ]
  },
  {
   "cell_type": "code",
   "execution_count": 46,
   "metadata": {
    "colab": {},
    "colab_type": "code",
    "id": "hFPqwPZa2_xh"
   },
   "outputs": [
    {
     "data": {
      "text/html": [
       "<div>\n",
       "<style scoped>\n",
       "    .dataframe tbody tr th:only-of-type {\n",
       "        vertical-align: middle;\n",
       "    }\n",
       "\n",
       "    .dataframe tbody tr th {\n",
       "        vertical-align: top;\n",
       "    }\n",
       "\n",
       "    .dataframe thead th {\n",
       "        text-align: right;\n",
       "    }\n",
       "</style>\n",
       "<table border=\"1\" class=\"dataframe\">\n",
       "  <thead>\n",
       "    <tr style=\"text-align: right;\">\n",
       "      <th></th>\n",
       "      <th>Survived</th>\n",
       "      <th>Age</th>\n",
       "      <th>SibSp</th>\n",
       "      <th>Parch</th>\n",
       "      <th>Fare</th>\n",
       "    </tr>\n",
       "    <tr>\n",
       "      <th>Pclass</th>\n",
       "      <th></th>\n",
       "      <th></th>\n",
       "      <th></th>\n",
       "      <th></th>\n",
       "      <th></th>\n",
       "    </tr>\n",
       "  </thead>\n",
       "  <tbody>\n",
       "    <tr>\n",
       "      <th>1</th>\n",
       "      <td>0.629630</td>\n",
       "      <td>39.159930</td>\n",
       "      <td>0.436533</td>\n",
       "      <td>0.365325</td>\n",
       "      <td>87.508992</td>\n",
       "    </tr>\n",
       "    <tr>\n",
       "      <th>2</th>\n",
       "      <td>0.472826</td>\n",
       "      <td>29.506705</td>\n",
       "      <td>0.393502</td>\n",
       "      <td>0.368231</td>\n",
       "      <td>21.179196</td>\n",
       "    </tr>\n",
       "    <tr>\n",
       "      <th>3</th>\n",
       "      <td>0.242363</td>\n",
       "      <td>24.816367</td>\n",
       "      <td>0.568406</td>\n",
       "      <td>0.400564</td>\n",
       "      <td>13.302889</td>\n",
       "    </tr>\n",
       "  </tbody>\n",
       "</table>\n",
       "</div>"
      ],
      "text/plain": [
       "        Survived        Age     SibSp     Parch       Fare\n",
       "Pclass                                                    \n",
       "1       0.629630  39.159930  0.436533  0.365325  87.508992\n",
       "2       0.472826  29.506705  0.393502  0.368231  21.179196\n",
       "3       0.242363  24.816367  0.568406  0.400564  13.302889"
      ]
     },
     "execution_count": 46,
     "metadata": {},
     "output_type": "execute_result"
    }
   ],
   "source": [
    "combined_gb_pclass = combined.groupby('Pclass').mean()\n",
    "combined_gb_pclass"
   ]
  },
  {
   "cell_type": "markdown",
   "metadata": {
    "colab_type": "text",
    "id": "xQhuWHkS5Vab"
   },
   "source": [
    "#### 4-F) Use this average age to fill in any `NaN` values in the `train` dataset"
   ]
  },
  {
   "cell_type": "code",
   "execution_count": 47,
   "metadata": {},
   "outputs": [],
   "source": [
    "#train df\n",
    "pclass1 = train[train['Pclass']==1].copy()\n",
    "pclass2 = train[train['Pclass']==2].copy()\n",
    "pclass3 = train[train['Pclass']==3].copy()\n",
    "\n",
    "#challenge df\n",
    "pclass1_c = challenge[challenge['Pclass']==1].copy()\n",
    "pclass2_c = challenge[challenge['Pclass']==2].copy()\n",
    "pclass3_c = challenge[challenge['Pclass']==3].copy()"
   ]
  },
  {
   "cell_type": "code",
   "execution_count": 48,
   "metadata": {},
   "outputs": [],
   "source": [
    "#train df\n",
    "pclass1['Age_corrected'] = pclass1['Age'].replace(np.NaN, 39)\n",
    "pclass2['Age_corrected'] = pclass2['Age'].replace(np.NaN, 30)\n",
    "pclass3['Age_corrected'] = pclass3['Age'].replace(np.NaN, 25)\n",
    "\n",
    "#challenge df\n",
    "pclass1_c['Age_corrected'] = pclass1_c['Age'].replace(np.NaN, 39)\n",
    "pclass2_c['Age_corrected'] = pclass2_c['Age'].replace(np.NaN, 30)\n",
    "pclass3_c['Age_corrected'] = pclass3_c['Age'].replace(np.NaN, 25)"
   ]
  },
  {
   "cell_type": "code",
   "execution_count": 49,
   "metadata": {},
   "outputs": [
    {
     "data": {
      "text/html": [
       "<div>\n",
       "<style scoped>\n",
       "    .dataframe tbody tr th:only-of-type {\n",
       "        vertical-align: middle;\n",
       "    }\n",
       "\n",
       "    .dataframe tbody tr th {\n",
       "        vertical-align: top;\n",
       "    }\n",
       "\n",
       "    .dataframe thead th {\n",
       "        text-align: right;\n",
       "    }\n",
       "</style>\n",
       "<table border=\"1\" class=\"dataframe\">\n",
       "  <thead>\n",
       "    <tr style=\"text-align: right;\">\n",
       "      <th></th>\n",
       "      <th>Pclass</th>\n",
       "      <th>Name</th>\n",
       "      <th>Sex</th>\n",
       "      <th>Age</th>\n",
       "      <th>SibSp</th>\n",
       "      <th>Parch</th>\n",
       "      <th>Ticket</th>\n",
       "      <th>Fare</th>\n",
       "      <th>Embarked</th>\n",
       "      <th>Deck</th>\n",
       "      <th>Age_corrected</th>\n",
       "    </tr>\n",
       "    <tr>\n",
       "      <th>PassengerId</th>\n",
       "      <th></th>\n",
       "      <th></th>\n",
       "      <th></th>\n",
       "      <th></th>\n",
       "      <th></th>\n",
       "      <th></th>\n",
       "      <th></th>\n",
       "      <th></th>\n",
       "      <th></th>\n",
       "      <th></th>\n",
       "      <th></th>\n",
       "    </tr>\n",
       "  </thead>\n",
       "  <tbody>\n",
       "    <tr>\n",
       "      <th>892</th>\n",
       "      <td>3</td>\n",
       "      <td>Kelly, Mr. James</td>\n",
       "      <td>male</td>\n",
       "      <td>34.5</td>\n",
       "      <td>0</td>\n",
       "      <td>0</td>\n",
       "      <td>330911</td>\n",
       "      <td>7.8292</td>\n",
       "      <td>Q</td>\n",
       "      <td>8</td>\n",
       "      <td>34.5</td>\n",
       "    </tr>\n",
       "    <tr>\n",
       "      <th>893</th>\n",
       "      <td>3</td>\n",
       "      <td>Wilkes, Mrs. James (Ellen Needs)</td>\n",
       "      <td>female</td>\n",
       "      <td>47.0</td>\n",
       "      <td>1</td>\n",
       "      <td>0</td>\n",
       "      <td>363272</td>\n",
       "      <td>7.0000</td>\n",
       "      <td>S</td>\n",
       "      <td>8</td>\n",
       "      <td>47.0</td>\n",
       "    </tr>\n",
       "    <tr>\n",
       "      <th>894</th>\n",
       "      <td>2</td>\n",
       "      <td>Myles, Mr. Thomas Francis</td>\n",
       "      <td>male</td>\n",
       "      <td>62.0</td>\n",
       "      <td>0</td>\n",
       "      <td>0</td>\n",
       "      <td>240276</td>\n",
       "      <td>9.6875</td>\n",
       "      <td>Q</td>\n",
       "      <td>8</td>\n",
       "      <td>62.0</td>\n",
       "    </tr>\n",
       "    <tr>\n",
       "      <th>895</th>\n",
       "      <td>3</td>\n",
       "      <td>Wirz, Mr. Albert</td>\n",
       "      <td>male</td>\n",
       "      <td>27.0</td>\n",
       "      <td>0</td>\n",
       "      <td>0</td>\n",
       "      <td>315154</td>\n",
       "      <td>8.6625</td>\n",
       "      <td>S</td>\n",
       "      <td>8</td>\n",
       "      <td>27.0</td>\n",
       "    </tr>\n",
       "    <tr>\n",
       "      <th>896</th>\n",
       "      <td>3</td>\n",
       "      <td>Hirvonen, Mrs. Alexander (Helga E Lindqvist)</td>\n",
       "      <td>female</td>\n",
       "      <td>22.0</td>\n",
       "      <td>1</td>\n",
       "      <td>1</td>\n",
       "      <td>3101298</td>\n",
       "      <td>12.2875</td>\n",
       "      <td>S</td>\n",
       "      <td>8</td>\n",
       "      <td>22.0</td>\n",
       "    </tr>\n",
       "    <tr>\n",
       "      <th>...</th>\n",
       "      <td>...</td>\n",
       "      <td>...</td>\n",
       "      <td>...</td>\n",
       "      <td>...</td>\n",
       "      <td>...</td>\n",
       "      <td>...</td>\n",
       "      <td>...</td>\n",
       "      <td>...</td>\n",
       "      <td>...</td>\n",
       "      <td>...</td>\n",
       "      <td>...</td>\n",
       "    </tr>\n",
       "    <tr>\n",
       "      <th>1305</th>\n",
       "      <td>3</td>\n",
       "      <td>Spector, Mr. Woolf</td>\n",
       "      <td>male</td>\n",
       "      <td>NaN</td>\n",
       "      <td>0</td>\n",
       "      <td>0</td>\n",
       "      <td>A.5. 3236</td>\n",
       "      <td>8.0500</td>\n",
       "      <td>S</td>\n",
       "      <td>8</td>\n",
       "      <td>25.0</td>\n",
       "    </tr>\n",
       "    <tr>\n",
       "      <th>1306</th>\n",
       "      <td>1</td>\n",
       "      <td>Oliva y Ocana, Dona. Fermina</td>\n",
       "      <td>female</td>\n",
       "      <td>39.0</td>\n",
       "      <td>0</td>\n",
       "      <td>0</td>\n",
       "      <td>PC 17758</td>\n",
       "      <td>108.9000</td>\n",
       "      <td>C</td>\n",
       "      <td>3</td>\n",
       "      <td>39.0</td>\n",
       "    </tr>\n",
       "    <tr>\n",
       "      <th>1307</th>\n",
       "      <td>3</td>\n",
       "      <td>Saether, Mr. Simon Sivertsen</td>\n",
       "      <td>male</td>\n",
       "      <td>38.5</td>\n",
       "      <td>0</td>\n",
       "      <td>0</td>\n",
       "      <td>SOTON/O.Q. 3101262</td>\n",
       "      <td>7.2500</td>\n",
       "      <td>S</td>\n",
       "      <td>8</td>\n",
       "      <td>38.5</td>\n",
       "    </tr>\n",
       "    <tr>\n",
       "      <th>1308</th>\n",
       "      <td>3</td>\n",
       "      <td>Ware, Mr. Frederick</td>\n",
       "      <td>male</td>\n",
       "      <td>NaN</td>\n",
       "      <td>0</td>\n",
       "      <td>0</td>\n",
       "      <td>359309</td>\n",
       "      <td>8.0500</td>\n",
       "      <td>S</td>\n",
       "      <td>8</td>\n",
       "      <td>25.0</td>\n",
       "    </tr>\n",
       "    <tr>\n",
       "      <th>1309</th>\n",
       "      <td>3</td>\n",
       "      <td>Peter, Master. Michael J</td>\n",
       "      <td>male</td>\n",
       "      <td>NaN</td>\n",
       "      <td>1</td>\n",
       "      <td>1</td>\n",
       "      <td>2668</td>\n",
       "      <td>22.3583</td>\n",
       "      <td>C</td>\n",
       "      <td>8</td>\n",
       "      <td>25.0</td>\n",
       "    </tr>\n",
       "  </tbody>\n",
       "</table>\n",
       "<p>418 rows × 11 columns</p>\n",
       "</div>"
      ],
      "text/plain": [
       "             Pclass                                          Name     Sex  \\\n",
       "PassengerId                                                                 \n",
       "892               3                              Kelly, Mr. James    male   \n",
       "893               3              Wilkes, Mrs. James (Ellen Needs)  female   \n",
       "894               2                     Myles, Mr. Thomas Francis    male   \n",
       "895               3                              Wirz, Mr. Albert    male   \n",
       "896               3  Hirvonen, Mrs. Alexander (Helga E Lindqvist)  female   \n",
       "...             ...                                           ...     ...   \n",
       "1305              3                            Spector, Mr. Woolf    male   \n",
       "1306              1                  Oliva y Ocana, Dona. Fermina  female   \n",
       "1307              3                  Saether, Mr. Simon Sivertsen    male   \n",
       "1308              3                           Ware, Mr. Frederick    male   \n",
       "1309              3                      Peter, Master. Michael J    male   \n",
       "\n",
       "              Age  SibSp  Parch              Ticket      Fare Embarked  Deck  \\\n",
       "PassengerId                                                                    \n",
       "892          34.5      0      0              330911    7.8292        Q     8   \n",
       "893          47.0      1      0              363272    7.0000        S     8   \n",
       "894          62.0      0      0              240276    9.6875        Q     8   \n",
       "895          27.0      0      0              315154    8.6625        S     8   \n",
       "896          22.0      1      1             3101298   12.2875        S     8   \n",
       "...           ...    ...    ...                 ...       ...      ...   ...   \n",
       "1305          NaN      0      0           A.5. 3236    8.0500        S     8   \n",
       "1306         39.0      0      0            PC 17758  108.9000        C     3   \n",
       "1307         38.5      0      0  SOTON/O.Q. 3101262    7.2500        S     8   \n",
       "1308          NaN      0      0              359309    8.0500        S     8   \n",
       "1309          NaN      1      1                2668   22.3583        C     8   \n",
       "\n",
       "             Age_corrected  \n",
       "PassengerId                 \n",
       "892                   34.5  \n",
       "893                   47.0  \n",
       "894                   62.0  \n",
       "895                   27.0  \n",
       "896                   22.0  \n",
       "...                    ...  \n",
       "1305                  25.0  \n",
       "1306                  39.0  \n",
       "1307                  38.5  \n",
       "1308                  25.0  \n",
       "1309                  25.0  \n",
       "\n",
       "[418 rows x 11 columns]"
      ]
     },
     "execution_count": 49,
     "metadata": {},
     "output_type": "execute_result"
    }
   ],
   "source": [
    "#train df\n",
    "pclass_all = pd.concat([pclass1, pclass2, pclass3])\n",
    "pclass_all.sort_index()\n",
    "\n",
    "#challenge df\n",
    "pclass_all_c = pd.concat([pclass1_c, pclass2_c, pclass3_c])\n",
    "pclass_all_c.sort_index()"
   ]
  },
  {
   "cell_type": "code",
   "execution_count": 50,
   "metadata": {},
   "outputs": [],
   "source": [
    "train['Age'] = pclass_all['Age_corrected'].copy()\n",
    "challenge['Age'] = pclass_all_c['Age_corrected'].copy()"
   ]
  },
  {
   "cell_type": "code",
   "execution_count": 51,
   "metadata": {},
   "outputs": [
    {
     "data": {
      "text/html": [
       "<div>\n",
       "<style scoped>\n",
       "    .dataframe tbody tr th:only-of-type {\n",
       "        vertical-align: middle;\n",
       "    }\n",
       "\n",
       "    .dataframe tbody tr th {\n",
       "        vertical-align: top;\n",
       "    }\n",
       "\n",
       "    .dataframe thead th {\n",
       "        text-align: right;\n",
       "    }\n",
       "</style>\n",
       "<table border=\"1\" class=\"dataframe\">\n",
       "  <thead>\n",
       "    <tr style=\"text-align: right;\">\n",
       "      <th></th>\n",
       "      <th>Survived</th>\n",
       "      <th>Pclass</th>\n",
       "      <th>Name</th>\n",
       "      <th>Sex</th>\n",
       "      <th>Age</th>\n",
       "      <th>SibSp</th>\n",
       "      <th>Parch</th>\n",
       "      <th>Ticket</th>\n",
       "      <th>Fare</th>\n",
       "      <th>Embarked</th>\n",
       "      <th>Deck</th>\n",
       "    </tr>\n",
       "    <tr>\n",
       "      <th>PassengerId</th>\n",
       "      <th></th>\n",
       "      <th></th>\n",
       "      <th></th>\n",
       "      <th></th>\n",
       "      <th></th>\n",
       "      <th></th>\n",
       "      <th></th>\n",
       "      <th></th>\n",
       "      <th></th>\n",
       "      <th></th>\n",
       "      <th></th>\n",
       "    </tr>\n",
       "  </thead>\n",
       "  <tbody>\n",
       "    <tr>\n",
       "      <th>1</th>\n",
       "      <td>0</td>\n",
       "      <td>3</td>\n",
       "      <td>Braund, Mr. Owen Harris</td>\n",
       "      <td>male</td>\n",
       "      <td>22.0</td>\n",
       "      <td>1</td>\n",
       "      <td>0</td>\n",
       "      <td>A/5 21171</td>\n",
       "      <td>7.2500</td>\n",
       "      <td>S</td>\n",
       "      <td>8</td>\n",
       "    </tr>\n",
       "    <tr>\n",
       "      <th>2</th>\n",
       "      <td>1</td>\n",
       "      <td>1</td>\n",
       "      <td>Cumings, Mrs. John Bradley (Florence Briggs Th...</td>\n",
       "      <td>female</td>\n",
       "      <td>38.0</td>\n",
       "      <td>1</td>\n",
       "      <td>0</td>\n",
       "      <td>PC 17599</td>\n",
       "      <td>71.2833</td>\n",
       "      <td>C</td>\n",
       "      <td>3</td>\n",
       "    </tr>\n",
       "    <tr>\n",
       "      <th>3</th>\n",
       "      <td>1</td>\n",
       "      <td>3</td>\n",
       "      <td>Heikkinen, Miss. Laina</td>\n",
       "      <td>female</td>\n",
       "      <td>26.0</td>\n",
       "      <td>0</td>\n",
       "      <td>0</td>\n",
       "      <td>STON/O2. 3101282</td>\n",
       "      <td>7.9250</td>\n",
       "      <td>S</td>\n",
       "      <td>8</td>\n",
       "    </tr>\n",
       "    <tr>\n",
       "      <th>4</th>\n",
       "      <td>1</td>\n",
       "      <td>1</td>\n",
       "      <td>Futrelle, Mrs. Jacques Heath (Lily May Peel)</td>\n",
       "      <td>female</td>\n",
       "      <td>35.0</td>\n",
       "      <td>1</td>\n",
       "      <td>0</td>\n",
       "      <td>113803</td>\n",
       "      <td>53.1000</td>\n",
       "      <td>S</td>\n",
       "      <td>3</td>\n",
       "    </tr>\n",
       "    <tr>\n",
       "      <th>5</th>\n",
       "      <td>0</td>\n",
       "      <td>3</td>\n",
       "      <td>Allen, Mr. William Henry</td>\n",
       "      <td>male</td>\n",
       "      <td>35.0</td>\n",
       "      <td>0</td>\n",
       "      <td>0</td>\n",
       "      <td>373450</td>\n",
       "      <td>8.0500</td>\n",
       "      <td>S</td>\n",
       "      <td>8</td>\n",
       "    </tr>\n",
       "  </tbody>\n",
       "</table>\n",
       "</div>"
      ],
      "text/plain": [
       "             Survived  Pclass  \\\n",
       "PassengerId                     \n",
       "1                   0       3   \n",
       "2                   1       1   \n",
       "3                   1       3   \n",
       "4                   1       1   \n",
       "5                   0       3   \n",
       "\n",
       "                                                          Name     Sex   Age  \\\n",
       "PassengerId                                                                    \n",
       "1                                      Braund, Mr. Owen Harris    male  22.0   \n",
       "2            Cumings, Mrs. John Bradley (Florence Briggs Th...  female  38.0   \n",
       "3                                       Heikkinen, Miss. Laina  female  26.0   \n",
       "4                 Futrelle, Mrs. Jacques Heath (Lily May Peel)  female  35.0   \n",
       "5                                     Allen, Mr. William Henry    male  35.0   \n",
       "\n",
       "             SibSp  Parch            Ticket     Fare Embarked  Deck  \n",
       "PassengerId                                                          \n",
       "1                1      0         A/5 21171   7.2500        S     8  \n",
       "2                1      0          PC 17599  71.2833        C     3  \n",
       "3                0      0  STON/O2. 3101282   7.9250        S     8  \n",
       "4                1      0            113803  53.1000        S     3  \n",
       "5                0      0            373450   8.0500        S     8  "
      ]
     },
     "execution_count": 51,
     "metadata": {},
     "output_type": "execute_result"
    }
   ],
   "source": [
    "#train = train.drop(columns='Age')\n",
    "#train = train.rename(columns = {'Age_corrected':'Age'})\n",
    "train.head()"
   ]
  },
  {
   "cell_type": "markdown",
   "metadata": {
    "colab_type": "text",
    "id": "L2rZMdKA5fcA"
   },
   "source": [
    "#### 4-G) That should take care of all the missing values.  Run a fresh .info() and ms.matrix() to ensure all missing values are handled."
   ]
  },
  {
   "cell_type": "code",
   "execution_count": 52,
   "metadata": {
    "colab": {},
    "colab_type": "code",
    "id": "GHaMo5Dp37T_"
   },
   "outputs": [
    {
     "name": "stdout",
     "output_type": "stream",
     "text": [
      "<class 'pandas.core.frame.DataFrame'>\n",
      "Int64Index: 889 entries, 1 to 891\n",
      "Data columns (total 11 columns):\n",
      " #   Column    Non-Null Count  Dtype  \n",
      "---  ------    --------------  -----  \n",
      " 0   Survived  889 non-null    int64  \n",
      " 1   Pclass    889 non-null    int64  \n",
      " 2   Name      889 non-null    object \n",
      " 3   Sex       889 non-null    object \n",
      " 4   Age       889 non-null    float64\n",
      " 5   SibSp     889 non-null    int64  \n",
      " 6   Parch     889 non-null    int64  \n",
      " 7   Ticket    889 non-null    object \n",
      " 8   Fare      889 non-null    float64\n",
      " 9   Embarked  889 non-null    object \n",
      " 10  Deck      889 non-null    int64  \n",
      "dtypes: float64(2), int64(5), object(4)\n",
      "memory usage: 83.3+ KB\n"
     ]
    }
   ],
   "source": [
    "train.info()"
   ]
  },
  {
   "cell_type": "code",
   "execution_count": 53,
   "metadata": {
    "colab": {},
    "colab_type": "code",
    "id": "ARNHDVEN4Iv4"
   },
   "outputs": [
    {
     "data": {
      "text/plain": [
       "<matplotlib.axes._subplots.AxesSubplot at 0x1a1d34d350>"
      ]
     },
     "execution_count": 53,
     "metadata": {},
     "output_type": "execute_result"
    },
    {
     "data": {
      "image/png": "[encoded data removed]",
      "text/plain": [
       "<Figure size 1800x720 with 2 Axes>"
      ]
     },
     "metadata": {},
     "output_type": "display_data"
    }
   ],
   "source": [
    "ms.matrix(train)"
   ]
  },
  {
   "cell_type": "markdown",
   "metadata": {
    "colab_type": "text",
    "id": "LYXk8AEN4G4u"
   },
   "source": [
    "Now all the missing data has been taken care of.  The next step is to get any data with a type of 'Object' (e.g. Text or Categorical data) to a numeric value in order for them to be properly utilized by the ML algorithm"
   ]
  },
  {
   "cell_type": "markdown",
   "metadata": {
    "colab_type": "text",
    "id": "oR-3amnaqGeO"
   },
   "source": [
    "## Converting Categorical Features \n",
    "\n",
    "We'll need to convert categorical features to numerical variables so that our ML algorithm can use those values as inputs.\n",
    "Current Non-numerical (object) data:\n",
    "- Name\n",
    "- Sex\n",
    "- Ticket\n",
    "- Embarked"
   ]
  },
  {
   "cell_type": "markdown",
   "metadata": {
    "colab_type": "text",
    "id": "HNa0T3bN7-Yw"
   },
   "source": [
    "### Name"
   ]
  },
  {
   "cell_type": "markdown",
   "metadata": {
    "colab_type": "text",
    "id": "vkoOwkPm7oNg"
   },
   "source": [
    "#### 4-H) Look at the count of unique values in Ticket to see if it has any data useful to predict survival"
   ]
  },
  {
   "cell_type": "code",
   "execution_count": 54,
   "metadata": {
    "colab": {},
    "colab_type": "code",
    "id": "ejB5xmBNE54J"
   },
   "outputs": [
    {
     "data": {
      "text/plain": [
       "Molson, Mr. Harry Markland                      1\n",
       "Rice, Master. Eric                              1\n",
       "Kalvik, Mr. Johannes Halvorsen                  1\n",
       "Collander, Mr. Erik Gustaf                      1\n",
       "Coleff, Mr. Satio                               1\n",
       "                                               ..\n",
       "Otter, Mr. Richard                              1\n",
       "Todoroff, Mr. Lalio                             1\n",
       "Vander Planke, Miss. Augusta Maria              1\n",
       "Duff Gordon, Sir. Cosmo Edmund (\"Mr Morgan\")    1\n",
       "Bowen, Mr. David John \"Dai\"                     1\n",
       "Name: Name, Length: 889, dtype: int64"
      ]
     },
     "execution_count": 54,
     "metadata": {},
     "output_type": "execute_result"
    }
   ],
   "source": [
    "train['Name'].value_counts()"
   ]
  },
  {
   "cell_type": "code",
   "execution_count": 55,
   "metadata": {},
   "outputs": [],
   "source": [
    "train = train.drop(columns='Name')\n",
    "challenge = challenge.drop(columns='Name')"
   ]
  },
  {
   "cell_type": "markdown",
   "metadata": {
    "colab_type": "text",
    "id": "9IZ_UVWaFBvD"
   },
   "source": [
    "#### 4-I) Nothing jumps out as useful here.  Drop it.  \n",
    "*For a future project, consider if any titles could be used in the future (Miss vs. Mrs., any nobility titles like Sir?)*"
   ]
  },
  {
   "cell_type": "markdown",
   "metadata": {
    "colab_type": "text",
    "id": "KN1gC3Ey8DzA"
   },
   "source": [
    "### Sex"
   ]
  },
  {
   "cell_type": "markdown",
   "metadata": {
    "colab_type": "text",
    "id": "R80aJZ4DLtSI"
   },
   "source": [
    "#### 4-J) Get the value counts for `Sex`"
   ]
  },
  {
   "cell_type": "code",
   "execution_count": 56,
   "metadata": {
    "colab": {},
    "colab_type": "code",
    "id": "0vtZYikmMgkS"
   },
   "outputs": [
    {
     "name": "stdout",
     "output_type": "stream",
     "text": [
      "male      577\n",
      "female    312\n",
      "Name: Sex, dtype: int64\n",
      "male      266\n",
      "female    152\n",
      "Name: Sex, dtype: int64\n"
     ]
    }
   ],
   "source": [
    "print(train['Sex'].value_counts())\n",
    "print(challenge['Sex'].value_counts())"
   ]
  },
  {
   "cell_type": "markdown",
   "metadata": {
    "colab_type": "text",
    "id": "hvkG-2sP7xDX"
   },
   "source": [
    "#### 4-K) Use Pandas `get_dummies` feature to convert sex of 'male' or 'female' into simplified male 0 or 1 (no or yes)\n"
   ]
  },
  {
   "cell_type": "code",
   "execution_count": 57,
   "metadata": {
    "colab": {},
    "colab_type": "code",
    "id": "sqpnF1tlvxfi"
   },
   "outputs": [
    {
     "name": "stdout",
     "output_type": "stream",
     "text": [
      "             female  male\n",
      "PassengerId              \n",
      "1                 0     1\n",
      "2                 1     0\n",
      "3                 1     0\n",
      "4                 1     0\n",
      "5                 0     1\n",
      "             female  male\n",
      "PassengerId              \n",
      "892               0     1\n",
      "893               1     0\n",
      "894               0     1\n",
      "895               0     1\n",
      "896               1     0\n"
     ]
    }
   ],
   "source": [
    "dummy_t = pd.get_dummies(train['Sex'])\n",
    "dummy_c = pd.get_dummies(challenge['Sex'])\n",
    "\n",
    "print(dummy_t.head())\n",
    "print(dummy_c.head())"
   ]
  },
  {
   "cell_type": "markdown",
   "metadata": {
    "colab_type": "text",
    "id": "3kRaKozQv2lA"
   },
   "source": [
    "#### 4-L) Since it can only be a 0 or a 1, we don't need both male and female columns in this case.  Let's isolate it to just the male column"
   ]
  },
  {
   "cell_type": "markdown",
   "metadata": {
    "colab_type": "text",
    "id": "QiYCTN_T8PAX"
   },
   "source": [
    "#### 4-M) Replace the existing `Sex` column in the `train` dataset with the new `male` column in the `sex` data"
   ]
  },
  {
   "cell_type": "code",
   "execution_count": 58,
   "metadata": {
    "colab": {},
    "colab_type": "code",
    "id": "2j5npHKGqGeS"
   },
   "outputs": [],
   "source": [
    "train['Sex'] = dummy_t['male']\n",
    "challenge['Sex'] = dummy_c['male']"
   ]
  },
  {
   "cell_type": "code",
   "execution_count": 59,
   "metadata": {
    "colab": {},
    "colab_type": "code",
    "id": "FIZX6yPX6_lD"
   },
   "outputs": [
    {
     "data": {
      "text/html": [
       "<div>\n",
       "<style scoped>\n",
       "    .dataframe tbody tr th:only-of-type {\n",
       "        vertical-align: middle;\n",
       "    }\n",
       "\n",
       "    .dataframe tbody tr th {\n",
       "        vertical-align: top;\n",
       "    }\n",
       "\n",
       "    .dataframe thead th {\n",
       "        text-align: right;\n",
       "    }\n",
       "</style>\n",
       "<table border=\"1\" class=\"dataframe\">\n",
       "  <thead>\n",
       "    <tr style=\"text-align: right;\">\n",
       "      <th></th>\n",
       "      <th>Survived</th>\n",
       "      <th>Pclass</th>\n",
       "      <th>Sex</th>\n",
       "      <th>Age</th>\n",
       "      <th>SibSp</th>\n",
       "      <th>Parch</th>\n",
       "      <th>Ticket</th>\n",
       "      <th>Fare</th>\n",
       "      <th>Embarked</th>\n",
       "      <th>Deck</th>\n",
       "    </tr>\n",
       "    <tr>\n",
       "      <th>PassengerId</th>\n",
       "      <th></th>\n",
       "      <th></th>\n",
       "      <th></th>\n",
       "      <th></th>\n",
       "      <th></th>\n",
       "      <th></th>\n",
       "      <th></th>\n",
       "      <th></th>\n",
       "      <th></th>\n",
       "      <th></th>\n",
       "    </tr>\n",
       "  </thead>\n",
       "  <tbody>\n",
       "    <tr>\n",
       "      <th>1</th>\n",
       "      <td>0</td>\n",
       "      <td>3</td>\n",
       "      <td>1</td>\n",
       "      <td>22.0</td>\n",
       "      <td>1</td>\n",
       "      <td>0</td>\n",
       "      <td>A/5 21171</td>\n",
       "      <td>7.2500</td>\n",
       "      <td>S</td>\n",
       "      <td>8</td>\n",
       "    </tr>\n",
       "    <tr>\n",
       "      <th>2</th>\n",
       "      <td>1</td>\n",
       "      <td>1</td>\n",
       "      <td>0</td>\n",
       "      <td>38.0</td>\n",
       "      <td>1</td>\n",
       "      <td>0</td>\n",
       "      <td>PC 17599</td>\n",
       "      <td>71.2833</td>\n",
       "      <td>C</td>\n",
       "      <td>3</td>\n",
       "    </tr>\n",
       "    <tr>\n",
       "      <th>3</th>\n",
       "      <td>1</td>\n",
       "      <td>3</td>\n",
       "      <td>0</td>\n",
       "      <td>26.0</td>\n",
       "      <td>0</td>\n",
       "      <td>0</td>\n",
       "      <td>STON/O2. 3101282</td>\n",
       "      <td>7.9250</td>\n",
       "      <td>S</td>\n",
       "      <td>8</td>\n",
       "    </tr>\n",
       "    <tr>\n",
       "      <th>4</th>\n",
       "      <td>1</td>\n",
       "      <td>1</td>\n",
       "      <td>0</td>\n",
       "      <td>35.0</td>\n",
       "      <td>1</td>\n",
       "      <td>0</td>\n",
       "      <td>113803</td>\n",
       "      <td>53.1000</td>\n",
       "      <td>S</td>\n",
       "      <td>3</td>\n",
       "    </tr>\n",
       "    <tr>\n",
       "      <th>5</th>\n",
       "      <td>0</td>\n",
       "      <td>3</td>\n",
       "      <td>1</td>\n",
       "      <td>35.0</td>\n",
       "      <td>0</td>\n",
       "      <td>0</td>\n",
       "      <td>373450</td>\n",
       "      <td>8.0500</td>\n",
       "      <td>S</td>\n",
       "      <td>8</td>\n",
       "    </tr>\n",
       "  </tbody>\n",
       "</table>\n",
       "</div>"
      ],
      "text/plain": [
       "             Survived  Pclass  Sex   Age  SibSp  Parch            Ticket  \\\n",
       "PassengerId                                                                \n",
       "1                   0       3    1  22.0      1      0         A/5 21171   \n",
       "2                   1       1    0  38.0      1      0          PC 17599   \n",
       "3                   1       3    0  26.0      0      0  STON/O2. 3101282   \n",
       "4                   1       1    0  35.0      1      0            113803   \n",
       "5                   0       3    1  35.0      0      0            373450   \n",
       "\n",
       "                Fare Embarked  Deck  \n",
       "PassengerId                          \n",
       "1             7.2500        S     8  \n",
       "2            71.2833        C     3  \n",
       "3             7.9250        S     8  \n",
       "4            53.1000        S     3  \n",
       "5             8.0500        S     8  "
      ]
     },
     "execution_count": 59,
     "metadata": {},
     "output_type": "execute_result"
    }
   ],
   "source": [
    "train.head()"
   ]
  },
  {
   "cell_type": "markdown",
   "metadata": {
    "colab_type": "text",
    "id": "UEyrY4ER8ZXC"
   },
   "source": [
    "### Ticket"
   ]
  },
  {
   "cell_type": "markdown",
   "metadata": {
    "colab_type": "text",
    "id": "IeMXmE_I8lIF"
   },
   "source": [
    "#### 4-N) Look at the count of unique values in Ticket to see if it has any data useful to predict survival"
   ]
  },
  {
   "cell_type": "code",
   "execution_count": 60,
   "metadata": {
    "colab": {},
    "colab_type": "code",
    "id": "rsABUYFu8fFd"
   },
   "outputs": [
    {
     "data": {
      "text/plain": [
       "347082       7\n",
       "CA. 2343     7\n",
       "1601         7\n",
       "CA 2144      6\n",
       "3101295      6\n",
       "            ..\n",
       "367229       1\n",
       "A4. 54510    1\n",
       "65306        1\n",
       "218629       1\n",
       "113503       1\n",
       "Name: Ticket, Length: 680, dtype: int64"
      ]
     },
     "execution_count": 60,
     "metadata": {},
     "output_type": "execute_result"
    }
   ],
   "source": [
    "train['Ticket'].value_counts()"
   ]
  },
  {
   "cell_type": "markdown",
   "metadata": {
    "colab_type": "text",
    "id": "0CrdDigl8yXa"
   },
   "source": [
    "#### 4-O) Nothing useful.  Drop it"
   ]
  },
  {
   "cell_type": "code",
   "execution_count": 61,
   "metadata": {
    "colab": {},
    "colab_type": "code",
    "id": "wJzZ6ZjC8yD0"
   },
   "outputs": [],
   "source": [
    "train = train.drop(columns='Ticket')\n",
    "challenge = challenge.drop(columns='Ticket')"
   ]
  },
  {
   "cell_type": "markdown",
   "metadata": {
    "colab_type": "text",
    "id": "n-jgmCfg8bSQ"
   },
   "source": [
    "### Embarked"
   ]
  },
  {
   "cell_type": "markdown",
   "metadata": {
    "colab_type": "text",
    "id": "34jjEBAA9LsE"
   },
   "source": [
    "#### 4-P) Look at the count of unique values in Embarked to see if it has any data useful to predict survival"
   ]
  },
  {
   "cell_type": "code",
   "execution_count": 62,
   "metadata": {
    "colab": {},
    "colab_type": "code",
    "id": "X1iN1CpyqGeO"
   },
   "outputs": [
    {
     "data": {
      "text/plain": [
       "S    644\n",
       "C    168\n",
       "Q     77\n",
       "Name: Embarked, dtype: int64"
      ]
     },
     "execution_count": 62,
     "metadata": {},
     "output_type": "execute_result"
    }
   ],
   "source": [
    "train['Embarked'].value_counts()"
   ]
  },
  {
   "cell_type": "markdown",
   "metadata": {
    "colab_type": "text",
    "id": "99Nlv0FH9o46"
   },
   "source": [
    "#### 4-Q) Similar to the `Sex` column above, use pandas `get_dummies` function to separate Embarked into 3 separate columns of binary data (0 or 1)"
   ]
  },
  {
   "cell_type": "code",
   "execution_count": 63,
   "metadata": {
    "colab": {},
    "colab_type": "code",
    "id": "g0MATmIVkivn"
   },
   "outputs": [
    {
     "name": "stdout",
     "output_type": "stream",
     "text": [
      "             C  Q  S\n",
      "PassengerId         \n",
      "1            0  0  1\n",
      "2            1  0  0\n",
      "3            0  0  1\n",
      "4            0  0  1\n",
      "5            0  0  1\n",
      "             C  Q  S\n",
      "PassengerId         \n",
      "892          0  1  0\n",
      "893          0  0  1\n",
      "894          0  1  0\n",
      "895          0  0  1\n",
      "896          0  0  1\n"
     ]
    }
   ],
   "source": [
    "dummy_t = pd.get_dummies(train['Embarked'])\n",
    "dummy_c = pd.get_dummies(challenge['Embarked'])\n",
    "print(dummy_t.head())\n",
    "print(dummy_c.head())"
   ]
  },
  {
   "cell_type": "markdown",
   "metadata": {
    "colab_type": "text",
    "id": "Eu6Sc9DE_VSa"
   },
   "source": [
    "#### 4-S) Add the new C, Q, S columns"
   ]
  },
  {
   "cell_type": "code",
   "execution_count": 64,
   "metadata": {},
   "outputs": [
    {
     "name": "stdout",
     "output_type": "stream",
     "text": [
      "             Survived  Pclass  Sex   Age  SibSp  Parch     Fare Embarked  \\\n",
      "PassengerId                                                                \n",
      "1                   0       3    1  22.0      1      0   7.2500        S   \n",
      "2                   1       1    0  38.0      1      0  71.2833        C   \n",
      "3                   1       3    0  26.0      0      0   7.9250        S   \n",
      "4                   1       1    0  35.0      1      0  53.1000        S   \n",
      "5                   0       3    1  35.0      0      0   8.0500        S   \n",
      "\n",
      "             Deck  C  Q  S  \n",
      "PassengerId                 \n",
      "1               8  0  0  1  \n",
      "2               3  1  0  0  \n",
      "3               8  0  0  1  \n",
      "4               3  0  0  1  \n",
      "5               8  0  0  1  \n",
      "             Pclass  Sex   Age  SibSp  Parch     Fare Embarked  Deck  C  Q  S\n",
      "PassengerId                                                                  \n",
      "892               3    1  34.5      0      0   7.8292        Q     8  0  1  0\n",
      "893               3    0  47.0      1      0   7.0000        S     8  0  0  1\n",
      "894               2    1  62.0      0      0   9.6875        Q     8  0  1  0\n",
      "895               3    1  27.0      0      0   8.6625        S     8  0  0  1\n",
      "896               3    0  22.0      1      1  12.2875        S     8  0  0  1\n"
     ]
    }
   ],
   "source": [
    "train = pd.concat([train, dummy_t], axis=1)\n",
    "challenge = pd.concat([challenge, dummy_c], axis=1)\n",
    "print(train.head())\n",
    "print(challenge.head())"
   ]
  },
  {
   "cell_type": "markdown",
   "metadata": {
    "colab_type": "text",
    "id": "540MA1na-kjb"
   },
   "source": [
    "#### 4-R) Drop the old Embarked column"
   ]
  },
  {
   "cell_type": "code",
   "execution_count": 65,
   "metadata": {
    "colab": {},
    "colab_type": "code",
    "id": "2QS9FYFN-qCv"
   },
   "outputs": [
    {
     "name": "stdout",
     "output_type": "stream",
     "text": [
      "             Survived  Pclass  Sex   Age  SibSp  Parch     Fare  Deck  C  Q  S\n",
      "PassengerId                                                                   \n",
      "1                   0       3    1  22.0      1      0   7.2500     8  0  0  1\n",
      "2                   1       1    0  38.0      1      0  71.2833     3  1  0  0\n",
      "3                   1       3    0  26.0      0      0   7.9250     8  0  0  1\n",
      "4                   1       1    0  35.0      1      0  53.1000     3  0  0  1\n",
      "5                   0       3    1  35.0      0      0   8.0500     8  0  0  1\n",
      "             Pclass  Sex   Age  SibSp  Parch     Fare  Deck  C  Q  S\n",
      "PassengerId                                                         \n",
      "892               3    1  34.5      0      0   7.8292     8  0  1  0\n",
      "893               3    0  47.0      1      0   7.0000     8  0  0  1\n",
      "894               2    1  62.0      0      0   9.6875     8  0  1  0\n",
      "895               3    1  27.0      0      0   8.6625     8  0  0  1\n",
      "896               3    0  22.0      1      1  12.2875     8  0  0  1\n"
     ]
    }
   ],
   "source": [
    "train = train.drop(columns='Embarked')\n",
    "challenge = challenge.drop(columns='Embarked')\n",
    "print(train.head())\n",
    "print(challenge.head())"
   ]
  },
  {
   "cell_type": "markdown",
   "metadata": {
    "colab_type": "text",
    "id": "TTpr6wCSGCjf"
   },
   "source": [
    "#### 4-T) Run `.info()` on the training dataset to ensure all features are now numerical and no objects remain.  Then run .describe() to get a feel for the average values and distribution of data"
   ]
  },
  {
   "cell_type": "code",
   "execution_count": 66,
   "metadata": {
    "colab": {},
    "colab_type": "code",
    "id": "SlYEhjkfBurl"
   },
   "outputs": [
    {
     "name": "stdout",
     "output_type": "stream",
     "text": [
      "<class 'pandas.core.frame.DataFrame'>\n",
      "Int64Index: 889 entries, 1 to 891\n",
      "Data columns (total 11 columns):\n",
      " #   Column    Non-Null Count  Dtype  \n",
      "---  ------    --------------  -----  \n",
      " 0   Survived  889 non-null    int64  \n",
      " 1   Pclass    889 non-null    int64  \n",
      " 2   Sex       889 non-null    uint8  \n",
      " 3   Age       889 non-null    float64\n",
      " 4   SibSp     889 non-null    int64  \n",
      " 5   Parch     889 non-null    int64  \n",
      " 6   Fare      889 non-null    float64\n",
      " 7   Deck      889 non-null    int64  \n",
      " 8   C         889 non-null    uint8  \n",
      " 9   Q         889 non-null    uint8  \n",
      " 10  S         889 non-null    uint8  \n",
      "dtypes: float64(2), int64(5), uint8(4)\n",
      "memory usage: 59.0 KB\n"
     ]
    }
   ],
   "source": [
    "train.info()"
   ]
  },
  {
   "cell_type": "code",
   "execution_count": 67,
   "metadata": {
    "colab": {},
    "colab_type": "code",
    "id": "gqp49FYeqGeg"
   },
   "outputs": [
    {
     "data": {
      "text/html": [
       "<div>\n",
       "<style scoped>\n",
       "    .dataframe tbody tr th:only-of-type {\n",
       "        vertical-align: middle;\n",
       "    }\n",
       "\n",
       "    .dataframe tbody tr th {\n",
       "        vertical-align: top;\n",
       "    }\n",
       "\n",
       "    .dataframe thead th {\n",
       "        text-align: right;\n",
       "    }\n",
       "</style>\n",
       "<table border=\"1\" class=\"dataframe\">\n",
       "  <thead>\n",
       "    <tr style=\"text-align: right;\">\n",
       "      <th></th>\n",
       "      <th>Survived</th>\n",
       "      <th>Pclass</th>\n",
       "      <th>Sex</th>\n",
       "      <th>Age</th>\n",
       "      <th>SibSp</th>\n",
       "      <th>Parch</th>\n",
       "      <th>Fare</th>\n",
       "      <th>Deck</th>\n",
       "      <th>C</th>\n",
       "      <th>Q</th>\n",
       "      <th>S</th>\n",
       "    </tr>\n",
       "  </thead>\n",
       "  <tbody>\n",
       "    <tr>\n",
       "      <th>count</th>\n",
       "      <td>889.000000</td>\n",
       "      <td>889.000000</td>\n",
       "      <td>889.000000</td>\n",
       "      <td>889.000000</td>\n",
       "      <td>889.000000</td>\n",
       "      <td>889.000000</td>\n",
       "      <td>889.000000</td>\n",
       "      <td>889.000000</td>\n",
       "      <td>889.000000</td>\n",
       "      <td>889.000000</td>\n",
       "      <td>889.000000</td>\n",
       "    </tr>\n",
       "    <tr>\n",
       "      <th>mean</th>\n",
       "      <td>0.382452</td>\n",
       "      <td>2.311586</td>\n",
       "      <td>0.649044</td>\n",
       "      <td>29.252160</td>\n",
       "      <td>0.524184</td>\n",
       "      <td>0.382452</td>\n",
       "      <td>32.096681</td>\n",
       "      <td>6.947132</td>\n",
       "      <td>0.188976</td>\n",
       "      <td>0.086614</td>\n",
       "      <td>0.724409</td>\n",
       "    </tr>\n",
       "    <tr>\n",
       "      <th>std</th>\n",
       "      <td>0.486260</td>\n",
       "      <td>0.834700</td>\n",
       "      <td>0.477538</td>\n",
       "      <td>13.201747</td>\n",
       "      <td>1.103705</td>\n",
       "      <td>0.806761</td>\n",
       "      <td>49.697504</td>\n",
       "      <td>2.063332</td>\n",
       "      <td>0.391710</td>\n",
       "      <td>0.281427</td>\n",
       "      <td>0.447063</td>\n",
       "    </tr>\n",
       "    <tr>\n",
       "      <th>min</th>\n",
       "      <td>0.000000</td>\n",
       "      <td>1.000000</td>\n",
       "      <td>0.000000</td>\n",
       "      <td>0.420000</td>\n",
       "      <td>0.000000</td>\n",
       "      <td>0.000000</td>\n",
       "      <td>0.000000</td>\n",
       "      <td>0.000000</td>\n",
       "      <td>0.000000</td>\n",
       "      <td>0.000000</td>\n",
       "      <td>0.000000</td>\n",
       "    </tr>\n",
       "    <tr>\n",
       "      <th>25%</th>\n",
       "      <td>0.000000</td>\n",
       "      <td>2.000000</td>\n",
       "      <td>0.000000</td>\n",
       "      <td>22.000000</td>\n",
       "      <td>0.000000</td>\n",
       "      <td>0.000000</td>\n",
       "      <td>7.895800</td>\n",
       "      <td>8.000000</td>\n",
       "      <td>0.000000</td>\n",
       "      <td>0.000000</td>\n",
       "      <td>0.000000</td>\n",
       "    </tr>\n",
       "    <tr>\n",
       "      <th>50%</th>\n",
       "      <td>0.000000</td>\n",
       "      <td>3.000000</td>\n",
       "      <td>1.000000</td>\n",
       "      <td>26.000000</td>\n",
       "      <td>0.000000</td>\n",
       "      <td>0.000000</td>\n",
       "      <td>14.454200</td>\n",
       "      <td>8.000000</td>\n",
       "      <td>0.000000</td>\n",
       "      <td>0.000000</td>\n",
       "      <td>1.000000</td>\n",
       "    </tr>\n",
       "    <tr>\n",
       "      <th>75%</th>\n",
       "      <td>1.000000</td>\n",
       "      <td>3.000000</td>\n",
       "      <td>1.000000</td>\n",
       "      <td>36.500000</td>\n",
       "      <td>1.000000</td>\n",
       "      <td>0.000000</td>\n",
       "      <td>31.000000</td>\n",
       "      <td>8.000000</td>\n",
       "      <td>0.000000</td>\n",
       "      <td>0.000000</td>\n",
       "      <td>1.000000</td>\n",
       "    </tr>\n",
       "    <tr>\n",
       "      <th>max</th>\n",
       "      <td>1.000000</td>\n",
       "      <td>3.000000</td>\n",
       "      <td>1.000000</td>\n",
       "      <td>80.000000</td>\n",
       "      <td>8.000000</td>\n",
       "      <td>6.000000</td>\n",
       "      <td>512.329200</td>\n",
       "      <td>8.000000</td>\n",
       "      <td>1.000000</td>\n",
       "      <td>1.000000</td>\n",
       "      <td>1.000000</td>\n",
       "    </tr>\n",
       "  </tbody>\n",
       "</table>\n",
       "</div>"
      ],
      "text/plain": [
       "         Survived      Pclass         Sex         Age       SibSp       Parch  \\\n",
       "count  889.000000  889.000000  889.000000  889.000000  889.000000  889.000000   \n",
       "mean     0.382452    2.311586    0.649044   29.252160    0.524184    0.382452   \n",
       "std      0.486260    0.834700    0.477538   13.201747    1.103705    0.806761   \n",
       "min      0.000000    1.000000    0.000000    0.420000    0.000000    0.000000   \n",
       "25%      0.000000    2.000000    0.000000   22.000000    0.000000    0.000000   \n",
       "50%      0.000000    3.000000    1.000000   26.000000    0.000000    0.000000   \n",
       "75%      1.000000    3.000000    1.000000   36.500000    1.000000    0.000000   \n",
       "max      1.000000    3.000000    1.000000   80.000000    8.000000    6.000000   \n",
       "\n",
       "             Fare        Deck           C           Q           S  \n",
       "count  889.000000  889.000000  889.000000  889.000000  889.000000  \n",
       "mean    32.096681    6.947132    0.188976    0.086614    0.724409  \n",
       "std     49.697504    2.063332    0.391710    0.281427    0.447063  \n",
       "min      0.000000    0.000000    0.000000    0.000000    0.000000  \n",
       "25%      7.895800    8.000000    0.000000    0.000000    0.000000  \n",
       "50%     14.454200    8.000000    0.000000    0.000000    1.000000  \n",
       "75%     31.000000    8.000000    0.000000    0.000000    1.000000  \n",
       "max    512.329200    8.000000    1.000000    1.000000    1.000000  "
      ]
     },
     "execution_count": 67,
     "metadata": {},
     "output_type": "execute_result"
    }
   ],
   "source": [
    "train.describe()"
   ]
  },
  {
   "cell_type": "markdown",
   "metadata": {
    "colab_type": "text",
    "id": "jxlMr97iqGei"
   },
   "source": [
    "# Step 5: Select and Train an ML Algorithm Model"
   ]
  },
  {
   "cell_type": "markdown",
   "metadata": {
    "colab_type": "text",
    "id": "JNakhR15DEKS"
   },
   "source": [
    "For steps 5 and 6, simply follow along by reading the code, and running each cell one by one. You should aim to understand the overall picture of what's going on, even if the inner workings of the algorithm is a black box at the moment."
   ]
  },
  {
   "cell_type": "markdown",
   "metadata": {
    "colab_type": "text",
    "id": "1svSbe48rkAL"
   },
   "source": [
    "## Building a Logistic Regression model"
   ]
  },
  {
   "cell_type": "markdown",
   "metadata": {
    "colab_type": "text",
    "id": "a0oVxECWCy_7"
   },
   "source": [
    "#### Split the data between dependent (X) and independent (y) variables.  y is what we are solving for"
   ]
  },
  {
   "cell_type": "code",
   "execution_count": 68,
   "metadata": {
    "colab": {},
    "colab_type": "code",
    "id": "_zyebrQ3moR5"
   },
   "outputs": [],
   "source": [
    "X = train.drop('Survived',axis=1)\n",
    "y = train['Survived']"
   ]
  },
  {
   "cell_type": "code",
   "execution_count": 69,
   "metadata": {
    "colab": {},
    "colab_type": "code",
    "id": "lrY-wi0Tn3Pe"
   },
   "outputs": [
    {
     "data": {
      "text/plain": [
       "(889,)"
      ]
     },
     "execution_count": 69,
     "metadata": {},
     "output_type": "execute_result"
    }
   ],
   "source": [
    "y.shape"
   ]
  },
  {
   "cell_type": "markdown",
   "metadata": {
    "colab_type": "text",
    "id": "8pPeSRuyDmbA"
   },
   "source": [
    "#### Import train_test_split from Sci Kit Learn.  This takes our training data and separates it into 2 pieces in order to avoid perfectly fitting the algorithm to the data.  Typically around 70%-90% of the data is used to train, and 10%-30% of the data is used to test.  \n",
    "`test_size` of 0.20 means 20% of the data is reserved for testing."
   ]
  },
  {
   "cell_type": "code",
   "execution_count": 70,
   "metadata": {
    "colab": {},
    "colab_type": "code",
    "id": "3bH6QYxaqGek"
   },
   "outputs": [],
   "source": [
    "from sklearn.model_selection import train_test_split"
   ]
  },
  {
   "cell_type": "code",
   "execution_count": 71,
   "metadata": {
    "colab": {},
    "colab_type": "code",
    "id": "E22tvUEmqGel"
   },
   "outputs": [],
   "source": [
    "X_train, X_test, y_train, y_test = train_test_split(X,y \n",
    "                                                    , test_size=0.20, \n",
    "                                                    random_state=42)"
   ]
  },
  {
   "cell_type": "code",
   "execution_count": 72,
   "metadata": {
    "colab": {},
    "colab_type": "code",
    "id": "CxgtZEpIoCN3"
   },
   "outputs": [
    {
     "data": {
      "text/plain": [
       "(178, 10)"
      ]
     },
     "execution_count": 72,
     "metadata": {},
     "output_type": "execute_result"
    }
   ],
   "source": [
    "X_test.shape"
   ]
  },
  {
   "cell_type": "code",
   "execution_count": 73,
   "metadata": {
    "colab": {},
    "colab_type": "code",
    "id": "5jf2Zl2NqGeo"
   },
   "outputs": [
    {
     "data": {
      "text/plain": [
       "178"
      ]
     },
     "execution_count": 73,
     "metadata": {},
     "output_type": "execute_result"
    }
   ],
   "source": [
    "len(y_test)"
   ]
  },
  {
   "cell_type": "code",
   "execution_count": 74,
   "metadata": {
    "colab": {},
    "colab_type": "code",
    "id": "6oRS_E2OqGer"
   },
   "outputs": [
    {
     "data": {
      "text/plain": [
       "20.022497187851517"
      ]
     },
     "execution_count": 74,
     "metadata": {},
     "output_type": "execute_result"
    }
   ],
   "source": [
    "# check what % of the original y dataset is allocated to y_test\n",
    "len(y_test) / len(y) * 100"
   ]
  },
  {
   "cell_type": "code",
   "execution_count": 75,
   "metadata": {
    "colab": {},
    "colab_type": "code",
    "id": "oO4Trs9REF5O"
   },
   "outputs": [
    {
     "data": {
      "text/html": [
       "<div>\n",
       "<style scoped>\n",
       "    .dataframe tbody tr th:only-of-type {\n",
       "        vertical-align: middle;\n",
       "    }\n",
       "\n",
       "    .dataframe tbody tr th {\n",
       "        vertical-align: top;\n",
       "    }\n",
       "\n",
       "    .dataframe thead th {\n",
       "        text-align: right;\n",
       "    }\n",
       "</style>\n",
       "<table border=\"1\" class=\"dataframe\">\n",
       "  <thead>\n",
       "    <tr style=\"text-align: right;\">\n",
       "      <th></th>\n",
       "      <th>Pclass</th>\n",
       "      <th>Sex</th>\n",
       "      <th>Age</th>\n",
       "      <th>SibSp</th>\n",
       "      <th>Parch</th>\n",
       "      <th>Fare</th>\n",
       "      <th>Deck</th>\n",
       "      <th>C</th>\n",
       "      <th>Q</th>\n",
       "      <th>S</th>\n",
       "    </tr>\n",
       "  </thead>\n",
       "  <tbody>\n",
       "    <tr>\n",
       "      <th>count</th>\n",
       "      <td>889.000000</td>\n",
       "      <td>889.000000</td>\n",
       "      <td>889.000000</td>\n",
       "      <td>889.000000</td>\n",
       "      <td>889.000000</td>\n",
       "      <td>889.000000</td>\n",
       "      <td>889.000000</td>\n",
       "      <td>889.000000</td>\n",
       "      <td>889.000000</td>\n",
       "      <td>889.000000</td>\n",
       "    </tr>\n",
       "    <tr>\n",
       "      <th>mean</th>\n",
       "      <td>2.311586</td>\n",
       "      <td>0.649044</td>\n",
       "      <td>29.252160</td>\n",
       "      <td>0.524184</td>\n",
       "      <td>0.382452</td>\n",
       "      <td>32.096681</td>\n",
       "      <td>6.947132</td>\n",
       "      <td>0.188976</td>\n",
       "      <td>0.086614</td>\n",
       "      <td>0.724409</td>\n",
       "    </tr>\n",
       "    <tr>\n",
       "      <th>std</th>\n",
       "      <td>0.834700</td>\n",
       "      <td>0.477538</td>\n",
       "      <td>13.201747</td>\n",
       "      <td>1.103705</td>\n",
       "      <td>0.806761</td>\n",
       "      <td>49.697504</td>\n",
       "      <td>2.063332</td>\n",
       "      <td>0.391710</td>\n",
       "      <td>0.281427</td>\n",
       "      <td>0.447063</td>\n",
       "    </tr>\n",
       "    <tr>\n",
       "      <th>min</th>\n",
       "      <td>1.000000</td>\n",
       "      <td>0.000000</td>\n",
       "      <td>0.420000</td>\n",
       "      <td>0.000000</td>\n",
       "      <td>0.000000</td>\n",
       "      <td>0.000000</td>\n",
       "      <td>0.000000</td>\n",
       "      <td>0.000000</td>\n",
       "      <td>0.000000</td>\n",
       "      <td>0.000000</td>\n",
       "    </tr>\n",
       "    <tr>\n",
       "      <th>25%</th>\n",
       "      <td>2.000000</td>\n",
       "      <td>0.000000</td>\n",
       "      <td>22.000000</td>\n",
       "      <td>0.000000</td>\n",
       "      <td>0.000000</td>\n",
       "      <td>7.895800</td>\n",
       "      <td>8.000000</td>\n",
       "      <td>0.000000</td>\n",
       "      <td>0.000000</td>\n",
       "      <td>0.000000</td>\n",
       "    </tr>\n",
       "    <tr>\n",
       "      <th>50%</th>\n",
       "      <td>3.000000</td>\n",
       "      <td>1.000000</td>\n",
       "      <td>26.000000</td>\n",
       "      <td>0.000000</td>\n",
       "      <td>0.000000</td>\n",
       "      <td>14.454200</td>\n",
       "      <td>8.000000</td>\n",
       "      <td>0.000000</td>\n",
       "      <td>0.000000</td>\n",
       "      <td>1.000000</td>\n",
       "    </tr>\n",
       "    <tr>\n",
       "      <th>75%</th>\n",
       "      <td>3.000000</td>\n",
       "      <td>1.000000</td>\n",
       "      <td>36.500000</td>\n",
       "      <td>1.000000</td>\n",
       "      <td>0.000000</td>\n",
       "      <td>31.000000</td>\n",
       "      <td>8.000000</td>\n",
       "      <td>0.000000</td>\n",
       "      <td>0.000000</td>\n",
       "      <td>1.000000</td>\n",
       "    </tr>\n",
       "    <tr>\n",
       "      <th>max</th>\n",
       "      <td>3.000000</td>\n",
       "      <td>1.000000</td>\n",
       "      <td>80.000000</td>\n",
       "      <td>8.000000</td>\n",
       "      <td>6.000000</td>\n",
       "      <td>512.329200</td>\n",
       "      <td>8.000000</td>\n",
       "      <td>1.000000</td>\n",
       "      <td>1.000000</td>\n",
       "      <td>1.000000</td>\n",
       "    </tr>\n",
       "  </tbody>\n",
       "</table>\n",
       "</div>"
      ],
      "text/plain": [
       "           Pclass         Sex         Age       SibSp       Parch        Fare  \\\n",
       "count  889.000000  889.000000  889.000000  889.000000  889.000000  889.000000   \n",
       "mean     2.311586    0.649044   29.252160    0.524184    0.382452   32.096681   \n",
       "std      0.834700    0.477538   13.201747    1.103705    0.806761   49.697504   \n",
       "min      1.000000    0.000000    0.420000    0.000000    0.000000    0.000000   \n",
       "25%      2.000000    0.000000   22.000000    0.000000    0.000000    7.895800   \n",
       "50%      3.000000    1.000000   26.000000    0.000000    0.000000   14.454200   \n",
       "75%      3.000000    1.000000   36.500000    1.000000    0.000000   31.000000   \n",
       "max      3.000000    1.000000   80.000000    8.000000    6.000000  512.329200   \n",
       "\n",
       "             Deck           C           Q           S  \n",
       "count  889.000000  889.000000  889.000000  889.000000  \n",
       "mean     6.947132    0.188976    0.086614    0.724409  \n",
       "std      2.063332    0.391710    0.281427    0.447063  \n",
       "min      0.000000    0.000000    0.000000    0.000000  \n",
       "25%      8.000000    0.000000    0.000000    0.000000  \n",
       "50%      8.000000    0.000000    0.000000    1.000000  \n",
       "75%      8.000000    0.000000    0.000000    1.000000  \n",
       "max      8.000000    1.000000    1.000000    1.000000  "
      ]
     },
     "execution_count": 75,
     "metadata": {},
     "output_type": "execute_result"
    }
   ],
   "source": [
    "X.describe()"
   ]
  },
  {
   "cell_type": "code",
   "execution_count": 76,
   "metadata": {
    "colab": {},
    "colab_type": "code",
    "id": "FTxIcZWgD663"
   },
   "outputs": [
    {
     "data": {
      "text/html": [
       "<div>\n",
       "<style scoped>\n",
       "    .dataframe tbody tr th:only-of-type {\n",
       "        vertical-align: middle;\n",
       "    }\n",
       "\n",
       "    .dataframe tbody tr th {\n",
       "        vertical-align: top;\n",
       "    }\n",
       "\n",
       "    .dataframe thead th {\n",
       "        text-align: right;\n",
       "    }\n",
       "</style>\n",
       "<table border=\"1\" class=\"dataframe\">\n",
       "  <thead>\n",
       "    <tr style=\"text-align: right;\">\n",
       "      <th></th>\n",
       "      <th>Pclass</th>\n",
       "      <th>Sex</th>\n",
       "      <th>Age</th>\n",
       "      <th>SibSp</th>\n",
       "      <th>Parch</th>\n",
       "      <th>Fare</th>\n",
       "      <th>Deck</th>\n",
       "      <th>C</th>\n",
       "      <th>Q</th>\n",
       "      <th>S</th>\n",
       "    </tr>\n",
       "  </thead>\n",
       "  <tbody>\n",
       "    <tr>\n",
       "      <th>count</th>\n",
       "      <td>711.000000</td>\n",
       "      <td>711.000000</td>\n",
       "      <td>711.000000</td>\n",
       "      <td>711.000000</td>\n",
       "      <td>711.000000</td>\n",
       "      <td>711.000000</td>\n",
       "      <td>711.000000</td>\n",
       "      <td>711.000000</td>\n",
       "      <td>711.000000</td>\n",
       "      <td>711.000000</td>\n",
       "    </tr>\n",
       "    <tr>\n",
       "      <th>mean</th>\n",
       "      <td>2.322082</td>\n",
       "      <td>0.663854</td>\n",
       "      <td>29.387961</td>\n",
       "      <td>0.554149</td>\n",
       "      <td>0.382560</td>\n",
       "      <td>32.060354</td>\n",
       "      <td>6.947961</td>\n",
       "      <td>0.185654</td>\n",
       "      <td>0.091421</td>\n",
       "      <td>0.722925</td>\n",
       "    </tr>\n",
       "    <tr>\n",
       "      <th>std</th>\n",
       "      <td>0.835180</td>\n",
       "      <td>0.472722</td>\n",
       "      <td>13.357110</td>\n",
       "      <td>1.168643</td>\n",
       "      <td>0.804865</td>\n",
       "      <td>49.195227</td>\n",
       "      <td>2.068229</td>\n",
       "      <td>0.389101</td>\n",
       "      <td>0.288409</td>\n",
       "      <td>0.447869</td>\n",
       "    </tr>\n",
       "    <tr>\n",
       "      <th>min</th>\n",
       "      <td>1.000000</td>\n",
       "      <td>0.000000</td>\n",
       "      <td>0.420000</td>\n",
       "      <td>0.000000</td>\n",
       "      <td>0.000000</td>\n",
       "      <td>0.000000</td>\n",
       "      <td>0.000000</td>\n",
       "      <td>0.000000</td>\n",
       "      <td>0.000000</td>\n",
       "      <td>0.000000</td>\n",
       "    </tr>\n",
       "    <tr>\n",
       "      <th>25%</th>\n",
       "      <td>2.000000</td>\n",
       "      <td>0.000000</td>\n",
       "      <td>22.000000</td>\n",
       "      <td>0.000000</td>\n",
       "      <td>0.000000</td>\n",
       "      <td>7.895800</td>\n",
       "      <td>8.000000</td>\n",
       "      <td>0.000000</td>\n",
       "      <td>0.000000</td>\n",
       "      <td>0.000000</td>\n",
       "    </tr>\n",
       "    <tr>\n",
       "      <th>50%</th>\n",
       "      <td>3.000000</td>\n",
       "      <td>1.000000</td>\n",
       "      <td>26.000000</td>\n",
       "      <td>0.000000</td>\n",
       "      <td>0.000000</td>\n",
       "      <td>14.500000</td>\n",
       "      <td>8.000000</td>\n",
       "      <td>0.000000</td>\n",
       "      <td>0.000000</td>\n",
       "      <td>1.000000</td>\n",
       "    </tr>\n",
       "    <tr>\n",
       "      <th>75%</th>\n",
       "      <td>3.000000</td>\n",
       "      <td>1.000000</td>\n",
       "      <td>37.000000</td>\n",
       "      <td>1.000000</td>\n",
       "      <td>0.000000</td>\n",
       "      <td>30.695800</td>\n",
       "      <td>8.000000</td>\n",
       "      <td>0.000000</td>\n",
       "      <td>0.000000</td>\n",
       "      <td>1.000000</td>\n",
       "    </tr>\n",
       "    <tr>\n",
       "      <th>max</th>\n",
       "      <td>3.000000</td>\n",
       "      <td>1.000000</td>\n",
       "      <td>80.000000</td>\n",
       "      <td>8.000000</td>\n",
       "      <td>6.000000</td>\n",
       "      <td>512.329200</td>\n",
       "      <td>8.000000</td>\n",
       "      <td>1.000000</td>\n",
       "      <td>1.000000</td>\n",
       "      <td>1.000000</td>\n",
       "    </tr>\n",
       "  </tbody>\n",
       "</table>\n",
       "</div>"
      ],
      "text/plain": [
       "           Pclass         Sex         Age       SibSp       Parch        Fare  \\\n",
       "count  711.000000  711.000000  711.000000  711.000000  711.000000  711.000000   \n",
       "mean     2.322082    0.663854   29.387961    0.554149    0.382560   32.060354   \n",
       "std      0.835180    0.472722   13.357110    1.168643    0.804865   49.195227   \n",
       "min      1.000000    0.000000    0.420000    0.000000    0.000000    0.000000   \n",
       "25%      2.000000    0.000000   22.000000    0.000000    0.000000    7.895800   \n",
       "50%      3.000000    1.000000   26.000000    0.000000    0.000000   14.500000   \n",
       "75%      3.000000    1.000000   37.000000    1.000000    0.000000   30.695800   \n",
       "max      3.000000    1.000000   80.000000    8.000000    6.000000  512.329200   \n",
       "\n",
       "             Deck           C           Q           S  \n",
       "count  711.000000  711.000000  711.000000  711.000000  \n",
       "mean     6.947961    0.185654    0.091421    0.722925  \n",
       "std      2.068229    0.389101    0.288409    0.447869  \n",
       "min      0.000000    0.000000    0.000000    0.000000  \n",
       "25%      8.000000    0.000000    0.000000    0.000000  \n",
       "50%      8.000000    0.000000    0.000000    1.000000  \n",
       "75%      8.000000    0.000000    0.000000    1.000000  \n",
       "max      8.000000    1.000000    1.000000    1.000000  "
      ]
     },
     "execution_count": 76,
     "metadata": {},
     "output_type": "execute_result"
    }
   ],
   "source": [
    "X_train.describe()"
   ]
  },
  {
   "cell_type": "code",
   "execution_count": 77,
   "metadata": {
    "colab": {},
    "colab_type": "code",
    "id": "sffWlj4dDvo1"
   },
   "outputs": [
    {
     "data": {
      "text/plain": [
       "count    711.000000\n",
       "mean       0.381153\n",
       "std        0.486012\n",
       "min        0.000000\n",
       "25%        0.000000\n",
       "50%        0.000000\n",
       "75%        1.000000\n",
       "max        1.000000\n",
       "Name: Survived, dtype: float64"
      ]
     },
     "execution_count": 77,
     "metadata": {},
     "output_type": "execute_result"
    }
   ],
   "source": [
    "y_train.describe()"
   ]
  },
  {
   "cell_type": "markdown",
   "metadata": {
    "colab_type": "text",
    "id": "1DFci6LuG9XK"
   },
   "source": [
    "#### Import the ML Algorithm"
   ]
  },
  {
   "cell_type": "code",
   "execution_count": 78,
   "metadata": {
    "colab": {},
    "colab_type": "code",
    "id": "KKzr-_boqGes"
   },
   "outputs": [],
   "source": [
    "from sklearn.linear_model import LogisticRegression"
   ]
  },
  {
   "cell_type": "markdown",
   "metadata": {
    "colab_type": "text",
    "id": "Vf8wiRsdHBlJ"
   },
   "source": [
    "#### Build and Train the ML Algorithm"
   ]
  },
  {
   "cell_type": "code",
   "execution_count": 79,
   "metadata": {
    "colab": {},
    "colab_type": "code",
    "id": "bVtfScF1Gwjd"
   },
   "outputs": [],
   "source": [
    "#logmodel = LogisticRegression()\n",
    "#logmodel.fit(X_train,y_train) # this is where training happens"
   ]
  },
  {
   "cell_type": "code",
   "execution_count": 80,
   "metadata": {
    "colab": {},
    "colab_type": "code",
    "id": "UQmeZG9JG31I"
   },
   "outputs": [
    {
     "data": {
      "text/plain": [
       "LogisticRegression(C=1.0, class_weight=None, dual=False, fit_intercept=True,\n",
       "                   intercept_scaling=1, l1_ratio=None, max_iter=1000,\n",
       "                   multi_class='auto', n_jobs=None, penalty='l2',\n",
       "                   random_state=None, solver='lbfgs', tol=0.0001, verbose=0,\n",
       "                   warm_start=False)"
      ]
     },
     "execution_count": 80,
     "metadata": {},
     "output_type": "execute_result"
    }
   ],
   "source": [
    "# Increase Max Iterations from 100 (default) to 1000\n",
    "logmodel = LogisticRegression(max_iter=1000)\n",
    "logmodel.fit(X_train,y_train) # this is where training happens"
   ]
  },
  {
   "cell_type": "markdown",
   "metadata": {
    "colab_type": "text",
    "id": "bJz6wvkBIEGg"
   },
   "source": [
    "#### Predict survival on the first 5 to see if the model is somewhat accurate"
   ]
  },
  {
   "cell_type": "code",
   "execution_count": 81,
   "metadata": {
    "colab": {},
    "colab_type": "code",
    "id": "S8bdMGNbqGet"
   },
   "outputs": [
    {
     "data": {
      "text/plain": [
       "array([0, 1, 1, 0, 1])"
      ]
     },
     "execution_count": 81,
     "metadata": {},
     "output_type": "execute_result"
    }
   ],
   "source": [
    "predict =  logmodel.predict(X_test)\n",
    "predict[:5]"
   ]
  },
  {
   "cell_type": "code",
   "execution_count": 82,
   "metadata": {
    "colab": {},
    "colab_type": "code",
    "id": "J5CkHvS-qGev"
   },
   "outputs": [
    {
     "data": {
      "text/plain": [
       "PassengerId\n",
       "282    0\n",
       "436    1\n",
       "40     1\n",
       "419    0\n",
       "586    1\n",
       "Name: Survived, dtype: int64"
      ]
     },
     "execution_count": 82,
     "metadata": {},
     "output_type": "execute_result"
    }
   ],
   "source": [
    "y_test[:5]"
   ]
  },
  {
   "cell_type": "markdown",
   "metadata": {
    "colab_type": "text",
    "id": "MxQbphc5r2fF"
   },
   "source": [
    "# Step 6: Evaluate Results and Fine-Tune Your Model"
   ]
  },
  {
   "cell_type": "markdown",
   "metadata": {
    "colab_type": "text",
    "id": "AyjOcjpCKTIJ"
   },
   "source": [
    "## Evaluate the Feature Weights"
   ]
  },
  {
   "cell_type": "markdown",
   "metadata": {
    "colab_type": "text",
    "id": "24O6vAywHtKV"
   },
   "source": [
    "#### Get the y intercept of the model.  This is the baseline survival rate when setting aside all other features"
   ]
  },
  {
   "cell_type": "code",
   "execution_count": 83,
   "metadata": {
    "colab": {},
    "colab_type": "code",
    "id": "7Pix1UTpo_Wc"
   },
   "outputs": [
    {
     "data": {
      "text/plain": [
       "array([5.92070603])"
      ]
     },
     "execution_count": 83,
     "metadata": {},
     "output_type": "execute_result"
    }
   ],
   "source": [
    "logmodel.intercept_"
   ]
  },
  {
   "cell_type": "markdown",
   "metadata": {
    "colab_type": "text",
    "id": "GXsERGR8HVuL"
   },
   "source": [
    "#### Get the weights (coefficients) for each of the features.  The numbers below represent how much impact each feature (column) has on the survival rate."
   ]
  },
  {
   "cell_type": "code",
   "execution_count": 84,
   "metadata": {
    "colab": {},
    "colab_type": "code",
    "id": "9YAKpVMVsmYx"
   },
   "outputs": [
    {
     "data": {
      "text/plain": [
       "array([[-1.12379633e+00, -2.64519478e+00, -4.87322122e-02,\n",
       "        -3.97037556e-01, -5.72677520e-02,  1.04421102e-03,\n",
       "        -6.12346683e-02,  1.94854246e-01,  5.17621402e-02,\n",
       "        -2.65057701e-01]])"
      ]
     },
     "execution_count": 84,
     "metadata": {},
     "output_type": "execute_result"
    }
   ],
   "source": [
    "coef = logmodel.coef_\n",
    "coef"
   ]
  },
  {
   "cell_type": "markdown",
   "metadata": {
    "colab_type": "text",
    "id": "xQHVbQPaKBB0"
   },
   "source": [
    "#### Combine the feature labels with the feature weights (coefficients) to determine which had the largest impact"
   ]
  },
  {
   "cell_type": "code",
   "execution_count": 85,
   "metadata": {
    "colab": {},
    "colab_type": "code",
    "id": "0IbycXOwL3aW"
   },
   "outputs": [
    {
     "data": {
      "text/plain": [
       "[-1.1237963288058637,\n",
       " -2.64519478234536,\n",
       " -0.04873221216235023,\n",
       " -0.3970375564952176,\n",
       " -0.05726775201182146,\n",
       " 0.0010442110226539334,\n",
       " -0.061234668272088406,\n",
       " 0.19485424562785522,\n",
       " 0.051762140175880274,\n",
       " -0.26505770082508995]"
      ]
     },
     "execution_count": 85,
     "metadata": {},
     "output_type": "execute_result"
    }
   ],
   "source": [
    "# flatten out the nested weights array into a list\n",
    "coef = list(coef[0])\n",
    "coef"
   ]
  },
  {
   "cell_type": "code",
   "execution_count": 86,
   "metadata": {
    "colab": {},
    "colab_type": "code",
    "id": "myOLxQoGLAkS"
   },
   "outputs": [
    {
     "data": {
      "text/plain": [
       "Index(['Pclass', 'Sex', 'Age', 'SibSp', 'Parch', 'Fare', 'Deck', 'C', 'Q',\n",
       "       'S'],\n",
       "      dtype='object')"
      ]
     },
     "execution_count": 86,
     "metadata": {},
     "output_type": "execute_result"
    }
   ],
   "source": [
    "# Get the columns we're going to match with the weights\n",
    "features = X_test.columns\n",
    "features"
   ]
  },
  {
   "cell_type": "code",
   "execution_count": 87,
   "metadata": {
    "colab": {},
    "colab_type": "code",
    "id": "kZYMHFnvKwE9"
   },
   "outputs": [
    {
     "data": {
      "text/html": [
       "<div>\n",
       "<style scoped>\n",
       "    .dataframe tbody tr th:only-of-type {\n",
       "        vertical-align: middle;\n",
       "    }\n",
       "\n",
       "    .dataframe tbody tr th {\n",
       "        vertical-align: top;\n",
       "    }\n",
       "\n",
       "    .dataframe thead th {\n",
       "        text-align: right;\n",
       "    }\n",
       "</style>\n",
       "<table border=\"1\" class=\"dataframe\">\n",
       "  <thead>\n",
       "    <tr style=\"text-align: right;\">\n",
       "      <th></th>\n",
       "      <th>Weight</th>\n",
       "    </tr>\n",
       "    <tr>\n",
       "      <th>Feature</th>\n",
       "      <th></th>\n",
       "    </tr>\n",
       "  </thead>\n",
       "  <tbody>\n",
       "    <tr>\n",
       "      <th>Sex</th>\n",
       "      <td>-2.645195</td>\n",
       "    </tr>\n",
       "    <tr>\n",
       "      <th>Pclass</th>\n",
       "      <td>-1.123796</td>\n",
       "    </tr>\n",
       "    <tr>\n",
       "      <th>SibSp</th>\n",
       "      <td>-0.397038</td>\n",
       "    </tr>\n",
       "    <tr>\n",
       "      <th>S</th>\n",
       "      <td>-0.265058</td>\n",
       "    </tr>\n",
       "    <tr>\n",
       "      <th>Deck</th>\n",
       "      <td>-0.061235</td>\n",
       "    </tr>\n",
       "    <tr>\n",
       "      <th>Parch</th>\n",
       "      <td>-0.057268</td>\n",
       "    </tr>\n",
       "    <tr>\n",
       "      <th>Age</th>\n",
       "      <td>-0.048732</td>\n",
       "    </tr>\n",
       "    <tr>\n",
       "      <th>Fare</th>\n",
       "      <td>0.001044</td>\n",
       "    </tr>\n",
       "    <tr>\n",
       "      <th>Q</th>\n",
       "      <td>0.051762</td>\n",
       "    </tr>\n",
       "    <tr>\n",
       "      <th>C</th>\n",
       "      <td>0.194854</td>\n",
       "    </tr>\n",
       "  </tbody>\n",
       "</table>\n",
       "</div>"
      ],
      "text/plain": [
       "           Weight\n",
       "Feature          \n",
       "Sex     -2.645195\n",
       "Pclass  -1.123796\n",
       "SibSp   -0.397038\n",
       "S       -0.265058\n",
       "Deck    -0.061235\n",
       "Parch   -0.057268\n",
       "Age     -0.048732\n",
       "Fare     0.001044\n",
       "Q        0.051762\n",
       "C        0.194854"
      ]
     },
     "execution_count": 87,
     "metadata": {},
     "output_type": "execute_result"
    }
   ],
   "source": [
    "weights = list(zip(features, coef))\n",
    "weights = pd.DataFrame(weights)\n",
    "weights.columns = ['Feature', 'Weight']\n",
    "weights.set_index('Feature', inplace=True)\n",
    "weights.sort_values(by='Weight', inplace=True)\n",
    "weights"
   ]
  },
  {
   "cell_type": "markdown",
   "metadata": {
    "colab_type": "text",
    "id": "uPndhspZRTXJ"
   },
   "source": [
    "#### Analysis"
   ]
  },
  {
   "cell_type": "markdown",
   "metadata": {
    "colab_type": "text",
    "id": "aggxfWLkPh2V"
   },
   "source": [
    "As the weights show, Sex (male vs female) had the largest impact on survival rate on the Titanic.  Which makes sense because of the 'women and children first' mentality.  \n",
    "\n",
    "The 2nd largest impact on survival was Pclass, which also passes the logic test because higher numbers in the class category (3rd class), are less wealthy / paid for a less expensive ticket, and less likely to be catered to than the wealthy 1st class.  \n",
    "\n",
    "The other features seem to have less of an impact compared to these top two"
   ]
  },
  {
   "cell_type": "markdown",
   "metadata": {
    "colab_type": "text",
    "id": "FtA5kul0qGew"
   },
   "source": [
    "## Evaluate the Robustness of the ML Model"
   ]
  },
  {
   "cell_type": "markdown",
   "metadata": {
    "colab_type": "text",
    "id": "K7-QoN8RInHN"
   },
   "source": [
    "There are a number of ways to evaluate the effectiveness of an ML algorithm.  Popular tests include:\n",
    "- Confusion Matrix\n",
    "- Precision Score\n",
    "- Recall score\n",
    "- f1 Score\n",
    "- Classification Report (combines all the above together)"
   ]
  },
  {
   "cell_type": "markdown",
   "metadata": {
    "colab_type": "text",
    "id": "OHiyGYVpqGew"
   },
   "source": [
    "#### Confusion Matrix"
   ]
  },
  {
   "cell_type": "code",
   "execution_count": 88,
   "metadata": {
    "colab": {},
    "colab_type": "code",
    "id": "Qms9QjqeqGex"
   },
   "outputs": [],
   "source": [
    "from sklearn.metrics import confusion_matrix, classification_report"
   ]
  },
  {
   "cell_type": "markdown",
   "metadata": {
    "colab_type": "text",
    "id": "oFrtqs9vqGez"
   },
   "source": [
    "## Confusion Matrix\n",
    "\n",
    "|True positive   |\tFalse positive|  \n",
    "|----------------|----------------|  \n",
    "|False negative  |\tTrue negative |   "
   ]
  },
  {
   "cell_type": "code",
   "execution_count": 89,
   "metadata": {
    "colab": {},
    "colab_type": "code",
    "id": "xoJmRVG7qGez"
   },
   "outputs": [
    {
     "name": "stdout",
     "output_type": "stream",
     "text": [
      "[[91 18]\n",
      " [15 54]]\n"
     ]
    }
   ],
   "source": [
    "print(confusion_matrix(y_test, predict))"
   ]
  },
  {
   "cell_type": "markdown",
   "metadata": {
    "colab_type": "text",
    "id": "8q-7xR9lJhdi"
   },
   "source": [
    "#### Accuracy Score"
   ]
  },
  {
   "cell_type": "code",
   "execution_count": 90,
   "metadata": {
    "colab": {},
    "colab_type": "code",
    "id": "0GqHdAFBWNFD"
   },
   "outputs": [
    {
     "name": "stdout",
     "output_type": "stream",
     "text": [
      "0.8146067415730337\n"
     ]
    }
   ],
   "source": [
    "from sklearn.metrics import accuracy_score\n",
    "print(accuracy_score(y_test,predict))"
   ]
  },
  {
   "cell_type": "markdown",
   "metadata": {
    "colab_type": "text",
    "id": "9Z1-yu_vqGe2"
   },
   "source": [
    "#### Precision Score"
   ]
  },
  {
   "cell_type": "markdown",
   "metadata": {
    "colab_type": "text",
    "id": "mcj-1sHYqGe2"
   },
   "source": [
    "The precision is the ratio tp / (tp + fp) where tp is the number of true positives and fp the number of false positives. The precision is intuitively the ability of the classifier not to label as positive a sample that is negative.\n",
    "\n",
    "The best value is 1 and the worst value is 0."
   ]
  },
  {
   "cell_type": "code",
   "execution_count": 91,
   "metadata": {
    "colab": {},
    "colab_type": "code",
    "id": "65HchaaPqGe4"
   },
   "outputs": [],
   "source": [
    "from sklearn.metrics import precision_score"
   ]
  },
  {
   "cell_type": "code",
   "execution_count": 92,
   "metadata": {
    "colab": {},
    "colab_type": "code",
    "id": "c_I5eE7uqGe6"
   },
   "outputs": [
    {
     "name": "stdout",
     "output_type": "stream",
     "text": [
      "0.75\n"
     ]
    }
   ],
   "source": [
    "print(precision_score(y_test,predict))"
   ]
  },
  {
   "cell_type": "markdown",
   "metadata": {
    "colab_type": "text",
    "id": "ndN57PlvqGe9"
   },
   "source": [
    "#### Recall score"
   ]
  },
  {
   "cell_type": "markdown",
   "metadata": {
    "colab_type": "text",
    "id": "wnfIk5lhqGe9"
   },
   "source": [
    "The recall is the ratio tp / (tp + fn) where tp is the number of true positives and fn the number of false negatives. The recall is intuitively the ability of the classifier to find all the positive samples.\n",
    "\n",
    "The best value is 1 and the worst value is 0."
   ]
  },
  {
   "cell_type": "code",
   "execution_count": 93,
   "metadata": {
    "colab": {},
    "colab_type": "code",
    "id": "XjigXG56qGe9"
   },
   "outputs": [],
   "source": [
    "from sklearn.metrics import recall_score"
   ]
  },
  {
   "cell_type": "code",
   "execution_count": 94,
   "metadata": {
    "colab": {},
    "colab_type": "code",
    "id": "buu1n6O3qGe_"
   },
   "outputs": [
    {
     "name": "stdout",
     "output_type": "stream",
     "text": [
      "0.782608695652174\n"
     ]
    }
   ],
   "source": [
    "print(recall_score(y_test,predict))"
   ]
  },
  {
   "cell_type": "markdown",
   "metadata": {
    "colab_type": "text",
    "id": "XBU67SX3qGfA"
   },
   "source": [
    "#### f1_score"
   ]
  },
  {
   "cell_type": "markdown",
   "metadata": {
    "colab_type": "text",
    "id": "HDraVqivqGfA"
   },
   "source": [
    "The F1 score can be interpreted as a weighted average of the precision and recall, where an F1 score reaches its best value at 1 and worst score at 0. The relative contribution of precision and recall to the F1 score are equal. The formula for the F1 score is:\n",
    "                F1 = 2 \\* (precision \\* recall) / (precision + recall)"
   ]
  },
  {
   "cell_type": "code",
   "execution_count": 95,
   "metadata": {
    "colab": {},
    "colab_type": "code",
    "id": "9R8FIjtdqGfA"
   },
   "outputs": [],
   "source": [
    "from sklearn.metrics import f1_score"
   ]
  },
  {
   "cell_type": "code",
   "execution_count": 96,
   "metadata": {
    "colab": {},
    "colab_type": "code",
    "id": "8gI5gjbLqGfC"
   },
   "outputs": [
    {
     "name": "stdout",
     "output_type": "stream",
     "text": [
      "0.7659574468085107\n"
     ]
    }
   ],
   "source": [
    "print(f1_score(y_test,predict))"
   ]
  },
  {
   "cell_type": "markdown",
   "metadata": {
    "colab_type": "text",
    "id": "t9YzG2swqGfF"
   },
   "source": [
    "To get all the above metrics at one go, use the following function:"
   ]
  },
  {
   "cell_type": "code",
   "execution_count": 97,
   "metadata": {
    "colab": {},
    "colab_type": "code",
    "id": "cUCMnocIqGfF"
   },
   "outputs": [],
   "source": [
    "from sklearn.metrics import classification_report"
   ]
  },
  {
   "cell_type": "code",
   "execution_count": 98,
   "metadata": {
    "colab": {},
    "colab_type": "code",
    "id": "WpCBr2d2qGfG"
   },
   "outputs": [
    {
     "name": "stdout",
     "output_type": "stream",
     "text": [
      "              precision    recall  f1-score   support\n",
      "\n",
      "           0       0.86      0.83      0.85       109\n",
      "           1       0.75      0.78      0.77        69\n",
      "\n",
      "    accuracy                           0.81       178\n",
      "   macro avg       0.80      0.81      0.81       178\n",
      "weighted avg       0.82      0.81      0.82       178\n",
      "\n"
     ]
    }
   ],
   "source": [
    "print(classification_report(y_test,predict))"
   ]
  },
  {
   "cell_type": "markdown",
   "metadata": {
    "colab_type": "text",
    "id": "T_fkmW6Lr5sc"
   },
   "source": [
    "# Step 7: Launch, Monitor, and Maintain Your System"
   ]
  },
  {
   "cell_type": "markdown",
   "metadata": {
    "colab_type": "text",
    "id": "8jw68DIRqGfH"
   },
   "source": [
    "## Prediction on Challenge Data From Kaggle"
   ]
  },
  {
   "cell_type": "markdown",
   "metadata": {
    "colab_type": "text",
    "id": "-DBlDCCATaTo"
   },
   "source": [
    "## Step 7-2: Acquire the Challenge Data"
   ]
  },
  {
   "cell_type": "markdown",
   "metadata": {
    "colab_type": "text",
    "id": "0OnJTW2xX7s8"
   },
   "source": [
    "Recall that we already downloaded this data in step 2, under the dataframe named `challenge`.  Refresh ourselves here by looking at the data.  \n",
    "\n",
    "*Note that Kaggle calls this dataset `test` but it was renamed to `challenge` to avoid confusion with the train/test split in previous steps.*"
   ]
  },
  {
   "cell_type": "markdown",
   "metadata": {
    "colab_type": "text",
    "id": "Q0pAbkopYxlg"
   },
   "source": [
    "## Step 7-3: EDA"
   ]
  },
  {
   "cell_type": "markdown",
   "metadata": {
    "colab_type": "text",
    "id": "1c-B4fYy7FTA"
   },
   "source": [
    "#### 7-3A) Run ms.matrix and .info() on the challenge dataset"
   ]
  },
  {
   "cell_type": "code",
   "execution_count": 99,
   "metadata": {
    "colab": {},
    "colab_type": "code",
    "id": "vNf6DKNSZ0Y2"
   },
   "outputs": [
    {
     "name": "stdout",
     "output_type": "stream",
     "text": [
      "<class 'pandas.core.frame.DataFrame'>\n",
      "Int64Index: 418 entries, 892 to 1309\n",
      "Data columns (total 10 columns):\n",
      " #   Column  Non-Null Count  Dtype  \n",
      "---  ------  --------------  -----  \n",
      " 0   Pclass  418 non-null    int64  \n",
      " 1   Sex     418 non-null    uint8  \n",
      " 2   Age     418 non-null    float64\n",
      " 3   SibSp   418 non-null    int64  \n",
      " 4   Parch   418 non-null    int64  \n",
      " 5   Fare    417 non-null    float64\n",
      " 6   Deck    418 non-null    int64  \n",
      " 7   C       418 non-null    uint8  \n",
      " 8   Q       418 non-null    uint8  \n",
      " 9   S       418 non-null    uint8  \n",
      "dtypes: float64(2), int64(4), uint8(4)\n",
      "memory usage: 24.5 KB\n"
     ]
    }
   ],
   "source": [
    "challenge.info()"
   ]
  },
  {
   "cell_type": "code",
   "execution_count": 100,
   "metadata": {
    "colab": {},
    "colab_type": "code",
    "id": "5KXweK9jWex1"
   },
   "outputs": [
    {
     "data": {
      "text/plain": [
       "<matplotlib.axes._subplots.AxesSubplot at 0x1a1e818190>"
      ]
     },
     "execution_count": 100,
     "metadata": {},
     "output_type": "execute_result"
    },
    {
     "data": {
      "image/png": "[encoded data removed]",
      "text/plain": [
       "<Figure size 1800x720 with 2 Axes>"
      ]
     },
     "metadata": {},
     "output_type": "display_data"
    }
   ],
   "source": [
    "ms.matrix(challenge)"
   ]
  },
  {
   "cell_type": "code",
   "execution_count": 101,
   "metadata": {},
   "outputs": [
    {
     "data": {
      "text/html": [
       "<div>\n",
       "<style scoped>\n",
       "    .dataframe tbody tr th:only-of-type {\n",
       "        vertical-align: middle;\n",
       "    }\n",
       "\n",
       "    .dataframe tbody tr th {\n",
       "        vertical-align: top;\n",
       "    }\n",
       "\n",
       "    .dataframe thead th {\n",
       "        text-align: right;\n",
       "    }\n",
       "</style>\n",
       "<table border=\"1\" class=\"dataframe\">\n",
       "  <thead>\n",
       "    <tr style=\"text-align: right;\">\n",
       "      <th></th>\n",
       "      <th>Pclass</th>\n",
       "      <th>Sex</th>\n",
       "      <th>Age</th>\n",
       "      <th>SibSp</th>\n",
       "      <th>Parch</th>\n",
       "      <th>Fare</th>\n",
       "      <th>Deck</th>\n",
       "      <th>C</th>\n",
       "      <th>Q</th>\n",
       "      <th>S</th>\n",
       "    </tr>\n",
       "    <tr>\n",
       "      <th>PassengerId</th>\n",
       "      <th></th>\n",
       "      <th></th>\n",
       "      <th></th>\n",
       "      <th></th>\n",
       "      <th></th>\n",
       "      <th></th>\n",
       "      <th></th>\n",
       "      <th></th>\n",
       "      <th></th>\n",
       "      <th></th>\n",
       "    </tr>\n",
       "  </thead>\n",
       "  <tbody>\n",
       "    <tr>\n",
       "      <th>892</th>\n",
       "      <td>3</td>\n",
       "      <td>1</td>\n",
       "      <td>34.5</td>\n",
       "      <td>0</td>\n",
       "      <td>0</td>\n",
       "      <td>7.8292</td>\n",
       "      <td>8</td>\n",
       "      <td>0</td>\n",
       "      <td>1</td>\n",
       "      <td>0</td>\n",
       "    </tr>\n",
       "    <tr>\n",
       "      <th>893</th>\n",
       "      <td>3</td>\n",
       "      <td>0</td>\n",
       "      <td>47.0</td>\n",
       "      <td>1</td>\n",
       "      <td>0</td>\n",
       "      <td>7.0000</td>\n",
       "      <td>8</td>\n",
       "      <td>0</td>\n",
       "      <td>0</td>\n",
       "      <td>1</td>\n",
       "    </tr>\n",
       "    <tr>\n",
       "      <th>894</th>\n",
       "      <td>2</td>\n",
       "      <td>1</td>\n",
       "      <td>62.0</td>\n",
       "      <td>0</td>\n",
       "      <td>0</td>\n",
       "      <td>9.6875</td>\n",
       "      <td>8</td>\n",
       "      <td>0</td>\n",
       "      <td>1</td>\n",
       "      <td>0</td>\n",
       "    </tr>\n",
       "    <tr>\n",
       "      <th>895</th>\n",
       "      <td>3</td>\n",
       "      <td>1</td>\n",
       "      <td>27.0</td>\n",
       "      <td>0</td>\n",
       "      <td>0</td>\n",
       "      <td>8.6625</td>\n",
       "      <td>8</td>\n",
       "      <td>0</td>\n",
       "      <td>0</td>\n",
       "      <td>1</td>\n",
       "    </tr>\n",
       "    <tr>\n",
       "      <th>896</th>\n",
       "      <td>3</td>\n",
       "      <td>0</td>\n",
       "      <td>22.0</td>\n",
       "      <td>1</td>\n",
       "      <td>1</td>\n",
       "      <td>12.2875</td>\n",
       "      <td>8</td>\n",
       "      <td>0</td>\n",
       "      <td>0</td>\n",
       "      <td>1</td>\n",
       "    </tr>\n",
       "  </tbody>\n",
       "</table>\n",
       "</div>"
      ],
      "text/plain": [
       "             Pclass  Sex   Age  SibSp  Parch     Fare  Deck  C  Q  S\n",
       "PassengerId                                                         \n",
       "892               3    1  34.5      0      0   7.8292     8  0  1  0\n",
       "893               3    0  47.0      1      0   7.0000     8  0  0  1\n",
       "894               2    1  62.0      0      0   9.6875     8  0  1  0\n",
       "895               3    1  27.0      0      0   8.6625     8  0  0  1\n",
       "896               3    0  22.0      1      1  12.2875     8  0  0  1"
      ]
     },
     "execution_count": 101,
     "metadata": {},
     "output_type": "execute_result"
    }
   ],
   "source": [
    "challenge.head()"
   ]
  },
  {
   "cell_type": "markdown",
   "metadata": {
    "colab_type": "text",
    "id": "rQum5uxUY14G"
   },
   "source": [
    "## Step 7-4: Data Wrangling"
   ]
  },
  {
   "cell_type": "markdown",
   "metadata": {
    "colab_type": "text",
    "id": "chVX6DIMZ8sD"
   },
   "source": [
    "We will need to perform the same data wrangling on the challenge data that we did previously on the train data."
   ]
  },
  {
   "cell_type": "markdown",
   "metadata": {
    "colab_type": "text",
    "id": "ktCVvFh8c4mW"
   },
   "source": [
    "#### Data Wrangling to be completed:\n",
    "- Drop any columns that cannot be converted to numeric (Name, Ticket)\n",
    "- Fill or drop missing values (Age, Fare, Cabin)\n",
    "- Convert categorical values to numerical (Sex, Embarked)\n"
   ]
  },
  {
   "cell_type": "markdown",
   "metadata": {
    "colab_type": "text",
    "id": "LmIODfqmeNDw"
   },
   "source": [
    "#### 7-4A) Drop any columns that cannot be converted to numeric (Name, Ticket)"
   ]
  },
  {
   "cell_type": "code",
   "execution_count": 102,
   "metadata": {
    "colab": {},
    "colab_type": "code",
    "id": "5H_j66AdhuEh"
   },
   "outputs": [],
   "source": [
    "# done above"
   ]
  },
  {
   "cell_type": "markdown",
   "metadata": {
    "colab_type": "text",
    "id": "mrJ-ICqyeD4c"
   },
   "source": [
    "#### 7-4B) Fill or drop missing values (Age, Fare, Cabin)"
   ]
  },
  {
   "cell_type": "markdown",
   "metadata": {
    "colab_type": "text",
    "id": "UPgXpnB3fEtf"
   },
   "source": [
    "##### Cabin"
   ]
  },
  {
   "cell_type": "code",
   "execution_count": 103,
   "metadata": {
    "colab": {},
    "colab_type": "code",
    "id": "DKBHnLkLeWa3"
   },
   "outputs": [],
   "source": [
    "# done above"
   ]
  },
  {
   "cell_type": "markdown",
   "metadata": {
    "colab_type": "text",
    "id": "n8VoI6y6fIcU"
   },
   "source": [
    "##### Fare"
   ]
  },
  {
   "cell_type": "code",
   "execution_count": 104,
   "metadata": {
    "colab": {},
    "colab_type": "code",
    "id": "wC2tv7ofegSx"
   },
   "outputs": [],
   "source": [
    "combined['Fare'].mean()\n",
    "challenge[\"Fare\"] = challenge['Fare'].fillna(33)"
   ]
  },
  {
   "cell_type": "markdown",
   "metadata": {
    "colab_type": "text",
    "id": "RWhDpCWnfKrX"
   },
   "source": [
    "##### Age"
   ]
  },
  {
   "cell_type": "code",
   "execution_count": 105,
   "metadata": {
    "colab": {},
    "colab_type": "code",
    "id": "bLhtTcnYfDbE"
   },
   "outputs": [],
   "source": [
    "# done above"
   ]
  },
  {
   "cell_type": "markdown",
   "metadata": {
    "colab_type": "text",
    "id": "EBeCt-MmeKiS"
   },
   "source": [
    "#### 7-4C) Convert categorical values to numerical (Sex, Embarked)"
   ]
  },
  {
   "cell_type": "markdown",
   "metadata": {
    "colab_type": "text",
    "id": "uRSl2PJ8fk4d"
   },
   "source": [
    "##### Sex"
   ]
  },
  {
   "cell_type": "code",
   "execution_count": 106,
   "metadata": {
    "colab": {},
    "colab_type": "code",
    "id": "9-Iy_E_yfpQ5"
   },
   "outputs": [],
   "source": [
    "# done above"
   ]
  },
  {
   "cell_type": "markdown",
   "metadata": {
    "colab_type": "text",
    "id": "0jESvCFefmpb"
   },
   "source": [
    "##### Embarked"
   ]
  },
  {
   "cell_type": "code",
   "execution_count": 107,
   "metadata": {
    "colab": {},
    "colab_type": "code",
    "id": "Hr_btMb0iBSU"
   },
   "outputs": [],
   "source": [
    "# done above"
   ]
  },
  {
   "cell_type": "markdown",
   "metadata": {
    "colab_type": "text",
    "id": "i8ElBIcR7ewM"
   },
   "source": [
    "#### 7-4D) All data should be cleaned up and changed to numerical now.  Run .info() and .describe() to verify and get a feel for the data."
   ]
  },
  {
   "cell_type": "code",
   "execution_count": 108,
   "metadata": {
    "colab": {},
    "colab_type": "code",
    "id": "cQOBM_1Pik9O"
   },
   "outputs": [
    {
     "name": "stdout",
     "output_type": "stream",
     "text": [
      "<class 'pandas.core.frame.DataFrame'>\n",
      "Int64Index: 418 entries, 892 to 1309\n",
      "Data columns (total 10 columns):\n",
      " #   Column  Non-Null Count  Dtype  \n",
      "---  ------  --------------  -----  \n",
      " 0   Pclass  418 non-null    int64  \n",
      " 1   Sex     418 non-null    uint8  \n",
      " 2   Age     418 non-null    float64\n",
      " 3   SibSp   418 non-null    int64  \n",
      " 4   Parch   418 non-null    int64  \n",
      " 5   Fare    418 non-null    float64\n",
      " 6   Deck    418 non-null    int64  \n",
      " 7   C       418 non-null    uint8  \n",
      " 8   Q       418 non-null    uint8  \n",
      " 9   S       418 non-null    uint8  \n",
      "dtypes: float64(2), int64(4), uint8(4)\n",
      "memory usage: 24.5 KB\n"
     ]
    }
   ],
   "source": [
    "challenge.info()"
   ]
  },
  {
   "cell_type": "code",
   "execution_count": 109,
   "metadata": {
    "colab": {},
    "colab_type": "code",
    "id": "5KawUwuqiujp"
   },
   "outputs": [
    {
     "data": {
      "text/html": [
       "<div>\n",
       "<style scoped>\n",
       "    .dataframe tbody tr th:only-of-type {\n",
       "        vertical-align: middle;\n",
       "    }\n",
       "\n",
       "    .dataframe tbody tr th {\n",
       "        vertical-align: top;\n",
       "    }\n",
       "\n",
       "    .dataframe thead th {\n",
       "        text-align: right;\n",
       "    }\n",
       "</style>\n",
       "<table border=\"1\" class=\"dataframe\">\n",
       "  <thead>\n",
       "    <tr style=\"text-align: right;\">\n",
       "      <th></th>\n",
       "      <th>Pclass</th>\n",
       "      <th>Sex</th>\n",
       "      <th>Age</th>\n",
       "      <th>SibSp</th>\n",
       "      <th>Parch</th>\n",
       "      <th>Fare</th>\n",
       "      <th>Deck</th>\n",
       "      <th>C</th>\n",
       "      <th>Q</th>\n",
       "      <th>S</th>\n",
       "    </tr>\n",
       "  </thead>\n",
       "  <tbody>\n",
       "    <tr>\n",
       "      <th>count</th>\n",
       "      <td>418.000000</td>\n",
       "      <td>418.000000</td>\n",
       "      <td>418.000000</td>\n",
       "      <td>418.000000</td>\n",
       "      <td>418.000000</td>\n",
       "      <td>418.000000</td>\n",
       "      <td>418.000000</td>\n",
       "      <td>418.000000</td>\n",
       "      <td>418.000000</td>\n",
       "      <td>418.000000</td>\n",
       "    </tr>\n",
       "    <tr>\n",
       "      <th>mean</th>\n",
       "      <td>2.265550</td>\n",
       "      <td>0.636364</td>\n",
       "      <td>29.549043</td>\n",
       "      <td>0.447368</td>\n",
       "      <td>0.392344</td>\n",
       "      <td>35.620903</td>\n",
       "      <td>6.976077</td>\n",
       "      <td>0.244019</td>\n",
       "      <td>0.110048</td>\n",
       "      <td>0.645933</td>\n",
       "    </tr>\n",
       "    <tr>\n",
       "      <th>std</th>\n",
       "      <td>0.841838</td>\n",
       "      <td>0.481622</td>\n",
       "      <td>12.866682</td>\n",
       "      <td>0.896760</td>\n",
       "      <td>0.981429</td>\n",
       "      <td>55.840648</td>\n",
       "      <td>2.048431</td>\n",
       "      <td>0.430019</td>\n",
       "      <td>0.313324</td>\n",
       "      <td>0.478803</td>\n",
       "    </tr>\n",
       "    <tr>\n",
       "      <th>min</th>\n",
       "      <td>1.000000</td>\n",
       "      <td>0.000000</td>\n",
       "      <td>0.170000</td>\n",
       "      <td>0.000000</td>\n",
       "      <td>0.000000</td>\n",
       "      <td>0.000000</td>\n",
       "      <td>1.000000</td>\n",
       "      <td>0.000000</td>\n",
       "      <td>0.000000</td>\n",
       "      <td>0.000000</td>\n",
       "    </tr>\n",
       "    <tr>\n",
       "      <th>25%</th>\n",
       "      <td>1.000000</td>\n",
       "      <td>0.000000</td>\n",
       "      <td>23.000000</td>\n",
       "      <td>0.000000</td>\n",
       "      <td>0.000000</td>\n",
       "      <td>7.895800</td>\n",
       "      <td>8.000000</td>\n",
       "      <td>0.000000</td>\n",
       "      <td>0.000000</td>\n",
       "      <td>0.000000</td>\n",
       "    </tr>\n",
       "    <tr>\n",
       "      <th>50%</th>\n",
       "      <td>3.000000</td>\n",
       "      <td>1.000000</td>\n",
       "      <td>25.000000</td>\n",
       "      <td>0.000000</td>\n",
       "      <td>0.000000</td>\n",
       "      <td>14.454200</td>\n",
       "      <td>8.000000</td>\n",
       "      <td>0.000000</td>\n",
       "      <td>0.000000</td>\n",
       "      <td>1.000000</td>\n",
       "    </tr>\n",
       "    <tr>\n",
       "      <th>75%</th>\n",
       "      <td>3.000000</td>\n",
       "      <td>1.000000</td>\n",
       "      <td>36.375000</td>\n",
       "      <td>1.000000</td>\n",
       "      <td>0.000000</td>\n",
       "      <td>31.500000</td>\n",
       "      <td>8.000000</td>\n",
       "      <td>0.000000</td>\n",
       "      <td>0.000000</td>\n",
       "      <td>1.000000</td>\n",
       "    </tr>\n",
       "    <tr>\n",
       "      <th>max</th>\n",
       "      <td>3.000000</td>\n",
       "      <td>1.000000</td>\n",
       "      <td>76.000000</td>\n",
       "      <td>8.000000</td>\n",
       "      <td>9.000000</td>\n",
       "      <td>512.329200</td>\n",
       "      <td>8.000000</td>\n",
       "      <td>1.000000</td>\n",
       "      <td>1.000000</td>\n",
       "      <td>1.000000</td>\n",
       "    </tr>\n",
       "  </tbody>\n",
       "</table>\n",
       "</div>"
      ],
      "text/plain": [
       "           Pclass         Sex         Age       SibSp       Parch        Fare  \\\n",
       "count  418.000000  418.000000  418.000000  418.000000  418.000000  418.000000   \n",
       "mean     2.265550    0.636364   29.549043    0.447368    0.392344   35.620903   \n",
       "std      0.841838    0.481622   12.866682    0.896760    0.981429   55.840648   \n",
       "min      1.000000    0.000000    0.170000    0.000000    0.000000    0.000000   \n",
       "25%      1.000000    0.000000   23.000000    0.000000    0.000000    7.895800   \n",
       "50%      3.000000    1.000000   25.000000    0.000000    0.000000   14.454200   \n",
       "75%      3.000000    1.000000   36.375000    1.000000    0.000000   31.500000   \n",
       "max      3.000000    1.000000   76.000000    8.000000    9.000000  512.329200   \n",
       "\n",
       "             Deck           C           Q           S  \n",
       "count  418.000000  418.000000  418.000000  418.000000  \n",
       "mean     6.976077    0.244019    0.110048    0.645933  \n",
       "std      2.048431    0.430019    0.313324    0.478803  \n",
       "min      1.000000    0.000000    0.000000    0.000000  \n",
       "25%      8.000000    0.000000    0.000000    0.000000  \n",
       "50%      8.000000    0.000000    0.000000    1.000000  \n",
       "75%      8.000000    0.000000    0.000000    1.000000  \n",
       "max      8.000000    1.000000    1.000000    1.000000  "
      ]
     },
     "execution_count": 109,
     "metadata": {},
     "output_type": "execute_result"
    }
   ],
   "source": [
    "challenge.describe()"
   ]
  },
  {
   "cell_type": "markdown",
   "metadata": {
    "colab_type": "text",
    "id": "8gg4CShoZA15"
   },
   "source": [
    "## Step 7-5: Apply the ML Model We Trained in Step 5"
   ]
  },
  {
   "cell_type": "markdown",
   "metadata": {
    "colab_type": "text",
    "id": "mIVhqQ5XjPWU"
   },
   "source": [
    "As with step 5, just follow along with this step, getting a high level understanding of the process, with the understanding to dive into the details in the future."
   ]
  },
  {
   "cell_type": "markdown",
   "metadata": {
    "colab_type": "text",
    "id": "ZOmyjE7sA7MK"
   },
   "source": [
    "#### Use the .predict() function on your model to predict survival rates, then look at the data held in the variable"
   ]
  },
  {
   "cell_type": "code",
   "execution_count": 110,
   "metadata": {
    "colab": {},
    "colab_type": "code",
    "id": "Y8skytdqaR8t"
   },
   "outputs": [
    {
     "data": {
      "text/plain": [
       "array([0, 0, 0, 0, 1, 0, 1, 0, 1, 0, 0, 0, 1, 0, 1, 1, 0, 0, 1, 1, 0, 0,\n",
       "       1, 1, 1, 0, 1, 0, 0, 0, 0, 0, 0, 1, 1, 0, 1, 1, 0, 0, 0, 0, 0, 1,\n",
       "       1, 0, 1, 0, 1, 0, 1, 0, 1, 1, 0, 0, 0, 0, 0, 1, 0, 0, 0, 1, 1, 1,\n",
       "       1, 0, 1, 1, 1, 0, 1, 1, 1, 1, 0, 1, 0, 1, 0, 0, 0, 0, 0, 0, 1, 1,\n",
       "       1, 0, 1, 0, 1, 0, 1, 0, 1, 0, 1, 0, 1, 0, 0, 0, 1, 0, 0, 0, 0, 0,\n",
       "       0, 1, 1, 1, 1, 0, 0, 1, 1, 1, 1, 0, 1, 0, 0, 1, 0, 1, 0, 0, 0, 0,\n",
       "       1, 0, 0, 0, 0, 0, 1, 0, 0, 1, 0, 0, 0, 0, 0, 0, 0, 0, 1, 0, 0, 0,\n",
       "       0, 0, 1, 1, 0, 1, 1, 0, 1, 0, 0, 1, 0, 0, 1, 1, 0, 0, 0, 0, 0, 1,\n",
       "       1, 0, 1, 1, 0, 0, 1, 0, 1, 0, 1, 0, 0, 0, 0, 0, 0, 0, 0, 0, 1, 1,\n",
       "       0, 1, 1, 0, 0, 1, 0, 0, 1, 0, 1, 0, 0, 0, 0, 0, 0, 0, 1, 0, 1, 0,\n",
       "       1, 0, 1, 0, 1, 1, 0, 1, 0, 0, 0, 1, 0, 0, 0, 0, 0, 0, 1, 1, 1, 1,\n",
       "       0, 0, 0, 0, 1, 0, 1, 1, 1, 0, 1, 0, 0, 0, 0, 0, 1, 0, 0, 0, 1, 1,\n",
       "       0, 0, 0, 0, 1, 0, 0, 0, 1, 1, 0, 1, 0, 0, 0, 0, 1, 0, 1, 1, 1, 0,\n",
       "       0, 1, 0, 0, 0, 1, 0, 0, 0, 0, 1, 0, 0, 0, 0, 0, 0, 0, 1, 1, 0, 0,\n",
       "       0, 0, 0, 0, 0, 1, 1, 1, 0, 0, 0, 0, 0, 0, 0, 0, 1, 0, 1, 0, 0, 0,\n",
       "       1, 1, 0, 1, 0, 1, 0, 0, 0, 0, 0, 0, 0, 1, 0, 1, 0, 1, 0, 1, 1, 0,\n",
       "       0, 0, 1, 0, 1, 0, 0, 0, 0, 1, 1, 0, 1, 0, 0, 1, 1, 0, 0, 1, 0, 0,\n",
       "       1, 1, 0, 0, 0, 0, 0, 0, 1, 1, 0, 1, 0, 0, 0, 0, 1, 1, 0, 0, 0, 1,\n",
       "       0, 1, 0, 0, 1, 0, 1, 1, 0, 1, 0, 0, 1, 1, 1, 1, 1, 0, 1, 0, 0, 0])"
      ]
     },
     "execution_count": 110,
     "metadata": {},
     "output_type": "execute_result"
    }
   ],
   "source": [
    "predict_challenge=logmodel.predict(challenge)\n",
    "predict_challenge"
   ]
  },
  {
   "cell_type": "markdown",
   "metadata": {
    "colab_type": "text",
    "id": "Jgn63TMUB7Wr"
   },
   "source": [
    "#### 7-5A) Convert `predict_challenge` into a DataFrame called `predictdf`, then look at the first 5 records."
   ]
  },
  {
   "cell_type": "code",
   "execution_count": 111,
   "metadata": {
    "colab": {},
    "colab_type": "code",
    "id": "nAMzCuvRCA68"
   },
   "outputs": [
    {
     "data": {
      "text/html": [
       "<div>\n",
       "<style scoped>\n",
       "    .dataframe tbody tr th:only-of-type {\n",
       "        vertical-align: middle;\n",
       "    }\n",
       "\n",
       "    .dataframe tbody tr th {\n",
       "        vertical-align: top;\n",
       "    }\n",
       "\n",
       "    .dataframe thead th {\n",
       "        text-align: right;\n",
       "    }\n",
       "</style>\n",
       "<table border=\"1\" class=\"dataframe\">\n",
       "  <thead>\n",
       "    <tr style=\"text-align: right;\">\n",
       "      <th></th>\n",
       "      <th>0</th>\n",
       "    </tr>\n",
       "  </thead>\n",
       "  <tbody>\n",
       "    <tr>\n",
       "      <th>0</th>\n",
       "      <td>0</td>\n",
       "    </tr>\n",
       "    <tr>\n",
       "      <th>1</th>\n",
       "      <td>0</td>\n",
       "    </tr>\n",
       "    <tr>\n",
       "      <th>2</th>\n",
       "      <td>0</td>\n",
       "    </tr>\n",
       "    <tr>\n",
       "      <th>3</th>\n",
       "      <td>0</td>\n",
       "    </tr>\n",
       "    <tr>\n",
       "      <th>4</th>\n",
       "      <td>1</td>\n",
       "    </tr>\n",
       "  </tbody>\n",
       "</table>\n",
       "</div>"
      ],
      "text/plain": [
       "   0\n",
       "0  0\n",
       "1  0\n",
       "2  0\n",
       "3  0\n",
       "4  1"
      ]
     },
     "execution_count": 111,
     "metadata": {},
     "output_type": "execute_result"
    }
   ],
   "source": [
    "predictdf = pd.DataFrame(predict_challenge)\n",
    "predictdf.head()"
   ]
  },
  {
   "cell_type": "markdown",
   "metadata": {
    "colab_type": "text",
    "id": "WcHRybJsCVdF"
   },
   "source": [
    "#### 7-5B) Rename the column header to `Survived`, then look at the first 3 records to confirm."
   ]
  },
  {
   "cell_type": "code",
   "execution_count": 112,
   "metadata": {
    "colab": {},
    "colab_type": "code",
    "id": "qVqcBBCFCkW1"
   },
   "outputs": [
    {
     "data": {
      "text/html": [
       "<div>\n",
       "<style scoped>\n",
       "    .dataframe tbody tr th:only-of-type {\n",
       "        vertical-align: middle;\n",
       "    }\n",
       "\n",
       "    .dataframe tbody tr th {\n",
       "        vertical-align: top;\n",
       "    }\n",
       "\n",
       "    .dataframe thead th {\n",
       "        text-align: right;\n",
       "    }\n",
       "</style>\n",
       "<table border=\"1\" class=\"dataframe\">\n",
       "  <thead>\n",
       "    <tr style=\"text-align: right;\">\n",
       "      <th></th>\n",
       "      <th>Survived</th>\n",
       "    </tr>\n",
       "  </thead>\n",
       "  <tbody>\n",
       "    <tr>\n",
       "      <th>0</th>\n",
       "      <td>0</td>\n",
       "    </tr>\n",
       "    <tr>\n",
       "      <th>1</th>\n",
       "      <td>0</td>\n",
       "    </tr>\n",
       "    <tr>\n",
       "      <th>2</th>\n",
       "      <td>0</td>\n",
       "    </tr>\n",
       "    <tr>\n",
       "      <th>3</th>\n",
       "      <td>0</td>\n",
       "    </tr>\n",
       "    <tr>\n",
       "      <th>4</th>\n",
       "      <td>1</td>\n",
       "    </tr>\n",
       "  </tbody>\n",
       "</table>\n",
       "</div>"
      ],
      "text/plain": [
       "   Survived\n",
       "0         0\n",
       "1         0\n",
       "2         0\n",
       "3         0\n",
       "4         1"
      ]
     },
     "execution_count": 112,
     "metadata": {},
     "output_type": "execute_result"
    }
   ],
   "source": [
    "predictdf = predictdf.rename(columns={0:\"Survived\"})\n",
    "predictdf.head()"
   ]
  },
  {
   "cell_type": "code",
   "execution_count": 113,
   "metadata": {},
   "outputs": [
    {
     "name": "stdout",
     "output_type": "stream",
     "text": [
      "<class 'pandas.core.frame.DataFrame'>\n",
      "RangeIndex: 418 entries, 0 to 417\n",
      "Data columns (total 1 columns):\n",
      " #   Column    Non-Null Count  Dtype\n",
      "---  ------    --------------  -----\n",
      " 0   Survived  418 non-null    int64\n",
      "dtypes: int64(1)\n",
      "memory usage: 3.4 KB\n"
     ]
    }
   ],
   "source": [
    "predictdf.info()"
   ]
  },
  {
   "cell_type": "markdown",
   "metadata": {
    "colab_type": "text",
    "id": "Imb_fSkLEesq"
   },
   "source": [
    "#### 7-5C) Add the `PassengerId` column to the `predictdf` dataframe and make it the index.  Look at first 3 records to confirm"
   ]
  },
  {
   "cell_type": "code",
   "execution_count": 114,
   "metadata": {
    "colab": {},
    "colab_type": "code",
    "id": "VNS6b6CIEles"
   },
   "outputs": [
    {
     "data": {
      "text/html": [
       "<div>\n",
       "<style scoped>\n",
       "    .dataframe tbody tr th:only-of-type {\n",
       "        vertical-align: middle;\n",
       "    }\n",
       "\n",
       "    .dataframe tbody tr th {\n",
       "        vertical-align: top;\n",
       "    }\n",
       "\n",
       "    .dataframe thead th {\n",
       "        text-align: right;\n",
       "    }\n",
       "</style>\n",
       "<table border=\"1\" class=\"dataframe\">\n",
       "  <thead>\n",
       "    <tr style=\"text-align: right;\">\n",
       "      <th></th>\n",
       "      <th>Survived</th>\n",
       "    </tr>\n",
       "    <tr>\n",
       "      <th>PassengerId</th>\n",
       "      <th></th>\n",
       "    </tr>\n",
       "  </thead>\n",
       "  <tbody>\n",
       "    <tr>\n",
       "      <th>892</th>\n",
       "      <td>0</td>\n",
       "    </tr>\n",
       "    <tr>\n",
       "      <th>893</th>\n",
       "      <td>0</td>\n",
       "    </tr>\n",
       "    <tr>\n",
       "      <th>894</th>\n",
       "      <td>0</td>\n",
       "    </tr>\n",
       "    <tr>\n",
       "      <th>895</th>\n",
       "      <td>0</td>\n",
       "    </tr>\n",
       "    <tr>\n",
       "      <th>896</th>\n",
       "      <td>1</td>\n",
       "    </tr>\n",
       "    <tr>\n",
       "      <th>...</th>\n",
       "      <td>...</td>\n",
       "    </tr>\n",
       "    <tr>\n",
       "      <th>1305</th>\n",
       "      <td>0</td>\n",
       "    </tr>\n",
       "    <tr>\n",
       "      <th>1306</th>\n",
       "      <td>1</td>\n",
       "    </tr>\n",
       "    <tr>\n",
       "      <th>1307</th>\n",
       "      <td>0</td>\n",
       "    </tr>\n",
       "    <tr>\n",
       "      <th>1308</th>\n",
       "      <td>0</td>\n",
       "    </tr>\n",
       "    <tr>\n",
       "      <th>1309</th>\n",
       "      <td>0</td>\n",
       "    </tr>\n",
       "  </tbody>\n",
       "</table>\n",
       "<p>418 rows × 1 columns</p>\n",
       "</div>"
      ],
      "text/plain": [
       "             Survived\n",
       "PassengerId          \n",
       "892                 0\n",
       "893                 0\n",
       "894                 0\n",
       "895                 0\n",
       "896                 1\n",
       "...               ...\n",
       "1305                0\n",
       "1306                1\n",
       "1307                0\n",
       "1308                0\n",
       "1309                0\n",
       "\n",
       "[418 rows x 1 columns]"
      ]
     },
     "execution_count": 114,
     "metadata": {},
     "output_type": "execute_result"
    }
   ],
   "source": [
    "predictdf['PassengerId'] = challenge.index\n",
    "predictdf.set_index('PassengerId', inplace=True)\n",
    "predictdf"
   ]
  },
  {
   "cell_type": "markdown",
   "metadata": {
    "colab_type": "text",
    "id": "aSltzbeSDBu5"
   },
   "source": [
    "#### 7-5D) Concatenate the `challenge` and `predictdf` dataframes into a new dataframe called `results`, then look at the first 3 records and last 3 records for confirmation."
   ]
  },
  {
   "cell_type": "code",
   "execution_count": 115,
   "metadata": {
    "colab": {},
    "colab_type": "code",
    "id": "Wc-VVMB9qGfh"
   },
   "outputs": [],
   "source": [
    "results = pd.concat([challenge, predictdf], axis=1)"
   ]
  },
  {
   "cell_type": "code",
   "execution_count": 116,
   "metadata": {
    "colab": {},
    "colab_type": "code",
    "id": "w6Dc8kGhEG1J"
   },
   "outputs": [
    {
     "name": "stdout",
     "output_type": "stream",
     "text": [
      "<class 'pandas.core.frame.DataFrame'>\n",
      "Int64Index: 418 entries, 892 to 1309\n",
      "Data columns (total 11 columns):\n",
      " #   Column    Non-Null Count  Dtype  \n",
      "---  ------    --------------  -----  \n",
      " 0   Pclass    418 non-null    int64  \n",
      " 1   Sex       418 non-null    uint8  \n",
      " 2   Age       418 non-null    float64\n",
      " 3   SibSp     418 non-null    int64  \n",
      " 4   Parch     418 non-null    int64  \n",
      " 5   Fare      418 non-null    float64\n",
      " 6   Deck      418 non-null    int64  \n",
      " 7   C         418 non-null    uint8  \n",
      " 8   Q         418 non-null    uint8  \n",
      " 9   S         418 non-null    uint8  \n",
      " 10  Survived  418 non-null    int64  \n",
      "dtypes: float64(2), int64(5), uint8(4)\n",
      "memory usage: 27.8 KB\n"
     ]
    }
   ],
   "source": [
    "results.info()"
   ]
  },
  {
   "cell_type": "code",
   "execution_count": 117,
   "metadata": {},
   "outputs": [
    {
     "data": {
      "text/html": [
       "<div>\n",
       "<style scoped>\n",
       "    .dataframe tbody tr th:only-of-type {\n",
       "        vertical-align: middle;\n",
       "    }\n",
       "\n",
       "    .dataframe tbody tr th {\n",
       "        vertical-align: top;\n",
       "    }\n",
       "\n",
       "    .dataframe thead th {\n",
       "        text-align: right;\n",
       "    }\n",
       "</style>\n",
       "<table border=\"1\" class=\"dataframe\">\n",
       "  <thead>\n",
       "    <tr style=\"text-align: right;\">\n",
       "      <th></th>\n",
       "      <th>Pclass</th>\n",
       "      <th>Sex</th>\n",
       "      <th>Age</th>\n",
       "      <th>SibSp</th>\n",
       "      <th>Parch</th>\n",
       "      <th>Fare</th>\n",
       "      <th>Deck</th>\n",
       "      <th>C</th>\n",
       "      <th>Q</th>\n",
       "      <th>S</th>\n",
       "      <th>Survived</th>\n",
       "    </tr>\n",
       "    <tr>\n",
       "      <th>PassengerId</th>\n",
       "      <th></th>\n",
       "      <th></th>\n",
       "      <th></th>\n",
       "      <th></th>\n",
       "      <th></th>\n",
       "      <th></th>\n",
       "      <th></th>\n",
       "      <th></th>\n",
       "      <th></th>\n",
       "      <th></th>\n",
       "      <th></th>\n",
       "    </tr>\n",
       "  </thead>\n",
       "  <tbody>\n",
       "    <tr>\n",
       "      <th>892</th>\n",
       "      <td>3</td>\n",
       "      <td>1</td>\n",
       "      <td>34.5</td>\n",
       "      <td>0</td>\n",
       "      <td>0</td>\n",
       "      <td>7.8292</td>\n",
       "      <td>8</td>\n",
       "      <td>0</td>\n",
       "      <td>1</td>\n",
       "      <td>0</td>\n",
       "      <td>0</td>\n",
       "    </tr>\n",
       "    <tr>\n",
       "      <th>893</th>\n",
       "      <td>3</td>\n",
       "      <td>0</td>\n",
       "      <td>47.0</td>\n",
       "      <td>1</td>\n",
       "      <td>0</td>\n",
       "      <td>7.0000</td>\n",
       "      <td>8</td>\n",
       "      <td>0</td>\n",
       "      <td>0</td>\n",
       "      <td>1</td>\n",
       "      <td>0</td>\n",
       "    </tr>\n",
       "    <tr>\n",
       "      <th>894</th>\n",
       "      <td>2</td>\n",
       "      <td>1</td>\n",
       "      <td>62.0</td>\n",
       "      <td>0</td>\n",
       "      <td>0</td>\n",
       "      <td>9.6875</td>\n",
       "      <td>8</td>\n",
       "      <td>0</td>\n",
       "      <td>1</td>\n",
       "      <td>0</td>\n",
       "      <td>0</td>\n",
       "    </tr>\n",
       "    <tr>\n",
       "      <th>895</th>\n",
       "      <td>3</td>\n",
       "      <td>1</td>\n",
       "      <td>27.0</td>\n",
       "      <td>0</td>\n",
       "      <td>0</td>\n",
       "      <td>8.6625</td>\n",
       "      <td>8</td>\n",
       "      <td>0</td>\n",
       "      <td>0</td>\n",
       "      <td>1</td>\n",
       "      <td>0</td>\n",
       "    </tr>\n",
       "    <tr>\n",
       "      <th>896</th>\n",
       "      <td>3</td>\n",
       "      <td>0</td>\n",
       "      <td>22.0</td>\n",
       "      <td>1</td>\n",
       "      <td>1</td>\n",
       "      <td>12.2875</td>\n",
       "      <td>8</td>\n",
       "      <td>0</td>\n",
       "      <td>0</td>\n",
       "      <td>1</td>\n",
       "      <td>1</td>\n",
       "    </tr>\n",
       "  </tbody>\n",
       "</table>\n",
       "</div>"
      ],
      "text/plain": [
       "             Pclass  Sex   Age  SibSp  Parch     Fare  Deck  C  Q  S  Survived\n",
       "PassengerId                                                                   \n",
       "892               3    1  34.5      0      0   7.8292     8  0  1  0         0\n",
       "893               3    0  47.0      1      0   7.0000     8  0  0  1         0\n",
       "894               2    1  62.0      0      0   9.6875     8  0  1  0         0\n",
       "895               3    1  27.0      0      0   8.6625     8  0  0  1         0\n",
       "896               3    0  22.0      1      1  12.2875     8  0  0  1         1"
      ]
     },
     "execution_count": 117,
     "metadata": {},
     "output_type": "execute_result"
    }
   ],
   "source": [
    "results.head()"
   ]
  },
  {
   "cell_type": "markdown",
   "metadata": {
    "colab_type": "text",
    "id": "QiGZUdT0FGzv"
   },
   "source": [
    "#### 7-5E) Create a `submission.csv` file to be uploaded to Kaggle in the same format as the `gender_submission.csv` file that we submitted earlier.  \n",
    "*hint: Use Pandas to export `submission.csv` that only has 2 columns: `PassengerId` and `Survived`.*  \n",
    "*hint 2: Does Pandas automatically export the index to a csv file?*"
   ]
  },
  {
   "cell_type": "code",
   "execution_count": 118,
   "metadata": {},
   "outputs": [
    {
     "data": {
      "text/html": [
       "<div>\n",
       "<style scoped>\n",
       "    .dataframe tbody tr th:only-of-type {\n",
       "        vertical-align: middle;\n",
       "    }\n",
       "\n",
       "    .dataframe tbody tr th {\n",
       "        vertical-align: top;\n",
       "    }\n",
       "\n",
       "    .dataframe thead th {\n",
       "        text-align: right;\n",
       "    }\n",
       "</style>\n",
       "<table border=\"1\" class=\"dataframe\">\n",
       "  <thead>\n",
       "    <tr style=\"text-align: right;\">\n",
       "      <th></th>\n",
       "      <th>PassengerId</th>\n",
       "      <th>Pclass</th>\n",
       "      <th>Sex</th>\n",
       "      <th>Age</th>\n",
       "      <th>SibSp</th>\n",
       "      <th>Parch</th>\n",
       "      <th>Fare</th>\n",
       "      <th>Deck</th>\n",
       "      <th>C</th>\n",
       "      <th>Q</th>\n",
       "      <th>S</th>\n",
       "      <th>Survived</th>\n",
       "    </tr>\n",
       "  </thead>\n",
       "  <tbody>\n",
       "    <tr>\n",
       "      <th>0</th>\n",
       "      <td>892</td>\n",
       "      <td>3</td>\n",
       "      <td>1</td>\n",
       "      <td>34.5</td>\n",
       "      <td>0</td>\n",
       "      <td>0</td>\n",
       "      <td>7.8292</td>\n",
       "      <td>8</td>\n",
       "      <td>0</td>\n",
       "      <td>1</td>\n",
       "      <td>0</td>\n",
       "      <td>0</td>\n",
       "    </tr>\n",
       "    <tr>\n",
       "      <th>1</th>\n",
       "      <td>893</td>\n",
       "      <td>3</td>\n",
       "      <td>0</td>\n",
       "      <td>47.0</td>\n",
       "      <td>1</td>\n",
       "      <td>0</td>\n",
       "      <td>7.0000</td>\n",
       "      <td>8</td>\n",
       "      <td>0</td>\n",
       "      <td>0</td>\n",
       "      <td>1</td>\n",
       "      <td>0</td>\n",
       "    </tr>\n",
       "    <tr>\n",
       "      <th>2</th>\n",
       "      <td>894</td>\n",
       "      <td>2</td>\n",
       "      <td>1</td>\n",
       "      <td>62.0</td>\n",
       "      <td>0</td>\n",
       "      <td>0</td>\n",
       "      <td>9.6875</td>\n",
       "      <td>8</td>\n",
       "      <td>0</td>\n",
       "      <td>1</td>\n",
       "      <td>0</td>\n",
       "      <td>0</td>\n",
       "    </tr>\n",
       "    <tr>\n",
       "      <th>3</th>\n",
       "      <td>895</td>\n",
       "      <td>3</td>\n",
       "      <td>1</td>\n",
       "      <td>27.0</td>\n",
       "      <td>0</td>\n",
       "      <td>0</td>\n",
       "      <td>8.6625</td>\n",
       "      <td>8</td>\n",
       "      <td>0</td>\n",
       "      <td>0</td>\n",
       "      <td>1</td>\n",
       "      <td>0</td>\n",
       "    </tr>\n",
       "    <tr>\n",
       "      <th>4</th>\n",
       "      <td>896</td>\n",
       "      <td>3</td>\n",
       "      <td>0</td>\n",
       "      <td>22.0</td>\n",
       "      <td>1</td>\n",
       "      <td>1</td>\n",
       "      <td>12.2875</td>\n",
       "      <td>8</td>\n",
       "      <td>0</td>\n",
       "      <td>0</td>\n",
       "      <td>1</td>\n",
       "      <td>1</td>\n",
       "    </tr>\n",
       "    <tr>\n",
       "      <th>...</th>\n",
       "      <td>...</td>\n",
       "      <td>...</td>\n",
       "      <td>...</td>\n",
       "      <td>...</td>\n",
       "      <td>...</td>\n",
       "      <td>...</td>\n",
       "      <td>...</td>\n",
       "      <td>...</td>\n",
       "      <td>...</td>\n",
       "      <td>...</td>\n",
       "      <td>...</td>\n",
       "      <td>...</td>\n",
       "    </tr>\n",
       "    <tr>\n",
       "      <th>413</th>\n",
       "      <td>1305</td>\n",
       "      <td>3</td>\n",
       "      <td>1</td>\n",
       "      <td>25.0</td>\n",
       "      <td>0</td>\n",
       "      <td>0</td>\n",
       "      <td>8.0500</td>\n",
       "      <td>8</td>\n",
       "      <td>0</td>\n",
       "      <td>0</td>\n",
       "      <td>1</td>\n",
       "      <td>0</td>\n",
       "    </tr>\n",
       "    <tr>\n",
       "      <th>414</th>\n",
       "      <td>1306</td>\n",
       "      <td>1</td>\n",
       "      <td>0</td>\n",
       "      <td>39.0</td>\n",
       "      <td>0</td>\n",
       "      <td>0</td>\n",
       "      <td>108.9000</td>\n",
       "      <td>3</td>\n",
       "      <td>1</td>\n",
       "      <td>0</td>\n",
       "      <td>0</td>\n",
       "      <td>1</td>\n",
       "    </tr>\n",
       "    <tr>\n",
       "      <th>415</th>\n",
       "      <td>1307</td>\n",
       "      <td>3</td>\n",
       "      <td>1</td>\n",
       "      <td>38.5</td>\n",
       "      <td>0</td>\n",
       "      <td>0</td>\n",
       "      <td>7.2500</td>\n",
       "      <td>8</td>\n",
       "      <td>0</td>\n",
       "      <td>0</td>\n",
       "      <td>1</td>\n",
       "      <td>0</td>\n",
       "    </tr>\n",
       "    <tr>\n",
       "      <th>416</th>\n",
       "      <td>1308</td>\n",
       "      <td>3</td>\n",
       "      <td>1</td>\n",
       "      <td>25.0</td>\n",
       "      <td>0</td>\n",
       "      <td>0</td>\n",
       "      <td>8.0500</td>\n",
       "      <td>8</td>\n",
       "      <td>0</td>\n",
       "      <td>0</td>\n",
       "      <td>1</td>\n",
       "      <td>0</td>\n",
       "    </tr>\n",
       "    <tr>\n",
       "      <th>417</th>\n",
       "      <td>1309</td>\n",
       "      <td>3</td>\n",
       "      <td>1</td>\n",
       "      <td>25.0</td>\n",
       "      <td>1</td>\n",
       "      <td>1</td>\n",
       "      <td>22.3583</td>\n",
       "      <td>8</td>\n",
       "      <td>1</td>\n",
       "      <td>0</td>\n",
       "      <td>0</td>\n",
       "      <td>0</td>\n",
       "    </tr>\n",
       "  </tbody>\n",
       "</table>\n",
       "<p>418 rows × 12 columns</p>\n",
       "</div>"
      ],
      "text/plain": [
       "     PassengerId  Pclass  Sex   Age  SibSp  Parch      Fare  Deck  C  Q  S  \\\n",
       "0            892       3    1  34.5      0      0    7.8292     8  0  1  0   \n",
       "1            893       3    0  47.0      1      0    7.0000     8  0  0  1   \n",
       "2            894       2    1  62.0      0      0    9.6875     8  0  1  0   \n",
       "3            895       3    1  27.0      0      0    8.6625     8  0  0  1   \n",
       "4            896       3    0  22.0      1      1   12.2875     8  0  0  1   \n",
       "..           ...     ...  ...   ...    ...    ...       ...   ... .. .. ..   \n",
       "413         1305       3    1  25.0      0      0    8.0500     8  0  0  1   \n",
       "414         1306       1    0  39.0      0      0  108.9000     3  1  0  0   \n",
       "415         1307       3    1  38.5      0      0    7.2500     8  0  0  1   \n",
       "416         1308       3    1  25.0      0      0    8.0500     8  0  0  1   \n",
       "417         1309       3    1  25.0      1      1   22.3583     8  1  0  0   \n",
       "\n",
       "     Survived  \n",
       "0           0  \n",
       "1           0  \n",
       "2           0  \n",
       "3           0  \n",
       "4           1  \n",
       "..        ...  \n",
       "413         0  \n",
       "414         1  \n",
       "415         0  \n",
       "416         0  \n",
       "417         0  \n",
       "\n",
       "[418 rows x 12 columns]"
      ]
     },
     "execution_count": 118,
     "metadata": {},
     "output_type": "execute_result"
    }
   ],
   "source": [
    "results = results.reset_index()\n",
    "results"
   ]
  },
  {
   "cell_type": "code",
   "execution_count": 119,
   "metadata": {
    "colab": {},
    "colab_type": "code",
    "id": "MJI3XUNbqGfm"
   },
   "outputs": [],
   "source": [
    "results[['PassengerId','Survived']].to_csv('clinke1_submission.csv', index=False)"
   ]
  },
  {
   "cell_type": "markdown",
   "metadata": {
    "colab_type": "text",
    "id": "5EAFBR74AOYz"
   },
   "source": [
    "If you're running this notebook on Google Colab, uncomment the code in the cells below to download the file.  In Jupyter, just skip since it was downloaded above."
   ]
  },
  {
   "cell_type": "code",
   "execution_count": 120,
   "metadata": {
    "colab": {},
    "colab_type": "code",
    "id": "kxAEAL5bpBjF"
   },
   "outputs": [],
   "source": [
    "# from google.colab import files\n",
    "# files.download('submission.csv') "
   ]
  },
  {
   "cell_type": "markdown",
   "metadata": {
    "colab_type": "text",
    "id": "xgttOPTvZP2R"
   },
   "source": [
    "## Step 7-Final: Submit to Kaggle.com, Review Score, Final Considerations"
   ]
  },
  {
   "cell_type": "markdown",
   "metadata": {
    "colab_type": "text",
    "id": "LQ6UuWP6qGfn"
   },
   "source": [
    "#### Submit the `submission.csv` file to https://www.kaggle.com/c/titanic and see your score"
   ]
  },
  {
   "cell_type": "markdown",
   "metadata": {
    "colab_type": "text",
    "id": "MbBCa2o7ARsg"
   },
   "source": [
    "## CONGRATS ON COMPLETING YOUR FIRST MACHINE LEARNING KAGGLE COMPETITION!!\n",
    "The first of many to come"
   ]
  },
  {
   "cell_type": "markdown",
   "metadata": {
    "colab_type": "text",
    "id": "W7ZWB4gO8JH9"
   },
   "source": [
    "### Final Considerations:\n",
    "- Was your score better or worse than the original benchmark?\n",
    "- Is there anything you could do differently in the data wrangling to potentially improve results?\n",
    "- Play around with the Logistic Regression algorithm settings from step 5 to see if you can improve the forecasting ability\n",
    "- Get more familiar with the ML algorithm evaluation tests in step 6 (e.g. confusion matrix)\n",
    "- For a new challenge, try copying this notebook, and in step 5 swap out the Logistic Regression ML algorithm for Random Forest, which uses multiple methods combined and typically improves prediction results vs. a simple logistic regression.\n",
    "- For an even more advanced challenge down the line, copy the notebook and replace the ML algorithm in step 5 with a Neural Network.\n",
    "- But before moving on to a new ML algorithm, I recommend you continue to play around with this existing Logistic Regression notebook, to see if improvements to your data wrangling or logistic regression settings improve your results."
   ]
  }
 ],
 "metadata": {
  "colab": {
   "collapsed_sections": [
    "cUnOm_5Sq8GT",
    "71JBb8wUHpr8"
   ],
   "name": "Titanic_Kaggle_Template.ipynb",
   "private_outputs": true,
   "provenance": []
  },
  "kernelspec": {
   "display_name": "Python 3",
   "language": "python",
   "name": "python3"
  },
  "language_info": {
   "codemirror_mode": {
    "name": "ipython",
    "version": 3
   },
   "file_extension": ".py",
   "mimetype": "text/x-python",
   "name": "python",
   "nbconvert_exporter": "python",
   "pygments_lexer": "ipython3",
   "version": "3.7.6"
  }
 },
 "nbformat": 4,
 "nbformat_minor": 4
}
